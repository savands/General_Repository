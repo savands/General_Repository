{
  "cells": [
    {
      "cell_type": "markdown",
      "metadata": {
        "deletable": false,
        "editable": false,
        "id": "Ml1hmfXC_Zcs"
      },
      "source": [
        "## Часть 1 Первоначальный обзор данных"
      ]
    },
    {
      "cell_type": "markdown",
      "metadata": {
        "deletable": false,
        "editable": false,
        "id": "57eAOGIz_Zcs",
        "tags": [
          "start_task"
        ]
      },
      "source": [
        "Импортируем необходимую библиотеку"
      ]
    },
    {
      "cell_type": "code",
      "execution_count": null,
      "metadata": {
        "deletable": false,
        "id": "AXN7PHPN_Zcs"
      },
      "outputs": [],
      "source": [
        "import pandas as pd"
      ]
    },
    {
      "cell_type": "markdown",
      "metadata": {
        "deletable": false,
        "editable": false,
        "id": "SG23P8tt_Zcs",
        "tags": [
          "start_task"
        ]
      },
      "source": [
        "Прочитаем файл music_project.csv и сохраним его в переменной df."
      ]
    },
    {
      "cell_type": "code",
      "execution_count": null,
      "metadata": {
        "deletable": false,
        "id": "fFVu7vqh_Zct"
      },
      "outputs": [],
      "source": [
        "df = pd.read_csv('https://code.s3.yandex.net/datasets/yandex_music_project.csv')"
      ]
    },
    {
      "cell_type": "markdown",
      "metadata": {
        "deletable": false,
        "editable": false,
        "id": "rDoOMd3uTqnZ",
        "tags": [
          "start_task"
        ]
      },
      "source": [
        "Получим первые 10 строк таблицы."
      ]
    },
    {
      "cell_type": "code",
      "execution_count": null,
      "metadata": {
        "deletable": false,
        "id": "oWTVX3gW_Zct",
        "colab": {
          "base_uri": "https://localhost:8080/",
          "height": 363
        },
        "outputId": "963e2899-b607-4079-8747-5ee6aefddceb"
      },
      "outputs": [
        {
          "output_type": "execute_result",
          "data": {
            "text/plain": [
              "     userID                        Track            artist   genre  \\\n",
              "0  FFB692EC            Kamigata To Boots  The Mass Missile    rock   \n",
              "1  55204538  Delayed Because of Accident  Andreas Rönnberg    rock   \n",
              "2    20EC38            Funiculì funiculà       Mario Lanza     pop   \n",
              "3  A3DD03C9        Dragons in the Sunset        Fire + Ice    folk   \n",
              "4  E2DC1FAE                  Soul People        Space Echo   dance   \n",
              "5  842029A1                    Преданная         IMPERVTOR  rusrap   \n",
              "6  4CB90AA5                         True      Roman Messer   dance   \n",
              "7  F03E1C1F             Feeling This Way   Polina Griffith   dance   \n",
              "8  8FA1D3BE     И вновь продолжается бой               NaN  ruspop   \n",
              "9  E772D5C0                    Pessimist               NaN   dance   \n",
              "\n",
              "             City        time        Day  \n",
              "0  Saint-Petersburg  20:28:33  Wednesday  \n",
              "1            Moscow  14:07:09     Friday  \n",
              "2  Saint-Petersburg  20:58:07  Wednesday  \n",
              "3  Saint-Petersburg  08:37:09     Monday  \n",
              "4            Moscow  08:34:34     Monday  \n",
              "5  Saint-Petersburg  13:09:41     Friday  \n",
              "6            Moscow  13:00:07  Wednesday  \n",
              "7            Moscow  20:47:49  Wednesday  \n",
              "8            Moscow  09:17:40     Friday  \n",
              "9  Saint-Petersburg  21:20:49  Wednesday  "
            ],
            "text/html": [
              "\n",
              "\n",
              "  <div id=\"df-459b3aff-cbc9-4ca8-8696-3b4b5a2c452c\">\n",
              "    <div class=\"colab-df-container\">\n",
              "      <div>\n",
              "<style scoped>\n",
              "    .dataframe tbody tr th:only-of-type {\n",
              "        vertical-align: middle;\n",
              "    }\n",
              "\n",
              "    .dataframe tbody tr th {\n",
              "        vertical-align: top;\n",
              "    }\n",
              "\n",
              "    .dataframe thead th {\n",
              "        text-align: right;\n",
              "    }\n",
              "</style>\n",
              "<table border=\"1\" class=\"dataframe\">\n",
              "  <thead>\n",
              "    <tr style=\"text-align: right;\">\n",
              "      <th></th>\n",
              "      <th>userID</th>\n",
              "      <th>Track</th>\n",
              "      <th>artist</th>\n",
              "      <th>genre</th>\n",
              "      <th>City</th>\n",
              "      <th>time</th>\n",
              "      <th>Day</th>\n",
              "    </tr>\n",
              "  </thead>\n",
              "  <tbody>\n",
              "    <tr>\n",
              "      <th>0</th>\n",
              "      <td>FFB692EC</td>\n",
              "      <td>Kamigata To Boots</td>\n",
              "      <td>The Mass Missile</td>\n",
              "      <td>rock</td>\n",
              "      <td>Saint-Petersburg</td>\n",
              "      <td>20:28:33</td>\n",
              "      <td>Wednesday</td>\n",
              "    </tr>\n",
              "    <tr>\n",
              "      <th>1</th>\n",
              "      <td>55204538</td>\n",
              "      <td>Delayed Because of Accident</td>\n",
              "      <td>Andreas Rönnberg</td>\n",
              "      <td>rock</td>\n",
              "      <td>Moscow</td>\n",
              "      <td>14:07:09</td>\n",
              "      <td>Friday</td>\n",
              "    </tr>\n",
              "    <tr>\n",
              "      <th>2</th>\n",
              "      <td>20EC38</td>\n",
              "      <td>Funiculì funiculà</td>\n",
              "      <td>Mario Lanza</td>\n",
              "      <td>pop</td>\n",
              "      <td>Saint-Petersburg</td>\n",
              "      <td>20:58:07</td>\n",
              "      <td>Wednesday</td>\n",
              "    </tr>\n",
              "    <tr>\n",
              "      <th>3</th>\n",
              "      <td>A3DD03C9</td>\n",
              "      <td>Dragons in the Sunset</td>\n",
              "      <td>Fire + Ice</td>\n",
              "      <td>folk</td>\n",
              "      <td>Saint-Petersburg</td>\n",
              "      <td>08:37:09</td>\n",
              "      <td>Monday</td>\n",
              "    </tr>\n",
              "    <tr>\n",
              "      <th>4</th>\n",
              "      <td>E2DC1FAE</td>\n",
              "      <td>Soul People</td>\n",
              "      <td>Space Echo</td>\n",
              "      <td>dance</td>\n",
              "      <td>Moscow</td>\n",
              "      <td>08:34:34</td>\n",
              "      <td>Monday</td>\n",
              "    </tr>\n",
              "    <tr>\n",
              "      <th>5</th>\n",
              "      <td>842029A1</td>\n",
              "      <td>Преданная</td>\n",
              "      <td>IMPERVTOR</td>\n",
              "      <td>rusrap</td>\n",
              "      <td>Saint-Petersburg</td>\n",
              "      <td>13:09:41</td>\n",
              "      <td>Friday</td>\n",
              "    </tr>\n",
              "    <tr>\n",
              "      <th>6</th>\n",
              "      <td>4CB90AA5</td>\n",
              "      <td>True</td>\n",
              "      <td>Roman Messer</td>\n",
              "      <td>dance</td>\n",
              "      <td>Moscow</td>\n",
              "      <td>13:00:07</td>\n",
              "      <td>Wednesday</td>\n",
              "    </tr>\n",
              "    <tr>\n",
              "      <th>7</th>\n",
              "      <td>F03E1C1F</td>\n",
              "      <td>Feeling This Way</td>\n",
              "      <td>Polina Griffith</td>\n",
              "      <td>dance</td>\n",
              "      <td>Moscow</td>\n",
              "      <td>20:47:49</td>\n",
              "      <td>Wednesday</td>\n",
              "    </tr>\n",
              "    <tr>\n",
              "      <th>8</th>\n",
              "      <td>8FA1D3BE</td>\n",
              "      <td>И вновь продолжается бой</td>\n",
              "      <td>NaN</td>\n",
              "      <td>ruspop</td>\n",
              "      <td>Moscow</td>\n",
              "      <td>09:17:40</td>\n",
              "      <td>Friday</td>\n",
              "    </tr>\n",
              "    <tr>\n",
              "      <th>9</th>\n",
              "      <td>E772D5C0</td>\n",
              "      <td>Pessimist</td>\n",
              "      <td>NaN</td>\n",
              "      <td>dance</td>\n",
              "      <td>Saint-Petersburg</td>\n",
              "      <td>21:20:49</td>\n",
              "      <td>Wednesday</td>\n",
              "    </tr>\n",
              "  </tbody>\n",
              "</table>\n",
              "</div>\n",
              "      <button class=\"colab-df-convert\" onclick=\"convertToInteractive('df-459b3aff-cbc9-4ca8-8696-3b4b5a2c452c')\"\n",
              "              title=\"Convert this dataframe to an interactive table.\"\n",
              "              style=\"display:none;\">\n",
              "\n",
              "  <svg xmlns=\"http://www.w3.org/2000/svg\" height=\"24px\"viewBox=\"0 0 24 24\"\n",
              "       width=\"24px\">\n",
              "    <path d=\"M0 0h24v24H0V0z\" fill=\"none\"/>\n",
              "    <path d=\"M18.56 5.44l.94 2.06.94-2.06 2.06-.94-2.06-.94-.94-2.06-.94 2.06-2.06.94zm-11 1L8.5 8.5l.94-2.06 2.06-.94-2.06-.94L8.5 2.5l-.94 2.06-2.06.94zm10 10l.94 2.06.94-2.06 2.06-.94-2.06-.94-.94-2.06-.94 2.06-2.06.94z\"/><path d=\"M17.41 7.96l-1.37-1.37c-.4-.4-.92-.59-1.43-.59-.52 0-1.04.2-1.43.59L10.3 9.45l-7.72 7.72c-.78.78-.78 2.05 0 2.83L4 21.41c.39.39.9.59 1.41.59.51 0 1.02-.2 1.41-.59l7.78-7.78 2.81-2.81c.8-.78.8-2.07 0-2.86zM5.41 20L4 18.59l7.72-7.72 1.47 1.35L5.41 20z\"/>\n",
              "  </svg>\n",
              "      </button>\n",
              "\n",
              "\n",
              "\n",
              "    <div id=\"df-71d30788-2f2b-4a10-ac56-7cfa15a5bbc9\">\n",
              "      <button class=\"colab-df-quickchart\" onclick=\"quickchart('df-71d30788-2f2b-4a10-ac56-7cfa15a5bbc9')\"\n",
              "              title=\"Suggest charts.\"\n",
              "              style=\"display:none;\">\n",
              "\n",
              "<svg xmlns=\"http://www.w3.org/2000/svg\" height=\"24px\"viewBox=\"0 0 24 24\"\n",
              "     width=\"24px\">\n",
              "    <g>\n",
              "        <path d=\"M19 3H5c-1.1 0-2 .9-2 2v14c0 1.1.9 2 2 2h14c1.1 0 2-.9 2-2V5c0-1.1-.9-2-2-2zM9 17H7v-7h2v7zm4 0h-2V7h2v10zm4 0h-2v-4h2v4z\"/>\n",
              "    </g>\n",
              "</svg>\n",
              "      </button>\n",
              "    </div>\n",
              "\n",
              "<style>\n",
              "  .colab-df-quickchart {\n",
              "    background-color: #E8F0FE;\n",
              "    border: none;\n",
              "    border-radius: 50%;\n",
              "    cursor: pointer;\n",
              "    display: none;\n",
              "    fill: #1967D2;\n",
              "    height: 32px;\n",
              "    padding: 0 0 0 0;\n",
              "    width: 32px;\n",
              "  }\n",
              "\n",
              "  .colab-df-quickchart:hover {\n",
              "    background-color: #E2EBFA;\n",
              "    box-shadow: 0px 1px 2px rgba(60, 64, 67, 0.3), 0px 1px 3px 1px rgba(60, 64, 67, 0.15);\n",
              "    fill: #174EA6;\n",
              "  }\n",
              "\n",
              "  [theme=dark] .colab-df-quickchart {\n",
              "    background-color: #3B4455;\n",
              "    fill: #D2E3FC;\n",
              "  }\n",
              "\n",
              "  [theme=dark] .colab-df-quickchart:hover {\n",
              "    background-color: #434B5C;\n",
              "    box-shadow: 0px 1px 3px 1px rgba(0, 0, 0, 0.15);\n",
              "    filter: drop-shadow(0px 1px 2px rgba(0, 0, 0, 0.3));\n",
              "    fill: #FFFFFF;\n",
              "  }\n",
              "</style>\n",
              "\n",
              "    <script>\n",
              "      async function quickchart(key) {\n",
              "        const containerElement = document.querySelector('#' + key);\n",
              "        const charts = await google.colab.kernel.invokeFunction(\n",
              "            'suggestCharts', [key], {});\n",
              "      }\n",
              "    </script>\n",
              "\n",
              "      <script>\n",
              "\n",
              "function displayQuickchartButton(domScope) {\n",
              "  let quickchartButtonEl =\n",
              "    domScope.querySelector('#df-71d30788-2f2b-4a10-ac56-7cfa15a5bbc9 button.colab-df-quickchart');\n",
              "  quickchartButtonEl.style.display =\n",
              "    google.colab.kernel.accessAllowed ? 'block' : 'none';\n",
              "}\n",
              "\n",
              "        displayQuickchartButton(document);\n",
              "      </script>\n",
              "      <style>\n",
              "    .colab-df-container {\n",
              "      display:flex;\n",
              "      flex-wrap:wrap;\n",
              "      gap: 12px;\n",
              "    }\n",
              "\n",
              "    .colab-df-convert {\n",
              "      background-color: #E8F0FE;\n",
              "      border: none;\n",
              "      border-radius: 50%;\n",
              "      cursor: pointer;\n",
              "      display: none;\n",
              "      fill: #1967D2;\n",
              "      height: 32px;\n",
              "      padding: 0 0 0 0;\n",
              "      width: 32px;\n",
              "    }\n",
              "\n",
              "    .colab-df-convert:hover {\n",
              "      background-color: #E2EBFA;\n",
              "      box-shadow: 0px 1px 2px rgba(60, 64, 67, 0.3), 0px 1px 3px 1px rgba(60, 64, 67, 0.15);\n",
              "      fill: #174EA6;\n",
              "    }\n",
              "\n",
              "    [theme=dark] .colab-df-convert {\n",
              "      background-color: #3B4455;\n",
              "      fill: #D2E3FC;\n",
              "    }\n",
              "\n",
              "    [theme=dark] .colab-df-convert:hover {\n",
              "      background-color: #434B5C;\n",
              "      box-shadow: 0px 1px 3px 1px rgba(0, 0, 0, 0.15);\n",
              "      filter: drop-shadow(0px 1px 2px rgba(0, 0, 0, 0.3));\n",
              "      fill: #FFFFFF;\n",
              "    }\n",
              "  </style>\n",
              "\n",
              "      <script>\n",
              "        const buttonEl =\n",
              "          document.querySelector('#df-459b3aff-cbc9-4ca8-8696-3b4b5a2c452c button.colab-df-convert');\n",
              "        buttonEl.style.display =\n",
              "          google.colab.kernel.accessAllowed ? 'block' : 'none';\n",
              "\n",
              "        async function convertToInteractive(key) {\n",
              "          const element = document.querySelector('#df-459b3aff-cbc9-4ca8-8696-3b4b5a2c452c');\n",
              "          const dataTable =\n",
              "            await google.colab.kernel.invokeFunction('convertToInteractive',\n",
              "                                                     [key], {});\n",
              "          if (!dataTable) return;\n",
              "\n",
              "          const docLinkHtml = 'Like what you see? Visit the ' +\n",
              "            '<a target=\"_blank\" href=https://colab.research.google.com/notebooks/data_table.ipynb>data table notebook</a>'\n",
              "            + ' to learn more about interactive tables.';\n",
              "          element.innerHTML = '';\n",
              "          dataTable['output_type'] = 'display_data';\n",
              "          await google.colab.output.renderOutput(dataTable, element);\n",
              "          const docLink = document.createElement('div');\n",
              "          docLink.innerHTML = docLinkHtml;\n",
              "          element.appendChild(docLink);\n",
              "        }\n",
              "      </script>\n",
              "    </div>\n",
              "  </div>\n"
            ]
          },
          "metadata": {},
          "execution_count": 42
        }
      ],
      "source": [
        "df.head(10)"
      ]
    },
    {
      "cell_type": "markdown",
      "metadata": {
        "deletable": false,
        "editable": false,
        "id": "EO73Kwic_Zct",
        "tags": [
          "start_task"
        ]
      },
      "source": [
        "Проверим общую информацию о датасете:"
      ]
    },
    {
      "cell_type": "code",
      "execution_count": null,
      "metadata": {
        "deletable": false,
        "id": "DSf2kIb-_Zct",
        "colab": {
          "base_uri": "https://localhost:8080/"
        },
        "outputId": "24c31b41-3094-4d90-caab-17b9ea8ad333"
      },
      "outputs": [
        {
          "output_type": "stream",
          "name": "stdout",
          "text": [
            "<class 'pandas.core.frame.DataFrame'>\n",
            "RangeIndex: 65079 entries, 0 to 65078\n",
            "Data columns (total 7 columns):\n",
            " #   Column    Non-Null Count  Dtype \n",
            "---  ------    --------------  ----- \n",
            " 0     userID  65079 non-null  object\n",
            " 1   Track     63848 non-null  object\n",
            " 2   artist    57876 non-null  object\n",
            " 3   genre     63881 non-null  object\n",
            " 4     City    65079 non-null  object\n",
            " 5   time      65079 non-null  object\n",
            " 6   Day       65079 non-null  object\n",
            "dtypes: object(7)\n",
            "memory usage: 3.5+ MB\n"
          ]
        }
      ],
      "source": [
        "df.info()"
      ]
    },
    {
      "cell_type": "markdown",
      "metadata": {
        "deletable": false,
        "editable": false,
        "id": "TaQ2Iwbr_Zct"
      },
      "source": [
        "Итак, в таблице семь столбцов. Тип данных во всех столбцах — `object`.\n",
        "\n",
        "Согласно документации к данным:\n",
        "* — идентификатор пользователя;\n",
        "*  — название трека;  \n",
        "*  — имя исполнителя;\n",
        "*  — название жанра;\n",
        "* — город пользователя;\n",
        "*  — время начала прослушивания;\n",
        "*  — день недели.\n",
        "\n",
        "Количество значений в столбцах различается. Значит, в данных есть пропущенные значения."
      ]
    },
    {
      "cell_type": "markdown",
      "source": [
        "Ещё одна проблема — в названиях столбцов нет нижних подчёркиваний. Такие названия не соответствуют «змеиному_регистру»."
      ],
      "metadata": {
        "id": "N7h0eC9XnTyD"
      }
    },
    {
      "cell_type": "markdown",
      "metadata": {
        "deletable": false,
        "editable": false,
        "id": "MCB6-dXG_Zct"
      },
      "source": [
        "## Выводы по первичному обзору данных:\n",
        "\n",
        "В каждой строке таблицы — данные о прослушанном треке. Часть колонок описывает саму композицию: название, исполнителя и жанр. Остальные данные рассказывают о пользователе: из какого он города, когда он слушал музыку.\n",
        "\n",
        "Предварительно можно утверждать, что данных достаточно для проверки гипотез. Но встречаются пропуски в данных, а в названиях колонок — расхождения с хорошим стилем.\n",
        "\n",
        "Чтобы двигаться дальше, нужно устранить проблемы в данных."
      ]
    },
    {
      "cell_type": "markdown",
      "metadata": {
        "deletable": false,
        "editable": false,
        "id": "SjYF6Ub9_Zct"
      },
      "source": [
        "## Часть 2 Предобработка данных\n"
      ]
    },
    {
      "cell_type": "markdown",
      "metadata": {
        "deletable": false,
        "editable": false,
        "id": "dIaKXr29_Zct",
        "tags": [
          "start_task"
        ]
      },
      "source": [
        "Выведем на экран названия столбцов:"
      ]
    },
    {
      "cell_type": "code",
      "execution_count": null,
      "metadata": {
        "deletable": false,
        "id": "oKOTdF_Q_Zct",
        "colab": {
          "base_uri": "https://localhost:8080/"
        },
        "outputId": "71040d0f-fbcd-45ac-8c2d-09547a13d3a8"
      },
      "outputs": [
        {
          "output_type": "stream",
          "name": "stdout",
          "text": [
            "Index(['  userID', 'Track', 'artist', 'genre', '  City  ', 'time', 'Day'], dtype='object')\n"
          ]
        }
      ],
      "source": [
        "print(df.columns)# перечень названий столбцов таблицы df"
      ]
    },
    {
      "cell_type": "markdown",
      "metadata": {
        "deletable": false,
        "editable": false,
        "id": "zj5534cv_Zct",
        "tags": [
          "start_task"
        ]
      },
      "source": [
        "Приведем названия в соответствие со змеиным_регистром"
      ]
    },
    {
      "cell_type": "code",
      "execution_count": null,
      "metadata": {
        "deletable": false,
        "id": "ISlFqs5y_Zct",
        "colab": {
          "base_uri": "https://localhost:8080/"
        },
        "outputId": "d5368baa-6a86-47b1-ed3a-7cf16be059a0"
      },
      "outputs": [
        {
          "output_type": "stream",
          "name": "stdout",
          "text": [
            "Index(['user_id', 'track', 'artist', 'genre', 'city', 'time', 'day'], dtype='object')\n"
          ]
        }
      ],
      "source": [
        "df = df.rename(columns = {'  userID' : 'user_id','Track' : 'track','  City  ':'city','Day':'day'})\n",
        "\n",
        "print(df.columns)# проверка результатов - перечень названий столбцов"
      ]
    },
    {
      "cell_type": "markdown",
      "metadata": {
        "deletable": false,
        "editable": false,
        "id": "5ISfbcfY_Zct",
        "tags": [
          "start_task"
        ]
      },
      "source": [
        "Посчитаем пропуски в столбцах:"
      ]
    },
    {
      "cell_type": "code",
      "execution_count": null,
      "metadata": {
        "deletable": false,
        "id": "RskX29qr_Zct",
        "colab": {
          "base_uri": "https://localhost:8080/"
        },
        "outputId": "37ef7211-10ad-4582-87c1-c77e1ce0c6c7"
      },
      "outputs": [
        {
          "output_type": "execute_result",
          "data": {
            "text/plain": [
              "user_id       0\n",
              "track      1231\n",
              "artist     7203\n",
              "genre      1198\n",
              "city          0\n",
              "time          0\n",
              "day           0\n",
              "dtype: int64"
            ]
          },
          "metadata": {},
          "execution_count": 46
        }
      ],
      "source": [
        "df.isna().sum()"
      ]
    },
    {
      "cell_type": "markdown",
      "metadata": {
        "deletable": false,
        "editable": false,
        "id": "qubhgnlO_Zct"
      },
      "source": [
        "Не все пропущенные значения влияют на исследование. Так в `track` и `artist` пропуски не важны для нашей работы. Заменим их явными обозначениями.\n",
        "\n",
        "Но пропуски в `genre` могут помешать сравнению музыкальных вкусов в Москве и Санкт-Петербурге. Такая возможность у нас отсутствует. В дальнейшем:\n",
        "* заполним и эти пропуски явными обозначениями;\n",
        "* оценим, насколько они повредят расчётам."
      ]
    },
    {
      "cell_type": "markdown",
      "metadata": {
        "deletable": false,
        "editable": false,
        "id": "fSv2laPA_Zct",
        "tags": [
          "start_task"
        ]
      },
      "source": [
        "Заменим пропущенные значения в столбцах `track`, `artist` и `genre` на строку `'unknown'`. Для этого создадим список `columns_to_replace`, переберем его элементы циклом `for` и для каждого столбца выполним замену пропущенных значений:"
      ]
    },
    {
      "cell_type": "code",
      "execution_count": null,
      "metadata": {
        "deletable": false,
        "id": "KplB5qWs_Zct"
      },
      "outputs": [],
      "source": [
        "columns_to_replace = [['track'],['artist'], ['genre']]\n",
        "for column in columns_to_replace:\n",
        "    df[column] = df[column].fillna('unknown')"
      ]
    },
    {
      "cell_type": "markdown",
      "metadata": {
        "deletable": false,
        "editable": false,
        "id": "Ilsm-MZo_Zct",
        "tags": [
          "start_task"
        ]
      },
      "source": [
        "Убедимся, что в таблице не осталось пропусков."
      ]
    },
    {
      "cell_type": "code",
      "execution_count": null,
      "metadata": {
        "deletable": false,
        "id": "Tq4nYRX4_Zct",
        "colab": {
          "base_uri": "https://localhost:8080/"
        },
        "outputId": "321f09bb-7ff0-4525-af2a-983efb2f1e50"
      },
      "outputs": [
        {
          "output_type": "execute_result",
          "data": {
            "text/plain": [
              "user_id    0\n",
              "track      0\n",
              "artist     0\n",
              "genre      0\n",
              "city       0\n",
              "time       0\n",
              "day        0\n",
              "dtype: int64"
            ]
          },
          "metadata": {},
          "execution_count": 76
        }
      ],
      "source": [
        "df.isna().sum()"
      ]
    },
    {
      "cell_type": "markdown",
      "metadata": {
        "deletable": false,
        "editable": false,
        "id": "BWKRtBJ3_Zct",
        "tags": [
          "start_task"
        ]
      },
      "source": [
        "Проверим явные дубликаты в таблице:"
      ]
    },
    {
      "cell_type": "code",
      "execution_count": null,
      "metadata": {
        "deletable": false,
        "id": "36eES_S0_Zct",
        "colab": {
          "base_uri": "https://localhost:8080/"
        },
        "outputId": "35c1e7b8-0237-4437-c06d-f03996dcfefe"
      },
      "outputs": [
        {
          "output_type": "execute_result",
          "data": {
            "text/plain": [
              "0"
            ]
          },
          "metadata": {},
          "execution_count": 77
        }
      ],
      "source": [
        "df.duplicated().sum()"
      ]
    },
    {
      "cell_type": "markdown",
      "metadata": {
        "deletable": false,
        "editable": false,
        "id": "Ot25h6XR_Zct",
        "tags": [
          "start_task"
        ]
      },
      "source": [
        "Удаляем дубликаты:"
      ]
    },
    {
      "cell_type": "code",
      "execution_count": null,
      "metadata": {
        "deletable": false,
        "id": "exFHq6tt_Zct"
      },
      "outputs": [],
      "source": [
        "df = df.drop_duplicates()"
      ]
    },
    {
      "cell_type": "markdown",
      "metadata": {
        "deletable": false,
        "editable": false,
        "id": "Im2YwBEG_Zct",
        "tags": [
          "start_task"
        ]
      },
      "source": [
        "Проверяем удаление:"
      ]
    },
    {
      "cell_type": "code",
      "execution_count": null,
      "metadata": {
        "deletable": false,
        "id": "-8PuNWQ0_Zct",
        "colab": {
          "base_uri": "https://localhost:8080/"
        },
        "outputId": "fe0c8721-82a0-457f-ccf8-9c10044a2db5"
      },
      "outputs": [
        {
          "output_type": "execute_result",
          "data": {
            "text/plain": [
              "0"
            ]
          },
          "metadata": {},
          "execution_count": 51
        }
      ],
      "source": [
        "df.duplicated().sum()"
      ]
    },
    {
      "cell_type": "markdown",
      "metadata": {
        "deletable": false,
        "editable": false,
        "id": "QlFBsxAr_Zct"
      },
      "source": [
        "Теперь проверим и избавимся от неявных дубликатов:"
      ]
    },
    {
      "cell_type": "code",
      "execution_count": null,
      "metadata": {
        "deletable": false,
        "id": "JIUcqzZN_Zct",
        "colab": {
          "base_uri": "https://localhost:8080/"
        },
        "outputId": "f0399b39-d13e-4b1a-80db-6a70bb4cb6e2"
      },
      "outputs": [
        {
          "output_type": "execute_result",
          "data": {
            "text/plain": [
              "array(['acid', 'acoustic', 'action', 'adult', 'africa', 'afrikaans',\n",
              "       'alternative', 'alternativepunk', 'ambient', 'americana',\n",
              "       'animated', 'anime', 'arabesk', 'arabic', 'arena',\n",
              "       'argentinetango', 'art', 'audiobook', 'author', 'avantgarde',\n",
              "       'axé', 'baile', 'balkan', 'beats', 'bigroom', 'black', 'bluegrass',\n",
              "       'blues', 'bollywood', 'bossa', 'brazilian', 'breakbeat', 'breaks',\n",
              "       'broadway', 'cantautori', 'cantopop', 'canzone', 'caribbean',\n",
              "       'caucasian', 'celtic', 'chamber', 'chanson', 'children', 'chill',\n",
              "       'chinese', 'choral', 'christian', 'christmas', 'classical',\n",
              "       'classicmetal', 'club', 'colombian', 'comedy', 'conjazz',\n",
              "       'contemporary', 'country', 'cuban', 'dance', 'dancehall',\n",
              "       'dancepop', 'dark', 'death', 'deep', 'deutschrock', 'deutschspr',\n",
              "       'dirty', 'disco', 'dnb', 'documentary', 'downbeat', 'downtempo',\n",
              "       'drum', 'dub', 'dubstep', 'eastern', 'easy', 'electronic',\n",
              "       'electropop', 'emo', 'entehno', 'epicmetal', 'estrada', 'ethnic',\n",
              "       'eurofolk', 'european', 'experimental', 'extrememetal', 'fado',\n",
              "       'fairytail', 'film', 'fitness', 'flamenco', 'folk', 'folklore',\n",
              "       'folkmetal', 'folkrock', 'folktronica', 'forró', 'frankreich',\n",
              "       'französisch', 'french', 'funk', 'future', 'gangsta', 'garage',\n",
              "       'german', 'ghazal', 'gitarre', 'glitch', 'gospel', 'gothic',\n",
              "       'grime', 'grunge', 'gypsy', 'handsup', \"hard'n'heavy\", 'hardcore',\n",
              "       'hardstyle', 'hardtechno', 'hip', 'hip-hop', 'hiphop',\n",
              "       'historisch', 'holiday', 'hop', 'horror', 'house', 'hymn', 'idm',\n",
              "       'independent', 'indian', 'indie', 'indipop', 'industrial',\n",
              "       'inspirational', 'instrumental', 'international', 'irish', 'jam',\n",
              "       'japanese', 'jazz', 'jewish', 'jpop', 'jungle', 'k-pop',\n",
              "       'karadeniz', 'karaoke', 'kayokyoku', 'korean', 'laiko', 'latin',\n",
              "       'latino', 'leftfield', 'local', 'lounge', 'loungeelectronic',\n",
              "       'lovers', 'malaysian', 'mandopop', 'marschmusik', 'meditative',\n",
              "       'mediterranean', 'melodic', 'metal', 'metalcore', 'mexican',\n",
              "       'middle', 'minimal', 'miscellaneous', 'modern', 'mood', 'mpb',\n",
              "       'muslim', 'native', 'neoklassik', 'neue', 'new', 'newage',\n",
              "       'newwave', 'nu', 'nujazz', 'numetal', 'oceania', 'old', 'opera',\n",
              "       'orchestral', 'other', 'piano', 'podcasts', 'pop', 'popdance',\n",
              "       'popelectronic', 'popeurodance', 'poprussian', 'post',\n",
              "       'posthardcore', 'postrock', 'power', 'progmetal', 'progressive',\n",
              "       'psychedelic', 'punjabi', 'punk', 'quebecois', 'ragga', 'ram',\n",
              "       'rancheras', 'rap', 'rave', 'reggae', 'reggaeton', 'regional',\n",
              "       'relax', 'religious', 'retro', 'rhythm', 'rnb', 'rnr', 'rock',\n",
              "       'rockabilly', 'rockalternative', 'rockindie', 'rockother',\n",
              "       'romance', 'roots', 'ruspop', 'rusrap', 'rusrock', 'russian',\n",
              "       'salsa', 'samba', 'scenic', 'schlager', 'self', 'sertanejo',\n",
              "       'shanson', 'shoegazing', 'showtunes', 'singer', 'ska', 'skarock',\n",
              "       'slow', 'smooth', 'soft', 'soul', 'soulful', 'sound', 'soundtrack',\n",
              "       'southern', 'specialty', 'speech', 'spiritual', 'sport',\n",
              "       'stonerrock', 'surf', 'swing', 'synthpop', 'synthrock',\n",
              "       'sängerportrait', 'tango', 'tanzorchester', 'taraftar', 'tatar',\n",
              "       'tech', 'techno', 'teen', 'thrash', 'top', 'traditional',\n",
              "       'tradjazz', 'trance', 'tribal', 'trip', 'triphop', 'tropical',\n",
              "       'türk', 'türkçe', 'ukrrock', 'unknown', 'urban', 'uzbek',\n",
              "       'variété', 'vi', 'videogame', 'vocal', 'western', 'world',\n",
              "       'worldbeat', 'ïîï', 'электроника'], dtype=object)"
            ]
          },
          "metadata": {},
          "execution_count": 52
        }
      ],
      "source": [
        "df['genre'].sort_values().unique()# просмотр уникальных названий жанров"
      ]
    },
    {
      "cell_type": "markdown",
      "metadata": {
        "deletable": false,
        "editable": false,
        "id": "qej-Qmuo_Zct",
        "tags": [
          "start_task"
        ]
      },
      "source": [
        "Выявлены неявные дубликаты:\n",
        "\n",
        "* *hip*,\n",
        "* *hop*,\n",
        "* *hip-hop*.\n",
        "\n",
        "Оставим в таблице только значение 'hiphop'"
      ]
    },
    {
      "cell_type": "code",
      "execution_count": null,
      "metadata": {
        "deletable": false,
        "id": "ErNDkmns_Zct"
      },
      "outputs": [],
      "source": [
        "duplicates = ['hip','hop','hip-hop']\n",
        "\n",
        "genre = 'hiphop'\n",
        "\n",
        "df['genre'] = df['genre'].replace(duplicates, genre)"
      ]
    },
    {
      "cell_type": "markdown",
      "metadata": {
        "deletable": false,
        "editable": false,
        "id": "zQKF16_RG15m",
        "tags": [
          "start_task"
        ]
      },
      "source": [
        "\n",
        "\n",
        "```\n",
        "# Выбран кодовый формат\n",
        "```\n",
        "\n",
        "Проверим изменения, что заменили неправильные названия:"
      ]
    },
    {
      "cell_type": "code",
      "execution_count": null,
      "metadata": {
        "deletable": false,
        "id": "wvixALnFG15m",
        "colab": {
          "base_uri": "https://localhost:8080/"
        },
        "outputId": "ae4c2771-59aa-4bfd-dc1b-ccc1d9f88f36"
      },
      "outputs": [
        {
          "output_type": "execute_result",
          "data": {
            "text/plain": [
              "array(['acid', 'acoustic', 'action', 'adult', 'africa', 'afrikaans',\n",
              "       'alternative', 'alternativepunk', 'ambient', 'americana',\n",
              "       'animated', 'anime', 'arabesk', 'arabic', 'arena',\n",
              "       'argentinetango', 'art', 'audiobook', 'author', 'avantgarde',\n",
              "       'axé', 'baile', 'balkan', 'beats', 'bigroom', 'black', 'bluegrass',\n",
              "       'blues', 'bollywood', 'bossa', 'brazilian', 'breakbeat', 'breaks',\n",
              "       'broadway', 'cantautori', 'cantopop', 'canzone', 'caribbean',\n",
              "       'caucasian', 'celtic', 'chamber', 'chanson', 'children', 'chill',\n",
              "       'chinese', 'choral', 'christian', 'christmas', 'classical',\n",
              "       'classicmetal', 'club', 'colombian', 'comedy', 'conjazz',\n",
              "       'contemporary', 'country', 'cuban', 'dance', 'dancehall',\n",
              "       'dancepop', 'dark', 'death', 'deep', 'deutschrock', 'deutschspr',\n",
              "       'dirty', 'disco', 'dnb', 'documentary', 'downbeat', 'downtempo',\n",
              "       'drum', 'dub', 'dubstep', 'eastern', 'easy', 'electronic',\n",
              "       'electropop', 'emo', 'entehno', 'epicmetal', 'estrada', 'ethnic',\n",
              "       'eurofolk', 'european', 'experimental', 'extrememetal', 'fado',\n",
              "       'fairytail', 'film', 'fitness', 'flamenco', 'folk', 'folklore',\n",
              "       'folkmetal', 'folkrock', 'folktronica', 'forró', 'frankreich',\n",
              "       'französisch', 'french', 'funk', 'future', 'gangsta', 'garage',\n",
              "       'german', 'ghazal', 'gitarre', 'glitch', 'gospel', 'gothic',\n",
              "       'grime', 'grunge', 'gypsy', 'handsup', \"hard'n'heavy\", 'hardcore',\n",
              "       'hardstyle', 'hardtechno', 'hiphop', 'historisch', 'holiday',\n",
              "       'horror', 'house', 'hymn', 'idm', 'independent', 'indian', 'indie',\n",
              "       'indipop', 'industrial', 'inspirational', 'instrumental',\n",
              "       'international', 'irish', 'jam', 'japanese', 'jazz', 'jewish',\n",
              "       'jpop', 'jungle', 'k-pop', 'karadeniz', 'karaoke', 'kayokyoku',\n",
              "       'korean', 'laiko', 'latin', 'latino', 'leftfield', 'local',\n",
              "       'lounge', 'loungeelectronic', 'lovers', 'malaysian', 'mandopop',\n",
              "       'marschmusik', 'meditative', 'mediterranean', 'melodic', 'metal',\n",
              "       'metalcore', 'mexican', 'middle', 'minimal', 'miscellaneous',\n",
              "       'modern', 'mood', 'mpb', 'muslim', 'native', 'neoklassik', 'neue',\n",
              "       'new', 'newage', 'newwave', 'nu', 'nujazz', 'numetal', 'oceania',\n",
              "       'old', 'opera', 'orchestral', 'other', 'piano', 'podcasts', 'pop',\n",
              "       'popdance', 'popelectronic', 'popeurodance', 'poprussian', 'post',\n",
              "       'posthardcore', 'postrock', 'power', 'progmetal', 'progressive',\n",
              "       'psychedelic', 'punjabi', 'punk', 'quebecois', 'ragga', 'ram',\n",
              "       'rancheras', 'rap', 'rave', 'reggae', 'reggaeton', 'regional',\n",
              "       'relax', 'religious', 'retro', 'rhythm', 'rnb', 'rnr', 'rock',\n",
              "       'rockabilly', 'rockalternative', 'rockindie', 'rockother',\n",
              "       'romance', 'roots', 'ruspop', 'rusrap', 'rusrock', 'russian',\n",
              "       'salsa', 'samba', 'scenic', 'schlager', 'self', 'sertanejo',\n",
              "       'shanson', 'shoegazing', 'showtunes', 'singer', 'ska', 'skarock',\n",
              "       'slow', 'smooth', 'soft', 'soul', 'soulful', 'sound', 'soundtrack',\n",
              "       'southern', 'specialty', 'speech', 'spiritual', 'sport',\n",
              "       'stonerrock', 'surf', 'swing', 'synthpop', 'synthrock',\n",
              "       'sängerportrait', 'tango', 'tanzorchester', 'taraftar', 'tatar',\n",
              "       'tech', 'techno', 'teen', 'thrash', 'top', 'traditional',\n",
              "       'tradjazz', 'trance', 'tribal', 'trip', 'triphop', 'tropical',\n",
              "       'türk', 'türkçe', 'ukrrock', 'unknown', 'urban', 'uzbek',\n",
              "       'variété', 'vi', 'videogame', 'vocal', 'western', 'world',\n",
              "       'worldbeat', 'ïîï', 'электроника'], dtype=object)"
            ]
          },
          "metadata": {},
          "execution_count": 79
        }
      ],
      "source": [
        "df['genre'].sort_values().unique()"
      ]
    },
    {
      "cell_type": "markdown",
      "metadata": {
        "deletable": false,
        "editable": false,
        "id": "jz6a9-7HQUDd"
      },
      "source": [
        "**Выводы**\n",
        "\n",
        "Предобработка обнаружила три проблемы в данных:\n",
        "\n",
        "- нарушения в стиле заголовков,\n",
        "- пропущенные значения,\n",
        "- дубликаты — явные и неявные.\n",
        "\n",
        "Мы исправили заголовки, чтобы упростить работу с таблицей. Без дубликатов исследование станет более точным.\n",
        "\n",
        "Пропущенные значения мы заменили на `'unknown'`. Ещё предстоит увидеть, не повредят ли исследованию пропуски в колонке `genre`.\n",
        "\n",
        "Теперь можно перейти к проверке гипотез."
      ]
    },
    {
      "cell_type": "markdown",
      "metadata": {
        "deletable": false,
        "editable": false,
        "id": "Im936VVi_Zcu"
      },
      "source": [
        "## Часть 3 Сравнение поведения пользователей двух столиц"
      ]
    },
    {
      "cell_type": "markdown",
      "metadata": {
        "deletable": false,
        "editable": false,
        "id": "nwt_MuaL_Zcu"
      },
      "source": [
        "Первая гипотеза утверждает, что пользователи по-разному слушают музыку в Москве и Санкт-Петербурге. Проверим это предположение по данным о трёх днях недели — понедельнике, среде и пятнице. Для этого:\n",
        "\n",
        "* Разделим пользователей Москвы и Санкт-Петербурга.\n",
        "* Сравним, сколько треков послушала каждая группа пользователей в понедельник, среду и пятницу.\n"
      ]
    },
    {
      "cell_type": "markdown",
      "metadata": {
        "deletable": false,
        "editable": false,
        "id": "8Dw_YMmT_Zcu",
        "tags": [
          "start_task"
        ]
      },
      "source": [
        "Сгруппируем данные по городу и посчитаем прослушивания в каждой группе.\n",
        "\n"
      ]
    },
    {
      "cell_type": "code",
      "execution_count": null,
      "metadata": {
        "deletable": false,
        "id": "0_Qs96oh_Zcu",
        "colab": {
          "base_uri": "https://localhost:8080/"
        },
        "outputId": "4b3a0b0c-3689-4c1c-e500-98c0cd18e9f1"
      },
      "outputs": [
        {
          "output_type": "execute_result",
          "data": {
            "text/plain": [
              "city\n",
              "Moscow              42741\n",
              "Saint-Petersburg    18512\n",
              "Name: genre, dtype: int64"
            ]
          },
          "metadata": {},
          "execution_count": 55
        }
      ],
      "source": [
        "df.groupby('city')['genre'].count()"
      ]
    },
    {
      "cell_type": "markdown",
      "metadata": {
        "deletable": false,
        "editable": false,
        "id": "dzli3w8o_Zcu",
        "tags": [
          "start_task"
        ]
      },
      "source": [
        "В Москве прослушиваний больше, чем в Петербурге. Из этого не следует, что московские пользователи чаще слушают музыку. Просто самих пользователей в Москве больше.\n",
        "\n",
        "Посчитаем прослушивания в понедельник, среду и пятницу."
      ]
    },
    {
      "cell_type": "code",
      "execution_count": null,
      "metadata": {
        "deletable": false,
        "id": "uZMKjiJz_Zcu",
        "colab": {
          "base_uri": "https://localhost:8080/"
        },
        "outputId": "1d623855-7186-4d94-be25-4d7a6e2231af"
      },
      "outputs": [
        {
          "output_type": "execute_result",
          "data": {
            "text/plain": [
              "day\n",
              "Friday       21840\n",
              "Monday       21354\n",
              "Wednesday    18059\n",
              "Name: genre, dtype: int64"
            ]
          },
          "metadata": {},
          "execution_count": 56
        }
      ],
      "source": [
        "df.groupby('day')['genre'].count() # Подсчёт прослушиваний в каждый из трёх дней"
      ]
    },
    {
      "cell_type": "markdown",
      "metadata": {
        "deletable": false,
        "editable": false,
        "id": "cC2tNrlL_Zcu"
      },
      "source": [
        "В среднем пользователи из двух городов менее активны по средам. Но картина может измениться, если рассмотреть каждый город в отдельности."
      ]
    },
    {
      "cell_type": "markdown",
      "metadata": {
        "deletable": false,
        "editable": false,
        "id": "POzs8bGa_Zcu",
        "tags": [
          "start_task"
        ]
      },
      "source": [
        "Создадим функцию number_tracks(), которая принимает как параметры таблицу, день недели и название города, а возвращает количество прослушанных композиций, для которых известен жанр. Проверяем количество прослушанных композиций для каждого города и понедельника, затем среды и пятницы."
      ]
    },
    {
      "cell_type": "code",
      "execution_count": null,
      "metadata": {
        "deletable": false,
        "id": "Nz3GdQB1_Zcu"
      },
      "outputs": [],
      "source": [
        "# Объявим функция с двумя параметрами: day, city.\n",
        "# В переменной track_list сохраняются те строки таблицы df, для которых\n",
        "# значение в столбце 'day' равно параметру day и одновременно значение\n",
        "# в столбце 'city' равно параметру city (используем последовательную фильтрацию\n",
        "# с помощью логической индексации).\n",
        "# В переменной track_list_count сохраняется число значений столбца 'user_id',\n",
        "# рассчитанное методом count() для таблицы track_list.\n",
        "# Функция возвращает число - значение track_list_count.\n",
        "\n",
        "# Функция для подсчёта прослушиваний для конкретного города и дня.\n",
        "# С помощью последовательной фильтрации с логической индексацией она\n",
        "# сначала получит из исходной таблицы строки с нужным днём,\n",
        "# затем из результата отфильтрует строки с нужным городом,\n",
        "# методом count() посчитает количество значений в колонке user_id.\n",
        "# Это количество функция вернёт в качестве результата\n",
        "\n",
        "\n",
        "\n",
        "def number_tracks(day,city):\n",
        "    track_list = df[df['day'] == day]\n",
        "    track_list = track_list[track_list['city'] == city]\n",
        "    track_list_count = track_list['user_id'].count()\n",
        "    return track_list_count"
      ]
    },
    {
      "cell_type": "markdown",
      "metadata": {
        "deletable": false,
        "editable": false,
        "id": "ytf7xFrFJQ2r",
        "tags": [
          "start_task"
        ]
      },
      "source": [
        "Вызовем функцию чтобы получить данные для каждого города в каждый из трёх дней."
      ]
    },
    {
      "cell_type": "code",
      "execution_count": null,
      "metadata": {
        "deletable": false,
        "id": "rJcRATNQ_Zcu",
        "colab": {
          "base_uri": "https://localhost:8080/"
        },
        "outputId": "09016007-b622-419d-9382-b891e74179fc"
      },
      "outputs": [
        {
          "output_type": "execute_result",
          "data": {
            "text/plain": [
              "15740"
            ]
          },
          "metadata": {},
          "execution_count": 58
        }
      ],
      "source": [
        "number_tracks('Monday', 'Moscow')# количество прослушиваний в Москве по понедельникам"
      ]
    },
    {
      "cell_type": "code",
      "execution_count": null,
      "metadata": {
        "deletable": false,
        "id": "hq_ncZ5T_Zcu",
        "colab": {
          "base_uri": "https://localhost:8080/"
        },
        "outputId": "a21ad95f-19f4-4b1f-fe6d-058c0ffa0b73"
      },
      "outputs": [
        {
          "output_type": "execute_result",
          "data": {
            "text/plain": [
              "5614"
            ]
          },
          "metadata": {},
          "execution_count": 59
        }
      ],
      "source": [
        "number_tracks('Monday', 'Saint-Petersburg')# количество прослушиваний в Санкт-Петербурге по понедельникам"
      ]
    },
    {
      "cell_type": "code",
      "execution_count": null,
      "metadata": {
        "deletable": false,
        "id": "_NTy2VPU_Zcu",
        "colab": {
          "base_uri": "https://localhost:8080/"
        },
        "outputId": "274397e9-80d8-45f1-f115-4ba6efbb20ce"
      },
      "outputs": [
        {
          "output_type": "execute_result",
          "data": {
            "text/plain": [
              "11056"
            ]
          },
          "metadata": {},
          "execution_count": 60
        }
      ],
      "source": [
        "number_tracks('Wednesday', 'Moscow')# количество прослушиваний в Москве по средам"
      ]
    },
    {
      "cell_type": "code",
      "execution_count": null,
      "metadata": {
        "deletable": false,
        "id": "j2y3TAwo_Zcu",
        "colab": {
          "base_uri": "https://localhost:8080/"
        },
        "outputId": "4b9c7ad0-a5a6-4696-b1d2-8c1b3cc6ab9f"
      },
      "outputs": [
        {
          "output_type": "execute_result",
          "data": {
            "text/plain": [
              "7003"
            ]
          },
          "metadata": {},
          "execution_count": 61
        }
      ],
      "source": [
        "number_tracks('Wednesday','Saint-Petersburg')# количество прослушиваний в Санкт-Петербурге по средам"
      ]
    },
    {
      "cell_type": "code",
      "execution_count": null,
      "metadata": {
        "deletable": false,
        "id": "vYDw5u_K_Zcu",
        "colab": {
          "base_uri": "https://localhost:8080/"
        },
        "outputId": "c775fdc1-2036-4975-ee32-0733b055d25c"
      },
      "outputs": [
        {
          "output_type": "execute_result",
          "data": {
            "text/plain": [
              "15945"
            ]
          },
          "metadata": {},
          "execution_count": 62
        }
      ],
      "source": [
        "number_tracks('Friday', 'Moscow')# количество прослушиваний в Москве по пятницам"
      ]
    },
    {
      "cell_type": "code",
      "execution_count": null,
      "metadata": {
        "deletable": false,
        "id": "8_yzFtW3_Zcu",
        "colab": {
          "base_uri": "https://localhost:8080/"
        },
        "outputId": "81024f41-956e-4372-8cc6-1864ff2a2a78"
      },
      "outputs": [
        {
          "output_type": "execute_result",
          "data": {
            "text/plain": [
              "5895"
            ]
          },
          "metadata": {},
          "execution_count": 63
        }
      ],
      "source": [
        "number_tracks('Friday', 'Saint-Petersburg')# количество прослушиваний в Санкт-Петербурге по пятницам"
      ]
    },
    {
      "cell_type": "markdown",
      "metadata": {
        "deletable": false,
        "editable": false,
        "id": "7QXffbO-_Zcu",
        "tags": [
          "start_task"
        ]
      },
      "source": [
        "Создадим датафрейм"
      ]
    },
    {
      "cell_type": "code",
      "execution_count": null,
      "metadata": {
        "deletable": false,
        "id": "APAcLpOr_Zcu",
        "colab": {
          "base_uri": "https://localhost:8080/",
          "height": 112
        },
        "outputId": "b9648f64-3988-41d1-b008-868682a7b05f"
      },
      "outputs": [
        {
          "output_type": "execute_result",
          "data": {
            "text/plain": [
              "               city  monday  wednesday  friday\n",
              "0            Moscow   15740      11056   15945\n",
              "1  Saint-Petersburg    5614       7003    5895"
            ],
            "text/html": [
              "\n",
              "\n",
              "  <div id=\"df-b84a67ed-c286-45bd-9f26-3137baafedf1\">\n",
              "    <div class=\"colab-df-container\">\n",
              "      <div>\n",
              "<style scoped>\n",
              "    .dataframe tbody tr th:only-of-type {\n",
              "        vertical-align: middle;\n",
              "    }\n",
              "\n",
              "    .dataframe tbody tr th {\n",
              "        vertical-align: top;\n",
              "    }\n",
              "\n",
              "    .dataframe thead th {\n",
              "        text-align: right;\n",
              "    }\n",
              "</style>\n",
              "<table border=\"1\" class=\"dataframe\">\n",
              "  <thead>\n",
              "    <tr style=\"text-align: right;\">\n",
              "      <th></th>\n",
              "      <th>city</th>\n",
              "      <th>monday</th>\n",
              "      <th>wednesday</th>\n",
              "      <th>friday</th>\n",
              "    </tr>\n",
              "  </thead>\n",
              "  <tbody>\n",
              "    <tr>\n",
              "      <th>0</th>\n",
              "      <td>Moscow</td>\n",
              "      <td>15740</td>\n",
              "      <td>11056</td>\n",
              "      <td>15945</td>\n",
              "    </tr>\n",
              "    <tr>\n",
              "      <th>1</th>\n",
              "      <td>Saint-Petersburg</td>\n",
              "      <td>5614</td>\n",
              "      <td>7003</td>\n",
              "      <td>5895</td>\n",
              "    </tr>\n",
              "  </tbody>\n",
              "</table>\n",
              "</div>\n",
              "      <button class=\"colab-df-convert\" onclick=\"convertToInteractive('df-b84a67ed-c286-45bd-9f26-3137baafedf1')\"\n",
              "              title=\"Convert this dataframe to an interactive table.\"\n",
              "              style=\"display:none;\">\n",
              "\n",
              "  <svg xmlns=\"http://www.w3.org/2000/svg\" height=\"24px\"viewBox=\"0 0 24 24\"\n",
              "       width=\"24px\">\n",
              "    <path d=\"M0 0h24v24H0V0z\" fill=\"none\"/>\n",
              "    <path d=\"M18.56 5.44l.94 2.06.94-2.06 2.06-.94-2.06-.94-.94-2.06-.94 2.06-2.06.94zm-11 1L8.5 8.5l.94-2.06 2.06-.94-2.06-.94L8.5 2.5l-.94 2.06-2.06.94zm10 10l.94 2.06.94-2.06 2.06-.94-2.06-.94-.94-2.06-.94 2.06-2.06.94z\"/><path d=\"M17.41 7.96l-1.37-1.37c-.4-.4-.92-.59-1.43-.59-.52 0-1.04.2-1.43.59L10.3 9.45l-7.72 7.72c-.78.78-.78 2.05 0 2.83L4 21.41c.39.39.9.59 1.41.59.51 0 1.02-.2 1.41-.59l7.78-7.78 2.81-2.81c.8-.78.8-2.07 0-2.86zM5.41 20L4 18.59l7.72-7.72 1.47 1.35L5.41 20z\"/>\n",
              "  </svg>\n",
              "      </button>\n",
              "\n",
              "\n",
              "\n",
              "    <div id=\"df-bf40a8b8-b587-4ac2-9ab1-750bc0afbad9\">\n",
              "      <button class=\"colab-df-quickchart\" onclick=\"quickchart('df-bf40a8b8-b587-4ac2-9ab1-750bc0afbad9')\"\n",
              "              title=\"Suggest charts.\"\n",
              "              style=\"display:none;\">\n",
              "\n",
              "<svg xmlns=\"http://www.w3.org/2000/svg\" height=\"24px\"viewBox=\"0 0 24 24\"\n",
              "     width=\"24px\">\n",
              "    <g>\n",
              "        <path d=\"M19 3H5c-1.1 0-2 .9-2 2v14c0 1.1.9 2 2 2h14c1.1 0 2-.9 2-2V5c0-1.1-.9-2-2-2zM9 17H7v-7h2v7zm4 0h-2V7h2v10zm4 0h-2v-4h2v4z\"/>\n",
              "    </g>\n",
              "</svg>\n",
              "      </button>\n",
              "    </div>\n",
              "\n",
              "<style>\n",
              "  .colab-df-quickchart {\n",
              "    background-color: #E8F0FE;\n",
              "    border: none;\n",
              "    border-radius: 50%;\n",
              "    cursor: pointer;\n",
              "    display: none;\n",
              "    fill: #1967D2;\n",
              "    height: 32px;\n",
              "    padding: 0 0 0 0;\n",
              "    width: 32px;\n",
              "  }\n",
              "\n",
              "  .colab-df-quickchart:hover {\n",
              "    background-color: #E2EBFA;\n",
              "    box-shadow: 0px 1px 2px rgba(60, 64, 67, 0.3), 0px 1px 3px 1px rgba(60, 64, 67, 0.15);\n",
              "    fill: #174EA6;\n",
              "  }\n",
              "\n",
              "  [theme=dark] .colab-df-quickchart {\n",
              "    background-color: #3B4455;\n",
              "    fill: #D2E3FC;\n",
              "  }\n",
              "\n",
              "  [theme=dark] .colab-df-quickchart:hover {\n",
              "    background-color: #434B5C;\n",
              "    box-shadow: 0px 1px 3px 1px rgba(0, 0, 0, 0.15);\n",
              "    filter: drop-shadow(0px 1px 2px rgba(0, 0, 0, 0.3));\n",
              "    fill: #FFFFFF;\n",
              "  }\n",
              "</style>\n",
              "\n",
              "    <script>\n",
              "      async function quickchart(key) {\n",
              "        const containerElement = document.querySelector('#' + key);\n",
              "        const charts = await google.colab.kernel.invokeFunction(\n",
              "            'suggestCharts', [key], {});\n",
              "      }\n",
              "    </script>\n",
              "\n",
              "      <script>\n",
              "\n",
              "function displayQuickchartButton(domScope) {\n",
              "  let quickchartButtonEl =\n",
              "    domScope.querySelector('#df-bf40a8b8-b587-4ac2-9ab1-750bc0afbad9 button.colab-df-quickchart');\n",
              "  quickchartButtonEl.style.display =\n",
              "    google.colab.kernel.accessAllowed ? 'block' : 'none';\n",
              "}\n",
              "\n",
              "        displayQuickchartButton(document);\n",
              "      </script>\n",
              "      <style>\n",
              "    .colab-df-container {\n",
              "      display:flex;\n",
              "      flex-wrap:wrap;\n",
              "      gap: 12px;\n",
              "    }\n",
              "\n",
              "    .colab-df-convert {\n",
              "      background-color: #E8F0FE;\n",
              "      border: none;\n",
              "      border-radius: 50%;\n",
              "      cursor: pointer;\n",
              "      display: none;\n",
              "      fill: #1967D2;\n",
              "      height: 32px;\n",
              "      padding: 0 0 0 0;\n",
              "      width: 32px;\n",
              "    }\n",
              "\n",
              "    .colab-df-convert:hover {\n",
              "      background-color: #E2EBFA;\n",
              "      box-shadow: 0px 1px 2px rgba(60, 64, 67, 0.3), 0px 1px 3px 1px rgba(60, 64, 67, 0.15);\n",
              "      fill: #174EA6;\n",
              "    }\n",
              "\n",
              "    [theme=dark] .colab-df-convert {\n",
              "      background-color: #3B4455;\n",
              "      fill: #D2E3FC;\n",
              "    }\n",
              "\n",
              "    [theme=dark] .colab-df-convert:hover {\n",
              "      background-color: #434B5C;\n",
              "      box-shadow: 0px 1px 3px 1px rgba(0, 0, 0, 0.15);\n",
              "      filter: drop-shadow(0px 1px 2px rgba(0, 0, 0, 0.3));\n",
              "      fill: #FFFFFF;\n",
              "    }\n",
              "  </style>\n",
              "\n",
              "      <script>\n",
              "        const buttonEl =\n",
              "          document.querySelector('#df-b84a67ed-c286-45bd-9f26-3137baafedf1 button.colab-df-convert');\n",
              "        buttonEl.style.display =\n",
              "          google.colab.kernel.accessAllowed ? 'block' : 'none';\n",
              "\n",
              "        async function convertToInteractive(key) {\n",
              "          const element = document.querySelector('#df-b84a67ed-c286-45bd-9f26-3137baafedf1');\n",
              "          const dataTable =\n",
              "            await google.colab.kernel.invokeFunction('convertToInteractive',\n",
              "                                                     [key], {});\n",
              "          if (!dataTable) return;\n",
              "\n",
              "          const docLinkHtml = 'Like what you see? Visit the ' +\n",
              "            '<a target=\"_blank\" href=https://colab.research.google.com/notebooks/data_table.ipynb>data table notebook</a>'\n",
              "            + ' to learn more about interactive tables.';\n",
              "          element.innerHTML = '';\n",
              "          dataTable['output_type'] = 'display_data';\n",
              "          await google.colab.output.renderOutput(dataTable, element);\n",
              "          const docLink = document.createElement('div');\n",
              "          docLink.innerHTML = docLinkHtml;\n",
              "          element.appendChild(docLink);\n",
              "        }\n",
              "      </script>\n",
              "    </div>\n",
              "  </div>\n"
            ]
          },
          "metadata": {},
          "execution_count": 80
        }
      ],
      "source": [
        "info = pd.DataFrame(data=[['Moscow',15740,11056, 15945], ['Saint-Petersburg',5614,7003, 5895]] , columns=['city', 'monday', 'wednesday', 'friday'])\n",
        "\n",
        "info"
      ]
    },
    {
      "cell_type": "markdown",
      "metadata": {
        "deletable": false,
        "editable": false,
        "id": "-EgPIHYu_Zcu"
      },
      "source": [
        "Данные показывают разницу поведения пользователей:\n",
        "\n",
        "- В Москве пик прослушиваний приходится на понедельник и пятницу, а в среду заметен спад.\n",
        "- В Петербурге, наоборот, больше слушают музыку по средам. Активность в понедельник и пятницу здесь почти в равной мере уступает среде.\n",
        "\n",
        "Значит, данные говорят в пользу первой гипотезы."
      ]
    },
    {
      "cell_type": "markdown",
      "metadata": {
        "deletable": false,
        "editable": false,
        "id": "eXrQqXFH_Zcu"
      },
      "source": [
        "Согласно второй гипотезе, утром в понедельник в Москве преобладают одни жанры, а в Петербурге — другие. Так же и вечером пятницы преобладают разные жанры — в зависимости от города."
      ]
    },
    {
      "cell_type": "code",
      "execution_count": null,
      "metadata": {
        "deletable": false,
        "id": "qeaFfM_P_Zcu"
      },
      "outputs": [],
      "source": [
        "moscow_general = df[df['city'] == 'Moscow']# получение таблицы moscow_general из тех строк таблицы df,\n",
        "# для которых значение в столбце 'city' равно 'Moscow'\n"
      ]
    },
    {
      "cell_type": "code",
      "execution_count": null,
      "metadata": {
        "deletable": false,
        "id": "ORaVRKto_Zcu"
      },
      "outputs": [],
      "source": [
        "spb_general = df[df['city'] == 'Saint-Petersburg'] # получение таблицы spb_general из тех строк таблицы df,\n",
        "# для которых значение в столбце 'city' равно 'Saint-Petersburg'\n"
      ]
    },
    {
      "cell_type": "markdown",
      "metadata": {
        "deletable": false,
        "editable": false,
        "id": "MEJV-CX2_Zcu",
        "tags": [
          "start_task"
        ]
      },
      "source": [
        "Создадим функцию `genre_weekday()` с четырьмя параметрами:\n",
        "* таблица (датафрейм) с данными,\n",
        "* день недели,\n",
        "* начальная временная метка в формате 'hh:mm',\n",
        "* последняя временная метка в формате 'hh:mm'.\n",
        "\n",
        "Функция должна вернуть информацию о топ-10 жанров тех треков, которые прослушивали в указанный день, в промежутке между двумя отметками времени."
      ]
    },
    {
      "cell_type": "code",
      "execution_count": null,
      "metadata": {
        "deletable": false,
        "id": "laJT9BYl_Zcu"
      },
      "outputs": [],
      "source": [
        " # Объявивим функцию genre_weekday() с параметрами table, day, time1, time2,\n",
        "# которая возвращает информацию о самых популярных жанрах в указанный день в\n",
        "# заданное время:\n",
        "# 1) в переменную genre_df сохраняются те строки переданного датафрейма table, для\n",
        "#    которых одновременно:\n",
        "#    - значение в столбце day равно значению аргумента day\n",
        "#    - значение в столбце time больше значения аргумента time1\n",
        "#    - значение в столбце time меньше значения аргумента time2\n",
        "#    Используем последовательную фильтрацию с помощью логической индексации.\n",
        "# 2) сгруппируем датафрейм genre_df по столбцу genre, возьмём один из его\n",
        "#    столбцов и посчитаем методом count() количество записей для каждого из\n",
        "#    присутствующих жанров, получившийся Series запишем в переменную\n",
        "#    genre_df_count\n",
        "# 3) отсортируем genre_df_count по убыванию встречаемости и сохраним\n",
        "#    в переменную genre_df_sorted\n",
        "# 4) вернем Series из 10 первых значений genre_df_sorted, это будут топ-10\n",
        "#    популярных жанров (в указанный день, в заданное время)\n",
        "\n",
        "def genre_weekday(df, day, time1, time2):\n",
        "    # последовательная фильтрация\n",
        "    # оставляем в genre_df только те строки df, у которых день равен day\n",
        "    genre_df = df[(df['day'] == day)] # ваш код здесь\n",
        "    # оставляем в genre_df только те строки genre_df, у которых время меньше time2\n",
        "    genre_df = genre_df[(genre_df['time'] < time2)] # ваш код здесь\n",
        "    # оставляем в genre_df только те строки genre_df, у которых время больше time1\n",
        "    genre_df = genre_df[(genre_df['time'] > time1)] # ваш код здесь\n",
        "    # сгруппируем отфильтрованный датафрейм по столбцу с названиями жанров, возьмём столбец genre и посчитаем кол-во строк для каждого жанра методом count()\n",
        "    genre_df_grouped = genre_df.groupby('genre')['genre'].count()# ваш код здесь\n",
        "    # отсортируем результат по убыванию (чтобы в начале Series оказались самые популярные жанры)\n",
        "    genre_df_sorted = genre_df_grouped.sort_values(ascending=False) # ваш код здесь\n",
        "    # вернём Series с 10 самыми популярными жанрами в указанный отрезок времени заданного дня\n",
        "    return genre_df_sorted[:10]"
      ]
    },
    {
      "cell_type": "markdown",
      "metadata": {
        "deletable": false,
        "editable": false,
        "id": "la2s2_PF_Zcu",
        "tags": [
          "start_task"
        ]
      },
      "source": [
        "Cравним результаты функции `genre_weekday()` для Москвы и Санкт-Петербурга в понедельник утром (с 7:00 до 11:00) и в пятницу вечером (с 17:00 до 23:00):"
      ]
    },
    {
      "cell_type": "code",
      "execution_count": null,
      "metadata": {
        "deletable": false,
        "id": "yz7itPUQ_Zcu",
        "colab": {
          "base_uri": "https://localhost:8080/"
        },
        "outputId": "231200bc-7b92-48e1-e345-602ac9943e18"
      },
      "outputs": [
        {
          "output_type": "execute_result",
          "data": {
            "text/plain": [
              "genre\n",
              "pop            781\n",
              "dance          549\n",
              "electronic     480\n",
              "rock           474\n",
              "hiphop         286\n",
              "ruspop         186\n",
              "world          181\n",
              "rusrap         175\n",
              "alternative    164\n",
              "unknown        161\n",
              "Name: genre, dtype: int64"
            ]
          },
          "metadata": {},
          "execution_count": 68
        }
      ],
      "source": [
        "genre_weekday(moscow_general, 'Monday', '07:00', '11:00')"
      ]
    },
    {
      "cell_type": "code",
      "execution_count": null,
      "metadata": {
        "deletable": false,
        "id": "kwUcHPdy_Zcu",
        "colab": {
          "base_uri": "https://localhost:8080/"
        },
        "outputId": "1d713cc1-d955-404d-dc88-b33ec1346e82"
      },
      "outputs": [
        {
          "output_type": "execute_result",
          "data": {
            "text/plain": [
              "genre\n",
              "pop            218\n",
              "dance          182\n",
              "rock           162\n",
              "electronic     147\n",
              "hiphop          80\n",
              "ruspop          64\n",
              "alternative     58\n",
              "rusrap          55\n",
              "jazz            44\n",
              "classical       40\n",
              "Name: genre, dtype: int64"
            ]
          },
          "metadata": {},
          "execution_count": 69
        }
      ],
      "source": [
        "genre_weekday(spb_general, 'Monday', '07:00', '11:00')"
      ]
    },
    {
      "cell_type": "code",
      "execution_count": null,
      "metadata": {
        "deletable": false,
        "id": "EzXVRE1o_Zcu",
        "colab": {
          "base_uri": "https://localhost:8080/"
        },
        "outputId": "bac051fa-0758-4e7f-c4ab-76df7ff135c9"
      },
      "outputs": [
        {
          "output_type": "execute_result",
          "data": {
            "text/plain": [
              "genre\n",
              "pop            713\n",
              "rock           517\n",
              "dance          495\n",
              "electronic     482\n",
              "hiphop         273\n",
              "world          208\n",
              "ruspop         170\n",
              "alternative    163\n",
              "classical      163\n",
              "rusrap         142\n",
              "Name: genre, dtype: int64"
            ]
          },
          "metadata": {},
          "execution_count": 70
        }
      ],
      "source": [
        "genre_weekday(moscow_general, 'Friday', '17:00', '23:00')"
      ]
    },
    {
      "cell_type": "code",
      "execution_count": null,
      "metadata": {
        "deletable": false,
        "id": "JZaEKu5v_Zcu",
        "colab": {
          "base_uri": "https://localhost:8080/"
        },
        "outputId": "1f647ee8-c011-492c-aa7c-f3f9688902ba"
      },
      "outputs": [
        {
          "output_type": "execute_result",
          "data": {
            "text/plain": [
              "genre\n",
              "pop            256\n",
              "electronic     216\n",
              "rock           216\n",
              "dance          210\n",
              "hiphop          97\n",
              "alternative     63\n",
              "jazz            61\n",
              "classical       60\n",
              "rusrap          59\n",
              "world           54\n",
              "Name: genre, dtype: int64"
            ]
          },
          "metadata": {},
          "execution_count": 71
        }
      ],
      "source": [
        "genre_weekday(spb_general, 'Friday', '17:00', '23:00')"
      ]
    },
    {
      "cell_type": "markdown",
      "metadata": {
        "deletable": false,
        "editable": false,
        "id": "wrCe4MNX_Zcu"
      },
      "source": [
        "\n",
        "\n",
        "Если сравнить топ-10 жанров в понедельник утром, можно сделать такие выводы:\n",
        "\n",
        "1. В Москве и Петербурге слушают похожую музыку. Единственное отличие — в московский рейтинг вошёл жанр “world”, а в петербургский — джаз и классика.\n",
        "\n",
        "2. В Москве пропущенных значений оказалось так много, что значение `'unknown'` заняло десятое место среди самых популярных жанров. Значит, пропущенные значения занимают существенную долю в данных и угрожают достоверности исследования.\n",
        "\n",
        "Вечер пятницы не меняет эту картину. Некоторые жанры поднимаются немного выше, другие спускаются, но в целом топ-10 остаётся тем же самым.\n",
        "\n",
        "Таким образом, вторая гипотеза подтвердилась лишь частично:\n",
        "* Пользователи слушают похожую музыку в начале недели и в конце.\n",
        "* Разница между Москвой и Петербургом не слишком выражена. В Москве чаще слушают русскую популярную музыку, в Петербурге — джаз.\n",
        "\n",
        "Однако пропуски в данных ставят под сомнение этот результат. В Москве их так много, что рейтинг топ-10 мог бы выглядеть иначе, если бы не утерянные  данные о жанрах."
      ]
    },
    {
      "cell_type": "markdown",
      "metadata": {
        "deletable": false,
        "editable": false,
        "id": "JolODAqr_Zcu"
      },
      "source": [
        "\n",
        "\n",
        "Гипотеза: Петербург — столица рэпа, музыку этого жанра там слушают чаще, чем в Москве.  А Москва — город контрастов, в котором, тем не менее, преобладает поп-музыка."
      ]
    },
    {
      "cell_type": "markdown",
      "metadata": {
        "deletable": false,
        "editable": false,
        "id": "DlegSvaT_Zcu",
        "tags": [
          "start_task"
        ]
      },
      "source": [
        "Сгруппируем таблицу `moscow_general` по жанру и посчитаем прослушивания треков каждого жанра методом `count()`. Затем отсортируем результат в порядке убывания и сохраним его в таблице `moscow_genres`."
      ]
    },
    {
      "cell_type": "code",
      "execution_count": null,
      "metadata": {
        "deletable": false,
        "id": "r19lIPke_Zcu"
      },
      "outputs": [],
      "source": [
        "moscow_genres = moscow_general.groupby('genre')['city'].count().sort_values(ascending=False)"
      ]
    },
    {
      "cell_type": "markdown",
      "metadata": {
        "deletable": false,
        "editable": false,
        "id": "6kMuomxTiIr8",
        "tags": [
          "start_task"
        ]
      },
      "source": [
        "Выведем на экран первые десять строк `moscow_genres`:"
      ]
    },
    {
      "cell_type": "code",
      "execution_count": null,
      "metadata": {
        "deletable": false,
        "id": "WhCSooF8_Zcv",
        "colab": {
          "base_uri": "https://localhost:8080/"
        },
        "outputId": "0d1069b7-22d2-4818-9145-aae65b8c1526"
      },
      "outputs": [
        {
          "output_type": "execute_result",
          "data": {
            "text/plain": [
              "genre\n",
              "pop            5892\n",
              "dance          4435\n",
              "rock           3965\n",
              "electronic     3786\n",
              "hiphop         2096\n",
              "classical      1616\n",
              "world          1432\n",
              "alternative    1379\n",
              "ruspop         1372\n",
              "rusrap         1161\n",
              "Name: city, dtype: int64"
            ]
          },
          "metadata": {},
          "execution_count": 73
        }
      ],
      "source": [
        "moscow_genres.head(10)#"
      ]
    },
    {
      "cell_type": "markdown",
      "metadata": {
        "deletable": false,
        "editable": false,
        "id": "cnPG2vnN_Zcv",
        "tags": [
          "start_task"
        ]
      },
      "source": [
        "Теперь то же и для Петербурга.\n",
        "\n",
        "\n"
      ]
    },
    {
      "cell_type": "code",
      "execution_count": null,
      "metadata": {
        "deletable": false,
        "id": "gluLIpE7_Zcv"
      },
      "outputs": [],
      "source": [
        "spb_genres = spb_general.groupby('genre')['genre'].count().sort_values(ascending=False)"
      ]
    },
    {
      "cell_type": "markdown",
      "metadata": {
        "deletable": false,
        "editable": false,
        "id": "5Doha_ODgyQ8",
        "tags": [
          "start_task"
        ]
      },
      "source": [
        "\n",
        "\n",
        "Выведем на экран первые десять строк `spb_genres`:"
      ]
    },
    {
      "cell_type": "code",
      "execution_count": null,
      "metadata": {
        "deletable": false,
        "id": "uaGJHjVU_Zcv",
        "colab": {
          "base_uri": "https://localhost:8080/"
        },
        "outputId": "0b6495a9-1001-46f0-e121-b2d8115474e5"
      },
      "outputs": [
        {
          "output_type": "execute_result",
          "data": {
            "text/plain": [
              "genre\n",
              "pop            2431\n",
              "dance          1932\n",
              "rock           1879\n",
              "electronic     1736\n",
              "hiphop          960\n",
              "alternative     649\n",
              "classical       646\n",
              "rusrap          564\n",
              "ruspop          538\n",
              "world           515\n",
              "Name: genre, dtype: int64"
            ]
          },
          "metadata": {},
          "execution_count": 82
        }
      ],
      "source": [
        "spb_genres.head(10)"
      ]
    },
    {
      "cell_type": "markdown",
      "metadata": {
        "deletable": false,
        "editable": false,
        "id": "nVhnJEm__Zcv"
      },
      "source": [
        "Гипотеза частично подтвердилась:\n",
        "* Поп-музыка — самый популярный жанр в Москве, как и предполагала гипотеза. Более того, в топ-10 жанров встречается близкий жанр — русская популярная музыка.\n",
        "* Вопреки ожиданиям, рэп одинаково популярен в Москве и Петербурге.\n"
      ]
    },
    {
      "cell_type": "markdown",
      "metadata": {
        "deletable": false,
        "editable": false,
        "id": "ykKQ0N65_Zcv"
      },
      "source": [
        "## Часть 4 Итоги исследования"
      ]
    },
    {
      "cell_type": "markdown",
      "metadata": {
        "deletable": false,
        "editable": false,
        "id": "tjUwbHb3_Zcv"
      },
      "source": [
        "Мы проверили три гипотезы и установили:\n",
        "\n",
        "1. День недели по-разному влияет на активность пользователей в Москве и Петербурге.\n",
        "\n",
        "Первая гипотеза полностью подтвердилась.\n",
        "\n",
        "2. Музыкальные предпочтения не сильно меняются в течение недели — будь то Москва или Петербург. Небольшие различия заметны в начале недели, по понедельникам:\n",
        "* в Москве слушают музыку жанра “world”,\n",
        "* в Петербурге — джаз и классику.\n",
        "\n",
        "Таким образом, вторая гипотеза подтвердилась лишь отчасти. Этот результат мог оказаться иным, если бы не пропуски в данных.\n",
        "\n",
        "3. Во вкусах пользователей Москвы и Петербурга больше общего чем различий. Вопреки ожиданиям, предпочтения жанров в Петербурге напоминают московские.\n",
        "\n",
        "Третья гипотеза не подтвердилась. Если различия в предпочтениях и существуют, на основной массе пользователей они незаметны.\n",
        "\n"
      ]
    }
  ],
  "metadata": {
    "ExecuteTimeLog": [
      {
        "duration": 5,
        "start_time": "2022-12-20T09:50:19.608Z"
      },
      {
        "duration": 8,
        "start_time": "2022-12-20T09:50:25.245Z"
      },
      {
        "duration": 337,
        "start_time": "2022-12-20T09:50:32.333Z"
      },
      {
        "duration": 168,
        "start_time": "2022-12-20T09:50:40.524Z"
      },
      {
        "duration": 28,
        "start_time": "2022-12-20T09:51:26.815Z"
      },
      {
        "duration": 19,
        "start_time": "2022-12-20T09:51:36.646Z"
      },
      {
        "duration": 3,
        "start_time": "2022-12-20T09:58:06.849Z"
      },
      {
        "duration": 10,
        "start_time": "2022-12-20T09:59:56.738Z"
      },
      {
        "duration": 165,
        "start_time": "2022-12-20T10:00:19.649Z"
      },
      {
        "duration": 192,
        "start_time": "2022-12-20T10:00:23.913Z"
      },
      {
        "duration": 170,
        "start_time": "2022-12-20T10:00:26.976Z"
      },
      {
        "duration": 162,
        "start_time": "2022-12-20T10:00:52.159Z"
      },
      {
        "duration": 162,
        "start_time": "2022-12-20T10:01:07.823Z"
      },
      {
        "duration": 30,
        "start_time": "2022-12-20T10:02:39.568Z"
      },
      {
        "duration": 3,
        "start_time": "2022-12-20T10:05:53.087Z"
      },
      {
        "duration": 71,
        "start_time": "2022-12-20T10:15:00.582Z"
      },
      {
        "duration": 4,
        "start_time": "2022-12-20T10:16:31.357Z"
      },
      {
        "duration": 23,
        "start_time": "2022-12-20T10:21:15.460Z"
      },
      {
        "duration": 12,
        "start_time": "2022-12-20T10:32:16.193Z"
      },
      {
        "duration": 24,
        "start_time": "2022-12-20T10:33:08.739Z"
      },
      {
        "duration": 44,
        "start_time": "2022-12-20T10:34:29.205Z"
      },
      {
        "duration": 6,
        "start_time": "2022-12-20T10:34:34.632Z"
      },
      {
        "duration": 6,
        "start_time": "2022-12-20T10:34:41.731Z"
      },
      {
        "duration": 6,
        "start_time": "2022-12-20T10:35:33.199Z"
      },
      {
        "duration": 7,
        "start_time": "2022-12-20T10:35:41.740Z"
      },
      {
        "duration": 6,
        "start_time": "2022-12-20T10:35:48.820Z"
      },
      {
        "duration": 5,
        "start_time": "2022-12-20T10:37:24.519Z"
      },
      {
        "duration": 7,
        "start_time": "2022-12-20T10:37:44.661Z"
      },
      {
        "duration": 6,
        "start_time": "2022-12-20T10:37:58.534Z"
      },
      {
        "duration": 367,
        "start_time": "2022-12-20T10:38:04.510Z"
      },
      {
        "duration": 156,
        "start_time": "2022-12-20T10:38:07.406Z"
      },
      {
        "duration": 173,
        "start_time": "2022-12-20T10:38:29.149Z"
      },
      {
        "duration": 199,
        "start_time": "2022-12-20T10:38:33.989Z"
      },
      {
        "duration": 16,
        "start_time": "2022-12-20T10:38:37.589Z"
      },
      {
        "duration": 28,
        "start_time": "2022-12-20T10:38:42.535Z"
      },
      {
        "duration": 3,
        "start_time": "2022-12-20T10:39:04.662Z"
      },
      {
        "duration": 396,
        "start_time": "2022-12-20T10:39:43.035Z"
      },
      {
        "duration": 187,
        "start_time": "2022-12-20T10:39:43.433Z"
      },
      {
        "duration": 19,
        "start_time": "2022-12-20T10:39:43.622Z"
      },
      {
        "duration": 65,
        "start_time": "2022-12-20T10:39:43.643Z"
      },
      {
        "duration": 82,
        "start_time": "2022-12-20T10:39:43.710Z"
      },
      {
        "duration": 58,
        "start_time": "2022-12-20T10:39:43.794Z"
      },
      {
        "duration": 88,
        "start_time": "2022-12-20T10:39:43.854Z"
      },
      {
        "duration": 72,
        "start_time": "2022-12-20T10:39:43.944Z"
      },
      {
        "duration": 86,
        "start_time": "2022-12-20T10:39:44.018Z"
      },
      {
        "duration": 119,
        "start_time": "2022-12-20T10:39:44.108Z"
      },
      {
        "duration": 136,
        "start_time": "2022-12-20T10:39:44.229Z"
      },
      {
        "duration": 146,
        "start_time": "2022-12-20T10:39:44.367Z"
      },
      {
        "duration": 21,
        "start_time": "2022-12-20T10:39:44.515Z"
      },
      {
        "duration": 35,
        "start_time": "2022-12-20T10:39:44.538Z"
      },
      {
        "duration": 82,
        "start_time": "2022-12-20T10:39:44.575Z"
      },
      {
        "duration": 54,
        "start_time": "2022-12-20T10:39:44.659Z"
      },
      {
        "duration": 38,
        "start_time": "2022-12-20T10:39:44.715Z"
      },
      {
        "duration": 79,
        "start_time": "2022-12-20T10:39:44.754Z"
      },
      {
        "duration": 50,
        "start_time": "2022-12-20T10:39:44.835Z"
      },
      {
        "duration": 46,
        "start_time": "2022-12-20T10:39:44.887Z"
      },
      {
        "duration": 91,
        "start_time": "2022-12-20T10:39:44.935Z"
      },
      {
        "duration": 50,
        "start_time": "2022-12-20T10:39:45.028Z"
      },
      {
        "duration": 64,
        "start_time": "2022-12-20T10:39:45.080Z"
      },
      {
        "duration": 84,
        "start_time": "2022-12-20T10:39:45.146Z"
      },
      {
        "duration": 83,
        "start_time": "2022-12-20T10:39:45.231Z"
      },
      {
        "duration": 64,
        "start_time": "2022-12-20T10:39:45.316Z"
      },
      {
        "duration": 58,
        "start_time": "2022-12-20T10:39:45.381Z"
      },
      {
        "duration": 51,
        "start_time": "2022-12-20T10:39:45.442Z"
      },
      {
        "duration": 56,
        "start_time": "2022-12-20T10:39:45.495Z"
      },
      {
        "duration": 72,
        "start_time": "2022-12-20T10:39:45.553Z"
      },
      {
        "duration": 0,
        "start_time": "2022-12-20T10:39:45.626Z"
      },
      {
        "duration": 0,
        "start_time": "2022-12-20T10:39:45.628Z"
      },
      {
        "duration": 0,
        "start_time": "2022-12-20T10:39:45.629Z"
      },
      {
        "duration": 0,
        "start_time": "2022-12-20T10:39:45.630Z"
      },
      {
        "duration": 0,
        "start_time": "2022-12-20T10:39:45.631Z"
      },
      {
        "duration": 0,
        "start_time": "2022-12-20T10:39:45.632Z"
      },
      {
        "duration": 0,
        "start_time": "2022-12-20T10:39:45.634Z"
      },
      {
        "duration": 0,
        "start_time": "2022-12-20T10:39:45.635Z"
      },
      {
        "duration": 22,
        "start_time": "2022-12-20T10:40:07.230Z"
      },
      {
        "duration": 4,
        "start_time": "2022-12-20T10:40:14.286Z"
      },
      {
        "duration": 26,
        "start_time": "2022-12-20T10:40:23.968Z"
      },
      {
        "duration": 72,
        "start_time": "2022-12-20T10:40:32.518Z"
      },
      {
        "duration": 63,
        "start_time": "2022-12-20T10:45:03.055Z"
      },
      {
        "duration": 386,
        "start_time": "2022-12-20T10:45:38.796Z"
      },
      {
        "duration": 170,
        "start_time": "2022-12-20T10:45:39.184Z"
      },
      {
        "duration": 17,
        "start_time": "2022-12-20T10:45:39.356Z"
      },
      {
        "duration": 54,
        "start_time": "2022-12-20T10:45:39.378Z"
      },
      {
        "duration": 22,
        "start_time": "2022-12-20T10:45:39.433Z"
      },
      {
        "duration": 29,
        "start_time": "2022-12-20T10:45:39.456Z"
      },
      {
        "duration": 22,
        "start_time": "2022-12-20T10:45:39.487Z"
      },
      {
        "duration": 14,
        "start_time": "2022-12-20T10:45:39.511Z"
      },
      {
        "duration": 43,
        "start_time": "2022-12-20T10:45:39.527Z"
      },
      {
        "duration": 38,
        "start_time": "2022-12-20T10:45:39.573Z"
      },
      {
        "duration": 39,
        "start_time": "2022-12-20T10:45:39.612Z"
      },
      {
        "duration": 88,
        "start_time": "2022-12-20T10:45:39.653Z"
      },
      {
        "duration": 79,
        "start_time": "2022-12-20T10:45:39.742Z"
      },
      {
        "duration": 68,
        "start_time": "2022-12-20T10:45:39.822Z"
      },
      {
        "duration": 2,
        "start_time": "2022-12-20T10:45:39.892Z"
      },
      {
        "duration": 34,
        "start_time": "2022-12-20T10:45:39.896Z"
      },
      {
        "duration": 24,
        "start_time": "2022-12-20T10:45:39.932Z"
      },
      {
        "duration": 15,
        "start_time": "2022-12-20T10:45:39.957Z"
      },
      {
        "duration": 25,
        "start_time": "2022-12-20T10:45:39.974Z"
      },
      {
        "duration": 35,
        "start_time": "2022-12-20T10:45:40.001Z"
      },
      {
        "duration": 38,
        "start_time": "2022-12-20T10:45:40.038Z"
      },
      {
        "duration": 25,
        "start_time": "2022-12-20T10:45:40.078Z"
      },
      {
        "duration": 17,
        "start_time": "2022-12-20T10:45:40.105Z"
      },
      {
        "duration": 37,
        "start_time": "2022-12-20T10:45:40.123Z"
      },
      {
        "duration": 32,
        "start_time": "2022-12-20T10:45:40.162Z"
      },
      {
        "duration": 27,
        "start_time": "2022-12-20T10:45:40.196Z"
      },
      {
        "duration": 18,
        "start_time": "2022-12-20T10:45:40.225Z"
      },
      {
        "duration": 17,
        "start_time": "2022-12-20T10:45:40.245Z"
      },
      {
        "duration": 26,
        "start_time": "2022-12-20T10:45:40.264Z"
      },
      {
        "duration": 80,
        "start_time": "2022-12-20T10:45:40.292Z"
      },
      {
        "duration": 0,
        "start_time": "2022-12-20T10:45:40.374Z"
      },
      {
        "duration": 0,
        "start_time": "2022-12-20T10:45:40.376Z"
      },
      {
        "duration": 0,
        "start_time": "2022-12-20T10:45:40.377Z"
      },
      {
        "duration": 0,
        "start_time": "2022-12-20T10:45:40.378Z"
      },
      {
        "duration": 0,
        "start_time": "2022-12-20T10:45:40.380Z"
      },
      {
        "duration": 0,
        "start_time": "2022-12-20T10:45:40.381Z"
      },
      {
        "duration": 0,
        "start_time": "2022-12-20T10:45:40.382Z"
      },
      {
        "duration": 1,
        "start_time": "2022-12-20T10:45:40.383Z"
      },
      {
        "duration": 47,
        "start_time": "2022-12-20T11:05:14.384Z"
      },
      {
        "duration": 33,
        "start_time": "2022-12-20T11:14:53.253Z"
      },
      {
        "duration": 72,
        "start_time": "2022-12-20T13:15:16.516Z"
      },
      {
        "duration": 6,
        "start_time": "2022-12-20T13:18:57.120Z"
      },
      {
        "duration": 6,
        "start_time": "2022-12-20T13:19:00.711Z"
      },
      {
        "duration": 407,
        "start_time": "2022-12-20T13:19:07.176Z"
      },
      {
        "duration": 227,
        "start_time": "2022-12-20T13:19:07.585Z"
      },
      {
        "duration": 18,
        "start_time": "2022-12-20T13:19:07.814Z"
      },
      {
        "duration": 53,
        "start_time": "2022-12-20T13:19:07.834Z"
      },
      {
        "duration": 31,
        "start_time": "2022-12-20T13:19:07.889Z"
      },
      {
        "duration": 32,
        "start_time": "2022-12-20T13:19:07.921Z"
      },
      {
        "duration": 24,
        "start_time": "2022-12-20T13:19:07.955Z"
      },
      {
        "duration": 23,
        "start_time": "2022-12-20T13:19:07.981Z"
      },
      {
        "duration": 73,
        "start_time": "2022-12-20T13:19:08.005Z"
      },
      {
        "duration": 33,
        "start_time": "2022-12-20T13:19:08.082Z"
      },
      {
        "duration": 49,
        "start_time": "2022-12-20T13:19:08.116Z"
      },
      {
        "duration": 90,
        "start_time": "2022-12-20T13:19:08.167Z"
      },
      {
        "duration": 77,
        "start_time": "2022-12-20T13:19:08.259Z"
      },
      {
        "duration": 57,
        "start_time": "2022-12-20T13:19:08.338Z"
      },
      {
        "duration": 51,
        "start_time": "2022-12-20T13:19:08.397Z"
      },
      {
        "duration": 11,
        "start_time": "2022-12-20T13:19:08.450Z"
      },
      {
        "duration": 59,
        "start_time": "2022-12-20T13:19:08.462Z"
      },
      {
        "duration": 11,
        "start_time": "2022-12-20T13:19:08.522Z"
      },
      {
        "duration": 30,
        "start_time": "2022-12-20T13:19:08.534Z"
      },
      {
        "duration": 18,
        "start_time": "2022-12-20T13:19:08.565Z"
      },
      {
        "duration": 21,
        "start_time": "2022-12-20T13:19:08.585Z"
      },
      {
        "duration": 25,
        "start_time": "2022-12-20T13:19:08.608Z"
      },
      {
        "duration": 31,
        "start_time": "2022-12-20T13:19:08.634Z"
      },
      {
        "duration": 35,
        "start_time": "2022-12-20T13:19:08.668Z"
      },
      {
        "duration": 16,
        "start_time": "2022-12-20T13:19:08.705Z"
      },
      {
        "duration": 15,
        "start_time": "2022-12-20T13:19:08.722Z"
      },
      {
        "duration": 21,
        "start_time": "2022-12-20T13:19:08.739Z"
      },
      {
        "duration": 2,
        "start_time": "2022-12-20T13:19:08.764Z"
      },
      {
        "duration": 23,
        "start_time": "2022-12-20T13:19:08.769Z"
      },
      {
        "duration": 42,
        "start_time": "2022-12-20T13:19:08.793Z"
      },
      {
        "duration": 0,
        "start_time": "2022-12-20T13:19:08.837Z"
      },
      {
        "duration": 0,
        "start_time": "2022-12-20T13:19:08.838Z"
      },
      {
        "duration": 0,
        "start_time": "2022-12-20T13:19:08.839Z"
      },
      {
        "duration": 0,
        "start_time": "2022-12-20T13:19:08.841Z"
      },
      {
        "duration": 0,
        "start_time": "2022-12-20T13:19:08.841Z"
      },
      {
        "duration": 0,
        "start_time": "2022-12-20T13:19:08.843Z"
      },
      {
        "duration": 0,
        "start_time": "2022-12-20T13:19:08.844Z"
      },
      {
        "duration": 0,
        "start_time": "2022-12-20T13:19:08.845Z"
      },
      {
        "duration": 10,
        "start_time": "2022-12-20T13:20:20.079Z"
      },
      {
        "duration": 76,
        "start_time": "2022-12-20T13:58:38.650Z"
      },
      {
        "duration": 401,
        "start_time": "2022-12-20T13:58:49.329Z"
      },
      {
        "duration": 163,
        "start_time": "2022-12-20T13:58:49.732Z"
      },
      {
        "duration": 16,
        "start_time": "2022-12-20T13:58:49.896Z"
      },
      {
        "duration": 29,
        "start_time": "2022-12-20T13:58:49.915Z"
      },
      {
        "duration": 2,
        "start_time": "2022-12-20T13:58:49.946Z"
      },
      {
        "duration": 5,
        "start_time": "2022-12-20T13:58:49.950Z"
      },
      {
        "duration": 13,
        "start_time": "2022-12-20T13:58:49.957Z"
      },
      {
        "duration": 5,
        "start_time": "2022-12-20T13:58:49.972Z"
      },
      {
        "duration": 50,
        "start_time": "2022-12-20T13:58:49.979Z"
      },
      {
        "duration": 23,
        "start_time": "2022-12-20T13:58:50.030Z"
      },
      {
        "duration": 29,
        "start_time": "2022-12-20T13:58:50.055Z"
      },
      {
        "duration": 76,
        "start_time": "2022-12-20T13:58:50.086Z"
      },
      {
        "duration": 66,
        "start_time": "2022-12-20T13:58:50.164Z"
      },
      {
        "duration": 54,
        "start_time": "2022-12-20T13:58:50.234Z"
      },
      {
        "duration": 50,
        "start_time": "2022-12-20T13:58:50.290Z"
      },
      {
        "duration": 10,
        "start_time": "2022-12-20T13:58:50.342Z"
      },
      {
        "duration": 39,
        "start_time": "2022-12-20T13:58:50.353Z"
      },
      {
        "duration": 28,
        "start_time": "2022-12-20T13:58:50.393Z"
      },
      {
        "duration": 11,
        "start_time": "2022-12-20T13:58:50.423Z"
      },
      {
        "duration": 3,
        "start_time": "2022-12-20T13:58:50.436Z"
      },
      {
        "duration": 31,
        "start_time": "2022-12-20T13:58:50.440Z"
      },
      {
        "duration": 12,
        "start_time": "2022-12-20T13:58:50.473Z"
      },
      {
        "duration": 13,
        "start_time": "2022-12-20T13:58:50.486Z"
      },
      {
        "duration": 12,
        "start_time": "2022-12-20T13:58:50.515Z"
      },
      {
        "duration": 15,
        "start_time": "2022-12-20T13:58:50.528Z"
      },
      {
        "duration": 17,
        "start_time": "2022-12-20T13:58:50.544Z"
      },
      {
        "duration": 12,
        "start_time": "2022-12-20T13:58:50.562Z"
      },
      {
        "duration": 9,
        "start_time": "2022-12-20T13:58:50.576Z"
      },
      {
        "duration": 4,
        "start_time": "2022-12-20T13:58:50.587Z"
      },
      {
        "duration": 46,
        "start_time": "2022-12-20T13:58:50.592Z"
      },
      {
        "duration": 0,
        "start_time": "2022-12-20T13:58:50.639Z"
      },
      {
        "duration": 0,
        "start_time": "2022-12-20T13:58:50.641Z"
      },
      {
        "duration": 0,
        "start_time": "2022-12-20T13:58:50.642Z"
      },
      {
        "duration": 0,
        "start_time": "2022-12-20T13:58:50.643Z"
      },
      {
        "duration": 0,
        "start_time": "2022-12-20T13:58:50.644Z"
      },
      {
        "duration": 0,
        "start_time": "2022-12-20T13:58:50.645Z"
      },
      {
        "duration": 0,
        "start_time": "2022-12-20T13:58:50.647Z"
      },
      {
        "duration": 0,
        "start_time": "2022-12-20T13:58:50.649Z"
      },
      {
        "duration": 10,
        "start_time": "2022-12-20T14:08:38.009Z"
      },
      {
        "duration": 14,
        "start_time": "2022-12-20T14:08:42.083Z"
      },
      {
        "duration": 9,
        "start_time": "2022-12-20T14:08:44.727Z"
      },
      {
        "duration": 5,
        "start_time": "2022-12-20T14:23:26.035Z"
      },
      {
        "duration": 365,
        "start_time": "2022-12-20T14:23:34.644Z"
      },
      {
        "duration": 161,
        "start_time": "2022-12-20T14:23:35.011Z"
      },
      {
        "duration": 19,
        "start_time": "2022-12-20T14:23:35.177Z"
      },
      {
        "duration": 36,
        "start_time": "2022-12-20T14:23:35.199Z"
      },
      {
        "duration": 3,
        "start_time": "2022-12-20T14:23:35.236Z"
      },
      {
        "duration": 5,
        "start_time": "2022-12-20T14:23:35.241Z"
      },
      {
        "duration": 12,
        "start_time": "2022-12-20T14:23:35.247Z"
      },
      {
        "duration": 16,
        "start_time": "2022-12-20T14:23:35.261Z"
      },
      {
        "duration": 30,
        "start_time": "2022-12-20T14:23:35.279Z"
      },
      {
        "duration": 20,
        "start_time": "2022-12-20T14:23:35.317Z"
      },
      {
        "duration": 24,
        "start_time": "2022-12-20T14:23:35.338Z"
      },
      {
        "duration": 74,
        "start_time": "2022-12-20T14:23:35.364Z"
      },
      {
        "duration": 62,
        "start_time": "2022-12-20T14:23:35.439Z"
      },
      {
        "duration": 63,
        "start_time": "2022-12-20T14:23:35.503Z"
      },
      {
        "duration": 50,
        "start_time": "2022-12-20T14:23:35.568Z"
      },
      {
        "duration": 10,
        "start_time": "2022-12-20T14:23:35.620Z"
      },
      {
        "duration": 35,
        "start_time": "2022-12-20T14:23:35.632Z"
      },
      {
        "duration": 10,
        "start_time": "2022-12-20T14:23:35.668Z"
      },
      {
        "duration": 10,
        "start_time": "2022-12-20T14:23:35.679Z"
      },
      {
        "duration": 3,
        "start_time": "2022-12-20T14:23:35.715Z"
      },
      {
        "duration": 19,
        "start_time": "2022-12-20T14:23:35.720Z"
      },
      {
        "duration": 13,
        "start_time": "2022-12-20T14:23:35.740Z"
      },
      {
        "duration": 12,
        "start_time": "2022-12-20T14:23:35.754Z"
      },
      {
        "duration": 12,
        "start_time": "2022-12-20T14:23:35.767Z"
      },
      {
        "duration": 41,
        "start_time": "2022-12-20T14:23:35.781Z"
      },
      {
        "duration": 14,
        "start_time": "2022-12-20T14:23:35.824Z"
      },
      {
        "duration": 6,
        "start_time": "2022-12-20T14:23:35.840Z"
      },
      {
        "duration": 10,
        "start_time": "2022-12-20T14:23:35.850Z"
      },
      {
        "duration": 8,
        "start_time": "2022-12-20T14:23:35.861Z"
      },
      {
        "duration": 4,
        "start_time": "2022-12-20T14:23:35.871Z"
      },
      {
        "duration": 40,
        "start_time": "2022-12-20T14:23:35.876Z"
      },
      {
        "duration": 6,
        "start_time": "2022-12-20T14:23:35.918Z"
      },
      {
        "duration": 4,
        "start_time": "2022-12-20T14:23:35.925Z"
      },
      {
        "duration": 5,
        "start_time": "2022-12-20T14:23:35.930Z"
      },
      {
        "duration": 5,
        "start_time": "2022-12-20T14:23:35.936Z"
      },
      {
        "duration": 9,
        "start_time": "2022-12-20T14:23:35.942Z"
      },
      {
        "duration": 8,
        "start_time": "2022-12-20T14:23:35.953Z"
      },
      {
        "duration": 4,
        "start_time": "2022-12-20T14:23:35.962Z"
      },
      {
        "duration": 370,
        "start_time": "2022-12-20T14:29:24.139Z"
      },
      {
        "duration": 158,
        "start_time": "2022-12-20T14:29:24.511Z"
      },
      {
        "duration": 17,
        "start_time": "2022-12-20T14:29:24.671Z"
      },
      {
        "duration": 39,
        "start_time": "2022-12-20T14:29:24.690Z"
      },
      {
        "duration": 3,
        "start_time": "2022-12-20T14:29:24.730Z"
      },
      {
        "duration": 5,
        "start_time": "2022-12-20T14:29:24.735Z"
      },
      {
        "duration": 17,
        "start_time": "2022-12-20T14:29:24.742Z"
      },
      {
        "duration": 6,
        "start_time": "2022-12-20T14:29:24.761Z"
      },
      {
        "duration": 50,
        "start_time": "2022-12-20T14:29:24.769Z"
      },
      {
        "duration": 20,
        "start_time": "2022-12-20T14:29:24.821Z"
      },
      {
        "duration": 44,
        "start_time": "2022-12-20T14:29:24.843Z"
      },
      {
        "duration": 83,
        "start_time": "2022-12-20T14:29:24.889Z"
      },
      {
        "duration": 74,
        "start_time": "2022-12-20T14:29:24.974Z"
      },
      {
        "duration": 68,
        "start_time": "2022-12-20T14:29:25.052Z"
      },
      {
        "duration": 37,
        "start_time": "2022-12-20T14:29:25.121Z"
      },
      {
        "duration": 10,
        "start_time": "2022-12-20T14:29:25.159Z"
      },
      {
        "duration": 62,
        "start_time": "2022-12-20T14:29:25.171Z"
      },
      {
        "duration": 12,
        "start_time": "2022-12-20T14:29:25.235Z"
      },
      {
        "duration": 12,
        "start_time": "2022-12-20T14:29:25.248Z"
      },
      {
        "duration": 4,
        "start_time": "2022-12-20T14:29:25.262Z"
      },
      {
        "duration": 24,
        "start_time": "2022-12-20T14:29:25.268Z"
      },
      {
        "duration": 36,
        "start_time": "2022-12-20T14:29:25.294Z"
      },
      {
        "duration": 13,
        "start_time": "2022-12-20T14:29:25.332Z"
      },
      {
        "duration": 20,
        "start_time": "2022-12-20T14:29:25.346Z"
      },
      {
        "duration": 15,
        "start_time": "2022-12-20T14:29:25.367Z"
      },
      {
        "duration": 15,
        "start_time": "2022-12-20T14:29:25.416Z"
      },
      {
        "duration": 6,
        "start_time": "2022-12-20T14:29:25.433Z"
      },
      {
        "duration": 11,
        "start_time": "2022-12-20T14:29:25.440Z"
      },
      {
        "duration": 8,
        "start_time": "2022-12-20T14:29:25.453Z"
      },
      {
        "duration": 4,
        "start_time": "2022-12-20T14:29:25.463Z"
      },
      {
        "duration": 8,
        "start_time": "2022-12-20T14:29:25.468Z"
      },
      {
        "duration": 37,
        "start_time": "2022-12-20T14:29:25.478Z"
      },
      {
        "duration": 3,
        "start_time": "2022-12-20T14:29:25.517Z"
      },
      {
        "duration": 5,
        "start_time": "2022-12-20T14:29:25.521Z"
      },
      {
        "duration": 8,
        "start_time": "2022-12-20T14:29:25.527Z"
      },
      {
        "duration": 7,
        "start_time": "2022-12-20T14:29:25.537Z"
      },
      {
        "duration": 6,
        "start_time": "2022-12-20T14:29:25.546Z"
      },
      {
        "duration": 6,
        "start_time": "2022-12-20T14:29:25.553Z"
      },
      {
        "duration": 50,
        "start_time": "2022-12-20T14:39:53.338Z"
      },
      {
        "duration": 49,
        "start_time": "2022-12-20T14:39:57.608Z"
      },
      {
        "duration": 45,
        "start_time": "2022-12-20T14:45:40.059Z"
      },
      {
        "duration": 352,
        "start_time": "2022-12-20T14:45:54.751Z"
      },
      {
        "duration": 155,
        "start_time": "2022-12-20T14:45:55.105Z"
      },
      {
        "duration": 16,
        "start_time": "2022-12-20T14:45:55.264Z"
      },
      {
        "duration": 38,
        "start_time": "2022-12-20T14:45:55.281Z"
      },
      {
        "duration": 2,
        "start_time": "2022-12-20T14:45:55.320Z"
      },
      {
        "duration": 8,
        "start_time": "2022-12-20T14:45:55.324Z"
      },
      {
        "duration": 15,
        "start_time": "2022-12-20T14:45:55.334Z"
      },
      {
        "duration": 19,
        "start_time": "2022-12-20T14:45:55.350Z"
      },
      {
        "duration": 44,
        "start_time": "2022-12-20T14:45:55.371Z"
      },
      {
        "duration": 54,
        "start_time": "2022-12-20T14:45:55.416Z"
      },
      {
        "duration": 26,
        "start_time": "2022-12-20T14:45:55.472Z"
      },
      {
        "duration": 82,
        "start_time": "2022-12-20T14:45:55.499Z"
      },
      {
        "duration": 67,
        "start_time": "2022-12-20T14:45:55.583Z"
      },
      {
        "duration": 65,
        "start_time": "2022-12-20T14:45:55.652Z"
      },
      {
        "duration": 35,
        "start_time": "2022-12-20T14:45:55.719Z"
      },
      {
        "duration": 10,
        "start_time": "2022-12-20T14:45:55.756Z"
      },
      {
        "duration": 56,
        "start_time": "2022-12-20T14:45:55.767Z"
      },
      {
        "duration": 10,
        "start_time": "2022-12-20T14:45:55.824Z"
      },
      {
        "duration": 24,
        "start_time": "2022-12-20T14:45:55.835Z"
      },
      {
        "duration": 13,
        "start_time": "2022-12-20T14:45:55.860Z"
      },
      {
        "duration": 43,
        "start_time": "2022-12-20T14:45:55.874Z"
      },
      {
        "duration": 31,
        "start_time": "2022-12-20T14:45:55.918Z"
      },
      {
        "duration": 26,
        "start_time": "2022-12-20T14:45:55.950Z"
      },
      {
        "duration": 22,
        "start_time": "2022-12-20T14:45:55.977Z"
      },
      {
        "duration": 26,
        "start_time": "2022-12-20T14:45:56.001Z"
      },
      {
        "duration": 17,
        "start_time": "2022-12-20T14:45:56.029Z"
      },
      {
        "duration": 21,
        "start_time": "2022-12-20T14:45:56.050Z"
      },
      {
        "duration": 38,
        "start_time": "2022-12-20T14:45:56.073Z"
      },
      {
        "duration": 22,
        "start_time": "2022-12-20T14:45:56.113Z"
      },
      {
        "duration": 15,
        "start_time": "2022-12-20T14:45:56.136Z"
      },
      {
        "duration": 44,
        "start_time": "2022-12-20T14:45:56.152Z"
      },
      {
        "duration": 22,
        "start_time": "2022-12-20T14:45:56.197Z"
      },
      {
        "duration": 24,
        "start_time": "2022-12-20T14:45:56.221Z"
      },
      {
        "duration": 31,
        "start_time": "2022-12-20T14:45:56.247Z"
      },
      {
        "duration": 4,
        "start_time": "2022-12-20T14:45:56.280Z"
      },
      {
        "duration": 32,
        "start_time": "2022-12-20T14:45:56.285Z"
      },
      {
        "duration": 34,
        "start_time": "2022-12-20T14:45:56.319Z"
      },
      {
        "duration": 37,
        "start_time": "2022-12-20T14:45:56.355Z"
      },
      {
        "duration": 8,
        "start_time": "2022-12-20T14:59:59.140Z"
      },
      {
        "duration": 8,
        "start_time": "2022-12-20T15:00:03.198Z"
      },
      {
        "duration": 5,
        "start_time": "2022-12-20T15:00:38.610Z"
      },
      {
        "duration": 48,
        "start_time": "2022-12-20T15:20:00.787Z"
      },
      {
        "duration": 425,
        "start_time": "2022-12-20T15:20:09.811Z"
      },
      {
        "duration": 443,
        "start_time": "2022-12-20T15:20:10.238Z"
      },
      {
        "duration": 16,
        "start_time": "2022-12-20T15:20:10.683Z"
      },
      {
        "duration": 28,
        "start_time": "2022-12-20T15:20:10.701Z"
      },
      {
        "duration": 3,
        "start_time": "2022-12-20T15:20:10.730Z"
      },
      {
        "duration": 8,
        "start_time": "2022-12-20T15:20:10.734Z"
      },
      {
        "duration": 15,
        "start_time": "2022-12-20T15:20:10.743Z"
      },
      {
        "duration": 8,
        "start_time": "2022-12-20T15:20:10.759Z"
      },
      {
        "duration": 41,
        "start_time": "2022-12-20T15:20:10.768Z"
      },
      {
        "duration": 21,
        "start_time": "2022-12-20T15:20:10.811Z"
      },
      {
        "duration": 24,
        "start_time": "2022-12-20T15:20:10.833Z"
      },
      {
        "duration": 83,
        "start_time": "2022-12-20T15:20:10.858Z"
      },
      {
        "duration": 78,
        "start_time": "2022-12-20T15:20:10.942Z"
      },
      {
        "duration": 59,
        "start_time": "2022-12-20T15:20:11.022Z"
      },
      {
        "duration": 53,
        "start_time": "2022-12-20T15:20:11.082Z"
      },
      {
        "duration": 11,
        "start_time": "2022-12-20T15:20:11.136Z"
      },
      {
        "duration": 43,
        "start_time": "2022-12-20T15:20:11.149Z"
      },
      {
        "duration": 11,
        "start_time": "2022-12-20T15:20:11.205Z"
      },
      {
        "duration": 11,
        "start_time": "2022-12-20T15:20:11.217Z"
      },
      {
        "duration": 3,
        "start_time": "2022-12-20T15:20:11.230Z"
      },
      {
        "duration": 22,
        "start_time": "2022-12-20T15:20:11.235Z"
      },
      {
        "duration": 15,
        "start_time": "2022-12-20T15:20:11.259Z"
      },
      {
        "duration": 41,
        "start_time": "2022-12-20T15:20:11.275Z"
      },
      {
        "duration": 17,
        "start_time": "2022-12-20T15:20:11.317Z"
      },
      {
        "duration": 17,
        "start_time": "2022-12-20T15:20:11.336Z"
      },
      {
        "duration": 15,
        "start_time": "2022-12-20T15:20:11.355Z"
      },
      {
        "duration": 8,
        "start_time": "2022-12-20T15:20:11.404Z"
      },
      {
        "duration": 15,
        "start_time": "2022-12-20T15:20:11.415Z"
      },
      {
        "duration": 9,
        "start_time": "2022-12-20T15:20:11.432Z"
      },
      {
        "duration": 7,
        "start_time": "2022-12-20T15:20:11.442Z"
      },
      {
        "duration": 24,
        "start_time": "2022-12-20T15:20:11.450Z"
      },
      {
        "duration": 33,
        "start_time": "2022-12-20T15:20:11.476Z"
      },
      {
        "duration": 20,
        "start_time": "2022-12-20T15:20:11.510Z"
      },
      {
        "duration": 13,
        "start_time": "2022-12-20T15:20:11.532Z"
      },
      {
        "duration": 9,
        "start_time": "2022-12-20T15:20:11.546Z"
      },
      {
        "duration": 5,
        "start_time": "2022-12-20T15:20:11.557Z"
      },
      {
        "duration": 8,
        "start_time": "2022-12-20T15:20:11.563Z"
      },
      {
        "duration": 39,
        "start_time": "2022-12-20T15:20:11.573Z"
      },
      {
        "duration": 5,
        "start_time": "2022-12-20T15:20:47.673Z"
      },
      {
        "duration": 48,
        "start_time": "2022-12-27T18:20:30.942Z"
      },
      {
        "duration": 443,
        "start_time": "2022-12-27T18:20:42.796Z"
      },
      {
        "duration": 216,
        "start_time": "2022-12-27T18:20:43.241Z"
      },
      {
        "duration": 19,
        "start_time": "2022-12-27T18:20:43.458Z"
      },
      {
        "duration": 28,
        "start_time": "2022-12-27T18:20:43.481Z"
      },
      {
        "duration": 3,
        "start_time": "2022-12-27T18:20:43.511Z"
      },
      {
        "duration": 6,
        "start_time": "2022-12-27T18:20:43.516Z"
      },
      {
        "duration": 12,
        "start_time": "2022-12-27T18:20:43.523Z"
      },
      {
        "duration": 5,
        "start_time": "2022-12-27T18:20:43.537Z"
      },
      {
        "duration": 54,
        "start_time": "2022-12-27T18:20:43.543Z"
      },
      {
        "duration": 20,
        "start_time": "2022-12-27T18:20:43.600Z"
      },
      {
        "duration": 21,
        "start_time": "2022-12-27T18:20:43.622Z"
      },
      {
        "duration": 83,
        "start_time": "2022-12-27T18:20:43.645Z"
      },
      {
        "duration": 78,
        "start_time": "2022-12-27T18:20:43.729Z"
      },
      {
        "duration": 59,
        "start_time": "2022-12-27T18:20:43.809Z"
      },
      {
        "duration": 7,
        "start_time": "2022-12-27T18:20:43.870Z"
      },
      {
        "duration": 27,
        "start_time": "2022-12-27T18:20:43.879Z"
      },
      {
        "duration": 46,
        "start_time": "2022-12-27T18:20:43.908Z"
      },
      {
        "duration": 12,
        "start_time": "2022-12-27T18:20:43.956Z"
      },
      {
        "duration": 30,
        "start_time": "2022-12-27T18:20:43.969Z"
      },
      {
        "duration": 5,
        "start_time": "2022-12-27T18:20:44.001Z"
      },
      {
        "duration": 27,
        "start_time": "2022-12-27T18:20:44.008Z"
      },
      {
        "duration": 14,
        "start_time": "2022-12-27T18:20:44.037Z"
      },
      {
        "duration": 47,
        "start_time": "2022-12-27T18:20:44.053Z"
      },
      {
        "duration": 15,
        "start_time": "2022-12-27T18:20:44.102Z"
      },
      {
        "duration": 16,
        "start_time": "2022-12-27T18:20:44.118Z"
      },
      {
        "duration": 14,
        "start_time": "2022-12-27T18:20:44.135Z"
      },
      {
        "duration": 7,
        "start_time": "2022-12-27T18:20:44.151Z"
      },
      {
        "duration": 11,
        "start_time": "2022-12-27T18:20:44.196Z"
      },
      {
        "duration": 13,
        "start_time": "2022-12-27T18:20:44.209Z"
      },
      {
        "duration": 9,
        "start_time": "2022-12-27T18:20:44.225Z"
      },
      {
        "duration": 20,
        "start_time": "2022-12-27T18:20:44.235Z"
      },
      {
        "duration": 11,
        "start_time": "2022-12-27T18:20:44.256Z"
      },
      {
        "duration": 36,
        "start_time": "2022-12-27T18:20:44.269Z"
      },
      {
        "duration": 11,
        "start_time": "2022-12-27T18:20:44.307Z"
      },
      {
        "duration": 9,
        "start_time": "2022-12-27T18:20:44.320Z"
      },
      {
        "duration": 8,
        "start_time": "2022-12-27T18:20:44.331Z"
      },
      {
        "duration": 7,
        "start_time": "2022-12-27T18:20:44.340Z"
      },
      {
        "duration": 7,
        "start_time": "2022-12-27T18:20:44.348Z"
      },
      {
        "duration": 62,
        "start_time": "2022-12-27T18:21:25.450Z"
      },
      {
        "duration": 37,
        "start_time": "2022-12-27T18:21:39.144Z"
      },
      {
        "duration": 3,
        "start_time": "2022-12-27T18:35:09.677Z"
      },
      {
        "duration": 4,
        "start_time": "2022-12-27T18:35:14.071Z"
      },
      {
        "duration": 3,
        "start_time": "2022-12-27T18:35:58.682Z"
      },
      {
        "duration": 2,
        "start_time": "2022-12-27T18:36:11.470Z"
      },
      {
        "duration": 191,
        "start_time": "2022-12-27T18:36:11.476Z"
      },
      {
        "duration": 11,
        "start_time": "2022-12-27T18:36:11.669Z"
      },
      {
        "duration": 29,
        "start_time": "2022-12-27T18:36:11.696Z"
      },
      {
        "duration": 3,
        "start_time": "2022-12-27T18:36:11.727Z"
      },
      {
        "duration": 13,
        "start_time": "2022-12-27T18:36:11.731Z"
      },
      {
        "duration": 15,
        "start_time": "2022-12-27T18:36:11.746Z"
      },
      {
        "duration": 3,
        "start_time": "2022-12-27T18:36:11.763Z"
      },
      {
        "duration": 41,
        "start_time": "2022-12-27T18:36:11.768Z"
      },
      {
        "duration": 24,
        "start_time": "2022-12-27T18:36:11.811Z"
      },
      {
        "duration": 25,
        "start_time": "2022-12-27T18:36:11.838Z"
      },
      {
        "duration": 104,
        "start_time": "2022-12-27T18:36:11.865Z"
      },
      {
        "duration": 79,
        "start_time": "2022-12-27T18:36:11.971Z"
      },
      {
        "duration": 66,
        "start_time": "2022-12-27T18:36:12.054Z"
      },
      {
        "duration": 39,
        "start_time": "2022-12-27T18:36:12.122Z"
      },
      {
        "duration": 13,
        "start_time": "2022-12-27T18:36:12.163Z"
      },
      {
        "duration": 54,
        "start_time": "2022-12-27T18:36:12.197Z"
      },
      {
        "duration": 11,
        "start_time": "2022-12-27T18:36:12.252Z"
      },
      {
        "duration": 11,
        "start_time": "2022-12-27T18:36:12.264Z"
      },
      {
        "duration": 13,
        "start_time": "2022-12-27T18:36:12.276Z"
      },
      {
        "duration": 43,
        "start_time": "2022-12-27T18:36:12.291Z"
      },
      {
        "duration": 0,
        "start_time": "2022-12-27T18:36:12.337Z"
      },
      {
        "duration": 0,
        "start_time": "2022-12-27T18:36:12.339Z"
      },
      {
        "duration": 0,
        "start_time": "2022-12-27T18:36:12.340Z"
      },
      {
        "duration": 0,
        "start_time": "2022-12-27T18:36:12.342Z"
      },
      {
        "duration": 0,
        "start_time": "2022-12-27T18:36:12.344Z"
      },
      {
        "duration": 0,
        "start_time": "2022-12-27T18:36:12.345Z"
      },
      {
        "duration": 0,
        "start_time": "2022-12-27T18:36:12.348Z"
      },
      {
        "duration": 0,
        "start_time": "2022-12-27T18:36:12.349Z"
      },
      {
        "duration": 0,
        "start_time": "2022-12-27T18:36:12.351Z"
      },
      {
        "duration": 0,
        "start_time": "2022-12-27T18:36:12.353Z"
      },
      {
        "duration": 0,
        "start_time": "2022-12-27T18:36:12.354Z"
      },
      {
        "duration": 0,
        "start_time": "2022-12-27T18:36:12.356Z"
      },
      {
        "duration": 0,
        "start_time": "2022-12-27T18:36:12.358Z"
      },
      {
        "duration": 0,
        "start_time": "2022-12-27T18:36:12.359Z"
      },
      {
        "duration": 0,
        "start_time": "2022-12-27T18:36:12.361Z"
      },
      {
        "duration": 0,
        "start_time": "2022-12-27T18:36:12.362Z"
      },
      {
        "duration": 0,
        "start_time": "2022-12-27T18:36:12.364Z"
      },
      {
        "duration": 3,
        "start_time": "2022-12-27T18:36:24.170Z"
      },
      {
        "duration": 367,
        "start_time": "2022-12-27T18:38:08.337Z"
      },
      {
        "duration": 168,
        "start_time": "2022-12-27T18:38:08.706Z"
      },
      {
        "duration": 22,
        "start_time": "2022-12-27T18:38:08.875Z"
      },
      {
        "duration": 28,
        "start_time": "2022-12-27T18:38:08.899Z"
      },
      {
        "duration": 3,
        "start_time": "2022-12-27T18:38:08.929Z"
      },
      {
        "duration": 6,
        "start_time": "2022-12-27T18:38:08.933Z"
      },
      {
        "duration": 13,
        "start_time": "2022-12-27T18:38:08.940Z"
      },
      {
        "duration": 8,
        "start_time": "2022-12-27T18:38:08.955Z"
      },
      {
        "duration": 51,
        "start_time": "2022-12-27T18:38:08.964Z"
      },
      {
        "duration": 21,
        "start_time": "2022-12-27T18:38:09.017Z"
      },
      {
        "duration": 22,
        "start_time": "2022-12-27T18:38:09.040Z"
      },
      {
        "duration": 92,
        "start_time": "2022-12-27T18:38:09.064Z"
      },
      {
        "duration": 78,
        "start_time": "2022-12-27T18:38:09.157Z"
      },
      {
        "duration": 71,
        "start_time": "2022-12-27T18:38:09.237Z"
      },
      {
        "duration": 37,
        "start_time": "2022-12-27T18:38:09.310Z"
      },
      {
        "duration": 11,
        "start_time": "2022-12-27T18:38:09.348Z"
      },
      {
        "duration": 54,
        "start_time": "2022-12-27T18:38:09.361Z"
      },
      {
        "duration": 10,
        "start_time": "2022-12-27T18:38:09.417Z"
      },
      {
        "duration": 10,
        "start_time": "2022-12-27T18:38:09.429Z"
      },
      {
        "duration": 4,
        "start_time": "2022-12-27T18:38:09.440Z"
      },
      {
        "duration": 89,
        "start_time": "2022-12-27T18:38:09.445Z"
      },
      {
        "duration": 0,
        "start_time": "2022-12-27T18:38:09.536Z"
      },
      {
        "duration": 0,
        "start_time": "2022-12-27T18:38:09.537Z"
      },
      {
        "duration": 0,
        "start_time": "2022-12-27T18:38:09.538Z"
      },
      {
        "duration": 0,
        "start_time": "2022-12-27T18:38:09.540Z"
      },
      {
        "duration": 0,
        "start_time": "2022-12-27T18:38:09.541Z"
      },
      {
        "duration": 0,
        "start_time": "2022-12-27T18:38:09.542Z"
      },
      {
        "duration": 0,
        "start_time": "2022-12-27T18:38:09.543Z"
      },
      {
        "duration": 0,
        "start_time": "2022-12-27T18:38:09.544Z"
      },
      {
        "duration": 0,
        "start_time": "2022-12-27T18:38:09.545Z"
      },
      {
        "duration": 0,
        "start_time": "2022-12-27T18:38:09.546Z"
      },
      {
        "duration": 0,
        "start_time": "2022-12-27T18:38:09.547Z"
      },
      {
        "duration": 0,
        "start_time": "2022-12-27T18:38:09.548Z"
      },
      {
        "duration": 0,
        "start_time": "2022-12-27T18:38:09.549Z"
      },
      {
        "duration": 0,
        "start_time": "2022-12-27T18:38:09.551Z"
      },
      {
        "duration": 0,
        "start_time": "2022-12-27T18:38:09.552Z"
      },
      {
        "duration": 0,
        "start_time": "2022-12-27T18:38:09.553Z"
      },
      {
        "duration": 0,
        "start_time": "2022-12-27T18:38:09.554Z"
      },
      {
        "duration": 414,
        "start_time": "2022-12-27T18:44:28.238Z"
      },
      {
        "duration": 162,
        "start_time": "2022-12-27T18:44:28.654Z"
      },
      {
        "duration": 17,
        "start_time": "2022-12-27T18:44:28.817Z"
      },
      {
        "duration": 29,
        "start_time": "2022-12-27T18:44:28.836Z"
      },
      {
        "duration": 3,
        "start_time": "2022-12-27T18:44:28.867Z"
      },
      {
        "duration": 26,
        "start_time": "2022-12-27T18:44:28.871Z"
      },
      {
        "duration": 25,
        "start_time": "2022-12-27T18:44:28.899Z"
      },
      {
        "duration": 7,
        "start_time": "2022-12-27T18:44:28.926Z"
      },
      {
        "duration": 28,
        "start_time": "2022-12-27T18:44:28.934Z"
      },
      {
        "duration": 41,
        "start_time": "2022-12-27T18:44:28.965Z"
      },
      {
        "duration": 30,
        "start_time": "2022-12-27T18:44:29.008Z"
      },
      {
        "duration": 78,
        "start_time": "2022-12-27T18:44:29.040Z"
      },
      {
        "duration": 85,
        "start_time": "2022-12-27T18:44:29.119Z"
      },
      {
        "duration": 60,
        "start_time": "2022-12-27T18:44:29.206Z"
      },
      {
        "duration": 48,
        "start_time": "2022-12-27T18:44:29.268Z"
      },
      {
        "duration": 13,
        "start_time": "2022-12-27T18:44:29.318Z"
      },
      {
        "duration": 63,
        "start_time": "2022-12-27T18:44:29.334Z"
      },
      {
        "duration": 12,
        "start_time": "2022-12-27T18:44:29.399Z"
      },
      {
        "duration": 11,
        "start_time": "2022-12-27T18:44:29.413Z"
      },
      {
        "duration": 4,
        "start_time": "2022-12-27T18:44:29.426Z"
      },
      {
        "duration": 32,
        "start_time": "2022-12-27T18:44:29.431Z"
      },
      {
        "duration": 40,
        "start_time": "2022-12-27T18:44:29.465Z"
      },
      {
        "duration": 20,
        "start_time": "2022-12-27T18:44:29.507Z"
      },
      {
        "duration": 16,
        "start_time": "2022-12-27T18:44:29.529Z"
      },
      {
        "duration": 17,
        "start_time": "2022-12-27T18:44:29.546Z"
      },
      {
        "duration": 23,
        "start_time": "2022-12-27T18:44:29.597Z"
      },
      {
        "duration": 8,
        "start_time": "2022-12-27T18:44:29.622Z"
      },
      {
        "duration": 23,
        "start_time": "2022-12-27T18:44:29.634Z"
      },
      {
        "duration": 12,
        "start_time": "2022-12-27T18:44:29.660Z"
      },
      {
        "duration": 23,
        "start_time": "2022-12-27T18:44:29.674Z"
      },
      {
        "duration": 35,
        "start_time": "2022-12-27T18:44:29.699Z"
      },
      {
        "duration": 17,
        "start_time": "2022-12-27T18:44:29.736Z"
      },
      {
        "duration": 41,
        "start_time": "2022-12-27T18:44:29.757Z"
      },
      {
        "duration": 18,
        "start_time": "2022-12-27T18:44:29.800Z"
      },
      {
        "duration": 11,
        "start_time": "2022-12-27T18:44:29.820Z"
      },
      {
        "duration": 6,
        "start_time": "2022-12-27T18:44:29.833Z"
      },
      {
        "duration": 12,
        "start_time": "2022-12-27T18:44:29.842Z"
      },
      {
        "duration": 13,
        "start_time": "2022-12-27T18:44:29.857Z"
      },
      {
        "duration": 48,
        "start_time": "2022-12-27T18:51:59.406Z"
      },
      {
        "duration": 46,
        "start_time": "2022-12-27T18:52:25.091Z"
      },
      {
        "duration": 46,
        "start_time": "2022-12-27T18:53:32.385Z"
      },
      {
        "duration": 52,
        "start_time": "2022-12-27T18:53:56.346Z"
      },
      {
        "duration": 45,
        "start_time": "2022-12-27T18:57:20.701Z"
      },
      {
        "duration": 9,
        "start_time": "2022-12-27T18:58:39.457Z"
      },
      {
        "duration": 6,
        "start_time": "2022-12-27T19:20:31.145Z"
      },
      {
        "duration": 6,
        "start_time": "2022-12-27T19:20:36.541Z"
      },
      {
        "duration": 403,
        "start_time": "2022-12-27T19:20:47.293Z"
      },
      {
        "duration": 165,
        "start_time": "2022-12-27T19:20:47.698Z"
      },
      {
        "duration": 17,
        "start_time": "2022-12-27T19:20:47.866Z"
      },
      {
        "duration": 42,
        "start_time": "2022-12-27T19:20:47.896Z"
      },
      {
        "duration": 6,
        "start_time": "2022-12-27T19:20:47.940Z"
      },
      {
        "duration": 15,
        "start_time": "2022-12-27T19:20:47.948Z"
      },
      {
        "duration": 16,
        "start_time": "2022-12-27T19:20:47.965Z"
      },
      {
        "duration": 13,
        "start_time": "2022-12-27T19:20:47.983Z"
      },
      {
        "duration": 36,
        "start_time": "2022-12-27T19:20:47.998Z"
      },
      {
        "duration": 22,
        "start_time": "2022-12-27T19:20:48.036Z"
      },
      {
        "duration": 38,
        "start_time": "2022-12-27T19:20:48.059Z"
      },
      {
        "duration": 82,
        "start_time": "2022-12-27T19:20:48.100Z"
      },
      {
        "duration": 81,
        "start_time": "2022-12-27T19:20:48.200Z"
      },
      {
        "duration": 78,
        "start_time": "2022-12-27T19:20:48.283Z"
      },
      {
        "duration": 48,
        "start_time": "2022-12-27T19:20:48.363Z"
      },
      {
        "duration": 14,
        "start_time": "2022-12-27T19:20:48.414Z"
      },
      {
        "duration": 37,
        "start_time": "2022-12-27T19:20:48.430Z"
      },
      {
        "duration": 43,
        "start_time": "2022-12-27T19:20:48.469Z"
      },
      {
        "duration": 11,
        "start_time": "2022-12-27T19:20:48.514Z"
      },
      {
        "duration": 4,
        "start_time": "2022-12-27T19:20:48.526Z"
      },
      {
        "duration": 26,
        "start_time": "2022-12-27T19:20:48.532Z"
      },
      {
        "duration": 40,
        "start_time": "2022-12-27T19:20:48.559Z"
      },
      {
        "duration": 22,
        "start_time": "2022-12-27T19:20:48.601Z"
      },
      {
        "duration": 15,
        "start_time": "2022-12-27T19:20:48.625Z"
      },
      {
        "duration": 17,
        "start_time": "2022-12-27T19:20:48.642Z"
      },
      {
        "duration": 54,
        "start_time": "2022-12-27T19:20:48.660Z"
      },
      {
        "duration": 10,
        "start_time": "2022-12-27T19:20:48.717Z"
      },
      {
        "duration": 15,
        "start_time": "2022-12-27T19:20:48.728Z"
      },
      {
        "duration": 10,
        "start_time": "2022-12-27T19:20:48.745Z"
      },
      {
        "duration": 5,
        "start_time": "2022-12-27T19:20:48.756Z"
      },
      {
        "duration": 46,
        "start_time": "2022-12-27T19:20:48.763Z"
      },
      {
        "duration": 13,
        "start_time": "2022-12-27T19:20:48.811Z"
      },
      {
        "duration": 19,
        "start_time": "2022-12-27T19:20:48.827Z"
      },
      {
        "duration": 12,
        "start_time": "2022-12-27T19:20:48.848Z"
      },
      {
        "duration": 36,
        "start_time": "2022-12-27T19:20:48.862Z"
      },
      {
        "duration": 10,
        "start_time": "2022-12-27T19:20:48.903Z"
      },
      {
        "duration": 12,
        "start_time": "2022-12-27T19:20:48.916Z"
      },
      {
        "duration": 8,
        "start_time": "2022-12-27T19:20:48.929Z"
      },
      {
        "duration": 5,
        "start_time": "2022-12-27T19:21:02.683Z"
      },
      {
        "duration": 452,
        "start_time": "2022-12-27T19:21:09.978Z"
      },
      {
        "duration": 187,
        "start_time": "2022-12-27T19:21:10.432Z"
      },
      {
        "duration": 20,
        "start_time": "2022-12-27T19:21:10.622Z"
      },
      {
        "duration": 28,
        "start_time": "2022-12-27T19:21:10.644Z"
      },
      {
        "duration": 22,
        "start_time": "2022-12-27T19:21:10.674Z"
      },
      {
        "duration": 6,
        "start_time": "2022-12-27T19:21:10.700Z"
      },
      {
        "duration": 24,
        "start_time": "2022-12-27T19:21:10.709Z"
      },
      {
        "duration": 5,
        "start_time": "2022-12-27T19:21:10.735Z"
      },
      {
        "duration": 34,
        "start_time": "2022-12-27T19:21:10.742Z"
      },
      {
        "duration": 36,
        "start_time": "2022-12-27T19:21:10.805Z"
      },
      {
        "duration": 35,
        "start_time": "2022-12-27T19:21:10.843Z"
      },
      {
        "duration": 91,
        "start_time": "2022-12-27T19:21:10.880Z"
      },
      {
        "duration": 90,
        "start_time": "2022-12-27T19:21:10.973Z"
      },
      {
        "duration": 83,
        "start_time": "2022-12-27T19:21:11.066Z"
      },
      {
        "duration": 35,
        "start_time": "2022-12-27T19:21:11.150Z"
      },
      {
        "duration": 21,
        "start_time": "2022-12-27T19:21:11.200Z"
      },
      {
        "duration": 36,
        "start_time": "2022-12-27T19:21:11.223Z"
      },
      {
        "duration": 37,
        "start_time": "2022-12-27T19:21:11.261Z"
      },
      {
        "duration": 14,
        "start_time": "2022-12-27T19:21:11.300Z"
      },
      {
        "duration": 5,
        "start_time": "2022-12-27T19:21:11.316Z"
      },
      {
        "duration": 24,
        "start_time": "2022-12-27T19:21:11.322Z"
      },
      {
        "duration": 14,
        "start_time": "2022-12-27T19:21:11.348Z"
      },
      {
        "duration": 43,
        "start_time": "2022-12-27T19:21:11.363Z"
      },
      {
        "duration": 16,
        "start_time": "2022-12-27T19:21:11.412Z"
      },
      {
        "duration": 15,
        "start_time": "2022-12-27T19:21:11.429Z"
      },
      {
        "duration": 14,
        "start_time": "2022-12-27T19:21:11.445Z"
      },
      {
        "duration": 37,
        "start_time": "2022-12-27T19:21:11.461Z"
      },
      {
        "duration": 14,
        "start_time": "2022-12-27T19:21:11.499Z"
      },
      {
        "duration": 13,
        "start_time": "2022-12-27T19:21:11.515Z"
      },
      {
        "duration": 5,
        "start_time": "2022-12-27T19:21:11.530Z"
      },
      {
        "duration": 25,
        "start_time": "2022-12-27T19:21:11.537Z"
      },
      {
        "duration": 38,
        "start_time": "2022-12-27T19:21:11.564Z"
      },
      {
        "duration": 27,
        "start_time": "2022-12-27T19:21:11.604Z"
      },
      {
        "duration": 13,
        "start_time": "2022-12-27T19:21:11.633Z"
      },
      {
        "duration": 8,
        "start_time": "2022-12-27T19:21:11.648Z"
      },
      {
        "duration": 5,
        "start_time": "2022-12-27T19:21:11.657Z"
      },
      {
        "duration": 42,
        "start_time": "2022-12-27T19:21:11.664Z"
      },
      {
        "duration": 11,
        "start_time": "2022-12-27T19:21:11.708Z"
      },
      {
        "duration": 8,
        "start_time": "2022-12-27T19:22:16.557Z"
      },
      {
        "duration": 7,
        "start_time": "2022-12-27T19:22:20.316Z"
      },
      {
        "duration": 6,
        "start_time": "2022-12-27T19:22:49.789Z"
      },
      {
        "duration": 5,
        "start_time": "2022-12-27T19:22:53.140Z"
      },
      {
        "duration": 8,
        "start_time": "2022-12-27T19:22:57.513Z"
      },
      {
        "duration": 5,
        "start_time": "2022-12-27T19:23:29.991Z"
      },
      {
        "duration": 12,
        "start_time": "2022-12-27T19:23:33.905Z"
      },
      {
        "duration": 13,
        "start_time": "2022-12-27T19:23:41.810Z"
      },
      {
        "duration": 5,
        "start_time": "2022-12-27T19:23:44.324Z"
      },
      {
        "duration": 10,
        "start_time": "2023-02-08T21:14:53.287Z"
      }
    ],
    "colab": {
      "provenance": []
    },
    "kernelspec": {
      "display_name": "Python 3 (ipykernel)",
      "language": "python",
      "name": "python3"
    },
    "language_info": {
      "codemirror_mode": {
        "name": "ipython",
        "version": 3
      },
      "file_extension": ".py",
      "mimetype": "text/x-python",
      "name": "python",
      "nbconvert_exporter": "python",
      "pygments_lexer": "ipython3",
      "version": "3.10.9"
    },
    "toc": {
      "base_numbering": 1,
      "nav_menu": {
        "height": "215px",
        "width": "403px"
      },
      "number_sections": true,
      "sideBar": true,
      "skip_h1_title": true,
      "title_cell": "Table of Contents",
      "title_sidebar": "Contents",
      "toc_cell": false,
      "toc_position": {
        "height": "calc(100% - 180px)",
        "left": "10px",
        "top": "150px",
        "width": "285.825px"
      },
      "toc_section_display": true,
      "toc_window_display": false
    }
  },
  "nbformat": 4,
  "nbformat_minor": 0
}