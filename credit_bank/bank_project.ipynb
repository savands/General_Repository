{
  "cells": [
    {
      "cell_type": "markdown",
      "id": "744d7639",
      "metadata": {
        "deletable": false,
        "editable": false,
        "id": "744d7639"
      },
      "source": [
        "## Часть 1 Первоначальное ознакомление с данными"
      ]
    },
    {
      "cell_type": "code",
      "execution_count": 145,
      "id": "7bcf75c9",
      "metadata": {
        "id": "7bcf75c9"
      },
      "outputs": [],
      "source": [
        "import pandas as pd\n",
        "\n",
        "import warnings\n",
        "\n",
        "warnings.filterwarnings(action='ignore')"
      ]
    },
    {
      "cell_type": "code",
      "execution_count": 146,
      "id": "4d240ee2",
      "metadata": {
        "id": "4d240ee2"
      },
      "outputs": [],
      "source": [
        "data = pd.read_csv('https://code.s3.yandex.net/datasets/data.csv')"
      ]
    },
    {
      "cell_type": "code",
      "execution_count": 147,
      "id": "2a7cab99",
      "metadata": {
        "id": "2a7cab99",
        "colab": {
          "base_uri": "https://localhost:8080/",
          "height": 1000
        },
        "outputId": "c3fa81ac-5bcb-4533-897a-ab31efa80ed4"
      },
      "outputs": [
        {
          "output_type": "execute_result",
          "data": {
            "text/plain": [
              "    children  days_employed  dob_years            education  education_id  \\\n",
              "0          1   -8437.673028         42               высшее             0   \n",
              "1          1   -4024.803754         36              среднее             1   \n",
              "2          0   -5623.422610         33              Среднее             1   \n",
              "3          3   -4124.747207         32              среднее             1   \n",
              "4          0  340266.072047         53              среднее             1   \n",
              "5          0    -926.185831         27               высшее             0   \n",
              "6          0   -2879.202052         43               высшее             0   \n",
              "7          0    -152.779569         50              СРЕДНЕЕ             1   \n",
              "8          2   -6929.865299         35               ВЫСШЕЕ             0   \n",
              "9          0   -2188.756445         41              среднее             1   \n",
              "10         2   -4171.483647         36               высшее             0   \n",
              "11         0    -792.701887         40              среднее             1   \n",
              "12         0            NaN         65              среднее             1   \n",
              "13         0   -1846.641941         54  неоконченное высшее             2   \n",
              "14         0   -1844.956182         56               высшее             0   \n",
              "15         1    -972.364419         26              среднее             1   \n",
              "16         0   -1719.934226         35              среднее             1   \n",
              "17         0   -2369.999720         33               высшее             0   \n",
              "18         0  400281.136913         53              среднее             1   \n",
              "19         0  -10038.818549         48              СРЕДНЕЕ             1   \n",
              "\n",
              "       family_status  family_status_id gender income_type  debt  \\\n",
              "0    женат / замужем                 0      F   сотрудник     0   \n",
              "1    женат / замужем                 0      F   сотрудник     0   \n",
              "2    женат / замужем                 0      M   сотрудник     0   \n",
              "3    женат / замужем                 0      M   сотрудник     0   \n",
              "4   гражданский брак                 1      F   пенсионер     0   \n",
              "5   гражданский брак                 1      M   компаньон     0   \n",
              "6    женат / замужем                 0      F   компаньон     0   \n",
              "7    женат / замужем                 0      M   сотрудник     0   \n",
              "8   гражданский брак                 1      F   сотрудник     0   \n",
              "9    женат / замужем                 0      M   сотрудник     0   \n",
              "10   женат / замужем                 0      M   компаньон     0   \n",
              "11   женат / замужем                 0      F   сотрудник     0   \n",
              "12  гражданский брак                 1      M   пенсионер     0   \n",
              "13   женат / замужем                 0      F   сотрудник     0   \n",
              "14  гражданский брак                 1      F   компаньон     1   \n",
              "15   женат / замужем                 0      F   сотрудник     0   \n",
              "16   женат / замужем                 0      F   сотрудник     0   \n",
              "17  гражданский брак                 1      M   сотрудник     0   \n",
              "18    вдовец / вдова                 2      F   пенсионер     0   \n",
              "19         в разводе                 3      F   сотрудник     0   \n",
              "\n",
              "     total_income                                 purpose  \n",
              "0   253875.639453                           покупка жилья  \n",
              "1   112080.014102                 приобретение автомобиля  \n",
              "2   145885.952297                           покупка жилья  \n",
              "3   267628.550329              дополнительное образование  \n",
              "4   158616.077870                         сыграть свадьбу  \n",
              "5   255763.565419                           покупка жилья  \n",
              "6   240525.971920                       операции с жильем  \n",
              "7   135823.934197                             образование  \n",
              "8    95856.832424                   на проведение свадьбы  \n",
              "9   144425.938277                 покупка жилья для семьи  \n",
              "10  113943.491460                    покупка недвижимости  \n",
              "11   77069.234271       покупка коммерческой недвижимости  \n",
              "12            NaN                         сыграть свадьбу  \n",
              "13  130458.228857                 приобретение автомобиля  \n",
              "14  165127.911772              покупка жилой недвижимости  \n",
              "15  116820.904450  строительство собственной недвижимости  \n",
              "16  289202.704229                            недвижимость  \n",
              "17   90410.586745              строительство недвижимости  \n",
              "18   56823.777243      на покупку подержанного автомобиля  \n",
              "19  242831.107982            на покупку своего автомобиля  "
            ],
            "text/html": [
              "\n",
              "\n",
              "  <div id=\"df-770cd7fa-2f25-4f50-bbbb-a5fa47e0b81f\">\n",
              "    <div class=\"colab-df-container\">\n",
              "      <div>\n",
              "<style scoped>\n",
              "    .dataframe tbody tr th:only-of-type {\n",
              "        vertical-align: middle;\n",
              "    }\n",
              "\n",
              "    .dataframe tbody tr th {\n",
              "        vertical-align: top;\n",
              "    }\n",
              "\n",
              "    .dataframe thead th {\n",
              "        text-align: right;\n",
              "    }\n",
              "</style>\n",
              "<table border=\"1\" class=\"dataframe\">\n",
              "  <thead>\n",
              "    <tr style=\"text-align: right;\">\n",
              "      <th></th>\n",
              "      <th>children</th>\n",
              "      <th>days_employed</th>\n",
              "      <th>dob_years</th>\n",
              "      <th>education</th>\n",
              "      <th>education_id</th>\n",
              "      <th>family_status</th>\n",
              "      <th>family_status_id</th>\n",
              "      <th>gender</th>\n",
              "      <th>income_type</th>\n",
              "      <th>debt</th>\n",
              "      <th>total_income</th>\n",
              "      <th>purpose</th>\n",
              "    </tr>\n",
              "  </thead>\n",
              "  <tbody>\n",
              "    <tr>\n",
              "      <th>0</th>\n",
              "      <td>1</td>\n",
              "      <td>-8437.673028</td>\n",
              "      <td>42</td>\n",
              "      <td>высшее</td>\n",
              "      <td>0</td>\n",
              "      <td>женат / замужем</td>\n",
              "      <td>0</td>\n",
              "      <td>F</td>\n",
              "      <td>сотрудник</td>\n",
              "      <td>0</td>\n",
              "      <td>253875.639453</td>\n",
              "      <td>покупка жилья</td>\n",
              "    </tr>\n",
              "    <tr>\n",
              "      <th>1</th>\n",
              "      <td>1</td>\n",
              "      <td>-4024.803754</td>\n",
              "      <td>36</td>\n",
              "      <td>среднее</td>\n",
              "      <td>1</td>\n",
              "      <td>женат / замужем</td>\n",
              "      <td>0</td>\n",
              "      <td>F</td>\n",
              "      <td>сотрудник</td>\n",
              "      <td>0</td>\n",
              "      <td>112080.014102</td>\n",
              "      <td>приобретение автомобиля</td>\n",
              "    </tr>\n",
              "    <tr>\n",
              "      <th>2</th>\n",
              "      <td>0</td>\n",
              "      <td>-5623.422610</td>\n",
              "      <td>33</td>\n",
              "      <td>Среднее</td>\n",
              "      <td>1</td>\n",
              "      <td>женат / замужем</td>\n",
              "      <td>0</td>\n",
              "      <td>M</td>\n",
              "      <td>сотрудник</td>\n",
              "      <td>0</td>\n",
              "      <td>145885.952297</td>\n",
              "      <td>покупка жилья</td>\n",
              "    </tr>\n",
              "    <tr>\n",
              "      <th>3</th>\n",
              "      <td>3</td>\n",
              "      <td>-4124.747207</td>\n",
              "      <td>32</td>\n",
              "      <td>среднее</td>\n",
              "      <td>1</td>\n",
              "      <td>женат / замужем</td>\n",
              "      <td>0</td>\n",
              "      <td>M</td>\n",
              "      <td>сотрудник</td>\n",
              "      <td>0</td>\n",
              "      <td>267628.550329</td>\n",
              "      <td>дополнительное образование</td>\n",
              "    </tr>\n",
              "    <tr>\n",
              "      <th>4</th>\n",
              "      <td>0</td>\n",
              "      <td>340266.072047</td>\n",
              "      <td>53</td>\n",
              "      <td>среднее</td>\n",
              "      <td>1</td>\n",
              "      <td>гражданский брак</td>\n",
              "      <td>1</td>\n",
              "      <td>F</td>\n",
              "      <td>пенсионер</td>\n",
              "      <td>0</td>\n",
              "      <td>158616.077870</td>\n",
              "      <td>сыграть свадьбу</td>\n",
              "    </tr>\n",
              "    <tr>\n",
              "      <th>5</th>\n",
              "      <td>0</td>\n",
              "      <td>-926.185831</td>\n",
              "      <td>27</td>\n",
              "      <td>высшее</td>\n",
              "      <td>0</td>\n",
              "      <td>гражданский брак</td>\n",
              "      <td>1</td>\n",
              "      <td>M</td>\n",
              "      <td>компаньон</td>\n",
              "      <td>0</td>\n",
              "      <td>255763.565419</td>\n",
              "      <td>покупка жилья</td>\n",
              "    </tr>\n",
              "    <tr>\n",
              "      <th>6</th>\n",
              "      <td>0</td>\n",
              "      <td>-2879.202052</td>\n",
              "      <td>43</td>\n",
              "      <td>высшее</td>\n",
              "      <td>0</td>\n",
              "      <td>женат / замужем</td>\n",
              "      <td>0</td>\n",
              "      <td>F</td>\n",
              "      <td>компаньон</td>\n",
              "      <td>0</td>\n",
              "      <td>240525.971920</td>\n",
              "      <td>операции с жильем</td>\n",
              "    </tr>\n",
              "    <tr>\n",
              "      <th>7</th>\n",
              "      <td>0</td>\n",
              "      <td>-152.779569</td>\n",
              "      <td>50</td>\n",
              "      <td>СРЕДНЕЕ</td>\n",
              "      <td>1</td>\n",
              "      <td>женат / замужем</td>\n",
              "      <td>0</td>\n",
              "      <td>M</td>\n",
              "      <td>сотрудник</td>\n",
              "      <td>0</td>\n",
              "      <td>135823.934197</td>\n",
              "      <td>образование</td>\n",
              "    </tr>\n",
              "    <tr>\n",
              "      <th>8</th>\n",
              "      <td>2</td>\n",
              "      <td>-6929.865299</td>\n",
              "      <td>35</td>\n",
              "      <td>ВЫСШЕЕ</td>\n",
              "      <td>0</td>\n",
              "      <td>гражданский брак</td>\n",
              "      <td>1</td>\n",
              "      <td>F</td>\n",
              "      <td>сотрудник</td>\n",
              "      <td>0</td>\n",
              "      <td>95856.832424</td>\n",
              "      <td>на проведение свадьбы</td>\n",
              "    </tr>\n",
              "    <tr>\n",
              "      <th>9</th>\n",
              "      <td>0</td>\n",
              "      <td>-2188.756445</td>\n",
              "      <td>41</td>\n",
              "      <td>среднее</td>\n",
              "      <td>1</td>\n",
              "      <td>женат / замужем</td>\n",
              "      <td>0</td>\n",
              "      <td>M</td>\n",
              "      <td>сотрудник</td>\n",
              "      <td>0</td>\n",
              "      <td>144425.938277</td>\n",
              "      <td>покупка жилья для семьи</td>\n",
              "    </tr>\n",
              "    <tr>\n",
              "      <th>10</th>\n",
              "      <td>2</td>\n",
              "      <td>-4171.483647</td>\n",
              "      <td>36</td>\n",
              "      <td>высшее</td>\n",
              "      <td>0</td>\n",
              "      <td>женат / замужем</td>\n",
              "      <td>0</td>\n",
              "      <td>M</td>\n",
              "      <td>компаньон</td>\n",
              "      <td>0</td>\n",
              "      <td>113943.491460</td>\n",
              "      <td>покупка недвижимости</td>\n",
              "    </tr>\n",
              "    <tr>\n",
              "      <th>11</th>\n",
              "      <td>0</td>\n",
              "      <td>-792.701887</td>\n",
              "      <td>40</td>\n",
              "      <td>среднее</td>\n",
              "      <td>1</td>\n",
              "      <td>женат / замужем</td>\n",
              "      <td>0</td>\n",
              "      <td>F</td>\n",
              "      <td>сотрудник</td>\n",
              "      <td>0</td>\n",
              "      <td>77069.234271</td>\n",
              "      <td>покупка коммерческой недвижимости</td>\n",
              "    </tr>\n",
              "    <tr>\n",
              "      <th>12</th>\n",
              "      <td>0</td>\n",
              "      <td>NaN</td>\n",
              "      <td>65</td>\n",
              "      <td>среднее</td>\n",
              "      <td>1</td>\n",
              "      <td>гражданский брак</td>\n",
              "      <td>1</td>\n",
              "      <td>M</td>\n",
              "      <td>пенсионер</td>\n",
              "      <td>0</td>\n",
              "      <td>NaN</td>\n",
              "      <td>сыграть свадьбу</td>\n",
              "    </tr>\n",
              "    <tr>\n",
              "      <th>13</th>\n",
              "      <td>0</td>\n",
              "      <td>-1846.641941</td>\n",
              "      <td>54</td>\n",
              "      <td>неоконченное высшее</td>\n",
              "      <td>2</td>\n",
              "      <td>женат / замужем</td>\n",
              "      <td>0</td>\n",
              "      <td>F</td>\n",
              "      <td>сотрудник</td>\n",
              "      <td>0</td>\n",
              "      <td>130458.228857</td>\n",
              "      <td>приобретение автомобиля</td>\n",
              "    </tr>\n",
              "    <tr>\n",
              "      <th>14</th>\n",
              "      <td>0</td>\n",
              "      <td>-1844.956182</td>\n",
              "      <td>56</td>\n",
              "      <td>высшее</td>\n",
              "      <td>0</td>\n",
              "      <td>гражданский брак</td>\n",
              "      <td>1</td>\n",
              "      <td>F</td>\n",
              "      <td>компаньон</td>\n",
              "      <td>1</td>\n",
              "      <td>165127.911772</td>\n",
              "      <td>покупка жилой недвижимости</td>\n",
              "    </tr>\n",
              "    <tr>\n",
              "      <th>15</th>\n",
              "      <td>1</td>\n",
              "      <td>-972.364419</td>\n",
              "      <td>26</td>\n",
              "      <td>среднее</td>\n",
              "      <td>1</td>\n",
              "      <td>женат / замужем</td>\n",
              "      <td>0</td>\n",
              "      <td>F</td>\n",
              "      <td>сотрудник</td>\n",
              "      <td>0</td>\n",
              "      <td>116820.904450</td>\n",
              "      <td>строительство собственной недвижимости</td>\n",
              "    </tr>\n",
              "    <tr>\n",
              "      <th>16</th>\n",
              "      <td>0</td>\n",
              "      <td>-1719.934226</td>\n",
              "      <td>35</td>\n",
              "      <td>среднее</td>\n",
              "      <td>1</td>\n",
              "      <td>женат / замужем</td>\n",
              "      <td>0</td>\n",
              "      <td>F</td>\n",
              "      <td>сотрудник</td>\n",
              "      <td>0</td>\n",
              "      <td>289202.704229</td>\n",
              "      <td>недвижимость</td>\n",
              "    </tr>\n",
              "    <tr>\n",
              "      <th>17</th>\n",
              "      <td>0</td>\n",
              "      <td>-2369.999720</td>\n",
              "      <td>33</td>\n",
              "      <td>высшее</td>\n",
              "      <td>0</td>\n",
              "      <td>гражданский брак</td>\n",
              "      <td>1</td>\n",
              "      <td>M</td>\n",
              "      <td>сотрудник</td>\n",
              "      <td>0</td>\n",
              "      <td>90410.586745</td>\n",
              "      <td>строительство недвижимости</td>\n",
              "    </tr>\n",
              "    <tr>\n",
              "      <th>18</th>\n",
              "      <td>0</td>\n",
              "      <td>400281.136913</td>\n",
              "      <td>53</td>\n",
              "      <td>среднее</td>\n",
              "      <td>1</td>\n",
              "      <td>вдовец / вдова</td>\n",
              "      <td>2</td>\n",
              "      <td>F</td>\n",
              "      <td>пенсионер</td>\n",
              "      <td>0</td>\n",
              "      <td>56823.777243</td>\n",
              "      <td>на покупку подержанного автомобиля</td>\n",
              "    </tr>\n",
              "    <tr>\n",
              "      <th>19</th>\n",
              "      <td>0</td>\n",
              "      <td>-10038.818549</td>\n",
              "      <td>48</td>\n",
              "      <td>СРЕДНЕЕ</td>\n",
              "      <td>1</td>\n",
              "      <td>в разводе</td>\n",
              "      <td>3</td>\n",
              "      <td>F</td>\n",
              "      <td>сотрудник</td>\n",
              "      <td>0</td>\n",
              "      <td>242831.107982</td>\n",
              "      <td>на покупку своего автомобиля</td>\n",
              "    </tr>\n",
              "  </tbody>\n",
              "</table>\n",
              "</div>\n",
              "      <button class=\"colab-df-convert\" onclick=\"convertToInteractive('df-770cd7fa-2f25-4f50-bbbb-a5fa47e0b81f')\"\n",
              "              title=\"Convert this dataframe to an interactive table.\"\n",
              "              style=\"display:none;\">\n",
              "\n",
              "  <svg xmlns=\"http://www.w3.org/2000/svg\" height=\"24px\"viewBox=\"0 0 24 24\"\n",
              "       width=\"24px\">\n",
              "    <path d=\"M0 0h24v24H0V0z\" fill=\"none\"/>\n",
              "    <path d=\"M18.56 5.44l.94 2.06.94-2.06 2.06-.94-2.06-.94-.94-2.06-.94 2.06-2.06.94zm-11 1L8.5 8.5l.94-2.06 2.06-.94-2.06-.94L8.5 2.5l-.94 2.06-2.06.94zm10 10l.94 2.06.94-2.06 2.06-.94-2.06-.94-.94-2.06-.94 2.06-2.06.94z\"/><path d=\"M17.41 7.96l-1.37-1.37c-.4-.4-.92-.59-1.43-.59-.52 0-1.04.2-1.43.59L10.3 9.45l-7.72 7.72c-.78.78-.78 2.05 0 2.83L4 21.41c.39.39.9.59 1.41.59.51 0 1.02-.2 1.41-.59l7.78-7.78 2.81-2.81c.8-.78.8-2.07 0-2.86zM5.41 20L4 18.59l7.72-7.72 1.47 1.35L5.41 20z\"/>\n",
              "  </svg>\n",
              "      </button>\n",
              "\n",
              "\n",
              "\n",
              "    <div id=\"df-b644399c-e7f3-4482-b09c-28140bdf46a1\">\n",
              "      <button class=\"colab-df-quickchart\" onclick=\"quickchart('df-b644399c-e7f3-4482-b09c-28140bdf46a1')\"\n",
              "              title=\"Suggest charts.\"\n",
              "              style=\"display:none;\">\n",
              "\n",
              "<svg xmlns=\"http://www.w3.org/2000/svg\" height=\"24px\"viewBox=\"0 0 24 24\"\n",
              "     width=\"24px\">\n",
              "    <g>\n",
              "        <path d=\"M19 3H5c-1.1 0-2 .9-2 2v14c0 1.1.9 2 2 2h14c1.1 0 2-.9 2-2V5c0-1.1-.9-2-2-2zM9 17H7v-7h2v7zm4 0h-2V7h2v10zm4 0h-2v-4h2v4z\"/>\n",
              "    </g>\n",
              "</svg>\n",
              "      </button>\n",
              "    </div>\n",
              "\n",
              "<style>\n",
              "  .colab-df-quickchart {\n",
              "    background-color: #E8F0FE;\n",
              "    border: none;\n",
              "    border-radius: 50%;\n",
              "    cursor: pointer;\n",
              "    display: none;\n",
              "    fill: #1967D2;\n",
              "    height: 32px;\n",
              "    padding: 0 0 0 0;\n",
              "    width: 32px;\n",
              "  }\n",
              "\n",
              "  .colab-df-quickchart:hover {\n",
              "    background-color: #E2EBFA;\n",
              "    box-shadow: 0px 1px 2px rgba(60, 64, 67, 0.3), 0px 1px 3px 1px rgba(60, 64, 67, 0.15);\n",
              "    fill: #174EA6;\n",
              "  }\n",
              "\n",
              "  [theme=dark] .colab-df-quickchart {\n",
              "    background-color: #3B4455;\n",
              "    fill: #D2E3FC;\n",
              "  }\n",
              "\n",
              "  [theme=dark] .colab-df-quickchart:hover {\n",
              "    background-color: #434B5C;\n",
              "    box-shadow: 0px 1px 3px 1px rgba(0, 0, 0, 0.15);\n",
              "    filter: drop-shadow(0px 1px 2px rgba(0, 0, 0, 0.3));\n",
              "    fill: #FFFFFF;\n",
              "  }\n",
              "</style>\n",
              "\n",
              "    <script>\n",
              "      async function quickchart(key) {\n",
              "        const containerElement = document.querySelector('#' + key);\n",
              "        const charts = await google.colab.kernel.invokeFunction(\n",
              "            'suggestCharts', [key], {});\n",
              "      }\n",
              "    </script>\n",
              "\n",
              "      <script>\n",
              "\n",
              "function displayQuickchartButton(domScope) {\n",
              "  let quickchartButtonEl =\n",
              "    domScope.querySelector('#df-b644399c-e7f3-4482-b09c-28140bdf46a1 button.colab-df-quickchart');\n",
              "  quickchartButtonEl.style.display =\n",
              "    google.colab.kernel.accessAllowed ? 'block' : 'none';\n",
              "}\n",
              "\n",
              "        displayQuickchartButton(document);\n",
              "      </script>\n",
              "      <style>\n",
              "    .colab-df-container {\n",
              "      display:flex;\n",
              "      flex-wrap:wrap;\n",
              "      gap: 12px;\n",
              "    }\n",
              "\n",
              "    .colab-df-convert {\n",
              "      background-color: #E8F0FE;\n",
              "      border: none;\n",
              "      border-radius: 50%;\n",
              "      cursor: pointer;\n",
              "      display: none;\n",
              "      fill: #1967D2;\n",
              "      height: 32px;\n",
              "      padding: 0 0 0 0;\n",
              "      width: 32px;\n",
              "    }\n",
              "\n",
              "    .colab-df-convert:hover {\n",
              "      background-color: #E2EBFA;\n",
              "      box-shadow: 0px 1px 2px rgba(60, 64, 67, 0.3), 0px 1px 3px 1px rgba(60, 64, 67, 0.15);\n",
              "      fill: #174EA6;\n",
              "    }\n",
              "\n",
              "    [theme=dark] .colab-df-convert {\n",
              "      background-color: #3B4455;\n",
              "      fill: #D2E3FC;\n",
              "    }\n",
              "\n",
              "    [theme=dark] .colab-df-convert:hover {\n",
              "      background-color: #434B5C;\n",
              "      box-shadow: 0px 1px 3px 1px rgba(0, 0, 0, 0.15);\n",
              "      filter: drop-shadow(0px 1px 2px rgba(0, 0, 0, 0.3));\n",
              "      fill: #FFFFFF;\n",
              "    }\n",
              "  </style>\n",
              "\n",
              "      <script>\n",
              "        const buttonEl =\n",
              "          document.querySelector('#df-770cd7fa-2f25-4f50-bbbb-a5fa47e0b81f button.colab-df-convert');\n",
              "        buttonEl.style.display =\n",
              "          google.colab.kernel.accessAllowed ? 'block' : 'none';\n",
              "\n",
              "        async function convertToInteractive(key) {\n",
              "          const element = document.querySelector('#df-770cd7fa-2f25-4f50-bbbb-a5fa47e0b81f');\n",
              "          const dataTable =\n",
              "            await google.colab.kernel.invokeFunction('convertToInteractive',\n",
              "                                                     [key], {});\n",
              "          if (!dataTable) return;\n",
              "\n",
              "          const docLinkHtml = 'Like what you see? Visit the ' +\n",
              "            '<a target=\"_blank\" href=https://colab.research.google.com/notebooks/data_table.ipynb>data table notebook</a>'\n",
              "            + ' to learn more about interactive tables.';\n",
              "          element.innerHTML = '';\n",
              "          dataTable['output_type'] = 'display_data';\n",
              "          await google.colab.output.renderOutput(dataTable, element);\n",
              "          const docLink = document.createElement('div');\n",
              "          docLink.innerHTML = docLinkHtml;\n",
              "          element.appendChild(docLink);\n",
              "        }\n",
              "      </script>\n",
              "    </div>\n",
              "  </div>\n"
            ]
          },
          "metadata": {},
          "execution_count": 147
        }
      ],
      "source": [
        "data.head(20)"
      ]
    },
    {
      "cell_type": "markdown",
      "id": "1c12e233",
      "metadata": {
        "deletable": false,
        "editable": false,
        "id": "1c12e233",
        "tags": [
          "start_task"
        ]
      },
      "source": [
        "**Изучим общую информацию**"
      ]
    },
    {
      "cell_type": "code",
      "execution_count": 148,
      "id": "2b757bca",
      "metadata": {
        "id": "2b757bca",
        "colab": {
          "base_uri": "https://localhost:8080/"
        },
        "outputId": "fc064a89-2945-459e-b95e-ead172c35c44"
      },
      "outputs": [
        {
          "output_type": "stream",
          "name": "stdout",
          "text": [
            "<class 'pandas.core.frame.DataFrame'>\n",
            "RangeIndex: 21525 entries, 0 to 21524\n",
            "Data columns (total 12 columns):\n",
            " #   Column            Non-Null Count  Dtype  \n",
            "---  ------            --------------  -----  \n",
            " 0   children          21525 non-null  int64  \n",
            " 1   days_employed     19351 non-null  float64\n",
            " 2   dob_years         21525 non-null  int64  \n",
            " 3   education         21525 non-null  object \n",
            " 4   education_id      21525 non-null  int64  \n",
            " 5   family_status     21525 non-null  object \n",
            " 6   family_status_id  21525 non-null  int64  \n",
            " 7   gender            21525 non-null  object \n",
            " 8   income_type       21525 non-null  object \n",
            " 9   debt              21525 non-null  int64  \n",
            " 10  total_income      19351 non-null  float64\n",
            " 11  purpose           21525 non-null  object \n",
            "dtypes: float64(2), int64(5), object(5)\n",
            "memory usage: 2.0+ MB\n"
          ]
        }
      ],
      "source": [
        "data.info()"
      ]
    },
    {
      "cell_type": "markdown",
      "id": "333ec665",
      "metadata": {
        "deletable": false,
        "editable": false,
        "id": "333ec665"
      },
      "source": [
        "## Часть 2 Предобработка данных"
      ]
    },
    {
      "cell_type": "markdown",
      "source": [
        "**Проверим наличие пропусков**"
      ],
      "metadata": {
        "id": "jdpedVgZc-7W"
      },
      "id": "jdpedVgZc-7W"
    },
    {
      "cell_type": "code",
      "execution_count": 149,
      "id": "7f9b2309",
      "metadata": {
        "id": "7f9b2309",
        "colab": {
          "base_uri": "https://localhost:8080/"
        },
        "outputId": "94be5452-8744-47fc-a4df-b0fa2ea1be90"
      },
      "outputs": [
        {
          "output_type": "execute_result",
          "data": {
            "text/plain": [
              "children               0\n",
              "days_employed       2174\n",
              "dob_years              0\n",
              "education              0\n",
              "education_id           0\n",
              "family_status          0\n",
              "family_status_id       0\n",
              "gender                 0\n",
              "income_type            0\n",
              "debt                   0\n",
              "total_income        2174\n",
              "purpose                0\n",
              "dtype: int64"
            ]
          },
          "metadata": {},
          "execution_count": 149
        }
      ],
      "source": [
        "data.isna().sum()"
      ]
    },
    {
      "cell_type": "markdown",
      "id": "db86e27b",
      "metadata": {
        "deletable": false,
        "editable": false,
        "id": "db86e27b",
        "tags": [
          "start_task"
        ]
      },
      "source": [
        "**В двух столбцах есть пропущенные значения. Один из них — `days_employed`. Другой столбец с пропущенными значениями — `total_income` — хранит данные о доходах. На сумму дохода сильнее всего влияет тип занятости, поэтому заполнить пропуски в этом столбце приоритетнее медианным значением по каждому типу из столбца `income_type`.**"
      ]
    },
    {
      "cell_type": "code",
      "execution_count": 150,
      "id": "42006a93",
      "metadata": {
        "id": "42006a93"
      },
      "outputs": [],
      "source": [
        "for p in data['income_type'].unique():\n",
        "    data.loc[(data['income_type'] == p) & (data['total_income'].isna()), 'total_income'] = \\\n",
        "data.loc[(data['income_type'] == p), 'total_income'].median()\n",
        "\n",
        "\n"
      ]
    },
    {
      "cell_type": "markdown",
      "id": "57964554",
      "metadata": {
        "deletable": false,
        "editable": false,
        "id": "57964554",
        "tags": [
          "start_task"
        ]
      },
      "source": [
        "**Обнаружен артефакт в данных отрицательное количество дней трудового стажа в столбце `days_employed`. Заменим все отрицательные значения положительными с помощью метода `abs()`.**"
      ]
    },
    {
      "cell_type": "code",
      "execution_count": 151,
      "id": "f6f055bf",
      "metadata": {
        "id": "f6f055bf"
      },
      "outputs": [],
      "source": [
        "data['days_employed'] = abs(data['days_employed'])"
      ]
    },
    {
      "cell_type": "markdown",
      "id": "6107dd2f",
      "metadata": {
        "deletable": false,
        "editable": false,
        "id": "6107dd2f",
        "tags": [
          "start_task"
        ]
      },
      "source": [
        "**Проверим медианное значение трудового стажа для каждого типа занятовсти в днях.**"
      ]
    },
    {
      "cell_type": "code",
      "execution_count": 152,
      "id": "85a5faf6",
      "metadata": {
        "id": "85a5faf6",
        "colab": {
          "base_uri": "https://localhost:8080/"
        },
        "outputId": "7c261a56-9f6f-48f7-812a-2beb663b923e"
      },
      "outputs": [
        {
          "output_type": "stream",
          "name": "stdout",
          "text": [
            "income_type\n",
            "безработный        366413.652744\n",
            "в декрете            3296.759962\n",
            "госслужащий          2689.368353\n",
            "компаньон            1547.382223\n",
            "пенсионер          365213.306266\n",
            "предприниматель       520.848083\n",
            "сотрудник            1574.202821\n",
            "студент               578.751554\n",
            "Name: days_employed, dtype: float64\n"
          ]
        }
      ],
      "source": [
        "median_value = data.groupby('income_type')['days_employed'].median()\n",
        "print(median_value)"
      ]
    },
    {
      "cell_type": "markdown",
      "id": "38d1a030",
      "metadata": {
        "deletable": false,
        "editable": false,
        "id": "38d1a030"
      },
      "source": [
        "**У двух типов (безработные и пенсионеры) получатся аномально большие значения. Исправить такие значения сложно, поэтому оставим их как есть.**"
      ]
    },
    {
      "cell_type": "markdown",
      "id": "d8a9f147",
      "metadata": {
        "deletable": false,
        "editable": false,
        "id": "d8a9f147",
        "tags": [
          "start_task"
        ]
      },
      "source": [
        "**Выведем перечень уникальных значений столбца `children`.**"
      ]
    },
    {
      "cell_type": "code",
      "execution_count": 153,
      "id": "ef5056eb",
      "metadata": {
        "id": "ef5056eb",
        "colab": {
          "base_uri": "https://localhost:8080/"
        },
        "outputId": "cd1b243a-51b8-4968-aa72-40500f5e4d64"
      },
      "outputs": [
        {
          "output_type": "execute_result",
          "data": {
            "text/plain": [
              "array([ 1,  0,  3,  2, -1,  4, 20,  5])"
            ]
          },
          "metadata": {},
          "execution_count": 153
        }
      ],
      "source": [
        "data['children'].unique()"
      ]
    },
    {
      "cell_type": "markdown",
      "id": "40b9ebf2",
      "metadata": {
        "deletable": false,
        "editable": false,
        "id": "40b9ebf2",
        "tags": [
          "start_task"
        ]
      },
      "source": [
        "**В столбце `children` есть два аномальных значения. Удалим строки, в которых встречаются такие аномальные значения из датафрейма `data`.**"
      ]
    },
    {
      "cell_type": "code",
      "execution_count": 154,
      "id": "3ff9801d",
      "metadata": {
        "id": "3ff9801d"
      },
      "outputs": [],
      "source": [
        "data = data[(data['children'] != -1) & (data['children'] != 20)]"
      ]
    },
    {
      "cell_type": "markdown",
      "id": "bbc4d0ce",
      "metadata": {
        "deletable": false,
        "editable": false,
        "id": "bbc4d0ce",
        "tags": [
          "start_task"
        ]
      },
      "source": [
        "**Проверим изменения**"
      ]
    },
    {
      "cell_type": "code",
      "execution_count": 155,
      "id": "ad4fa8b7",
      "metadata": {
        "id": "ad4fa8b7",
        "colab": {
          "base_uri": "https://localhost:8080/"
        },
        "outputId": "138db423-df11-4cf7-bcca-9fe6e1bb0173"
      },
      "outputs": [
        {
          "output_type": "execute_result",
          "data": {
            "text/plain": [
              "array([1, 0, 3, 2, 4, 5])"
            ]
          },
          "metadata": {},
          "execution_count": 155
        }
      ],
      "source": [
        "data['children'].unique()"
      ]
    },
    {
      "cell_type": "markdown",
      "id": "f4ea573f",
      "metadata": {
        "deletable": false,
        "editable": false,
        "id": "f4ea573f",
        "tags": [
          "start_task"
        ]
      },
      "source": [
        "**Заполним пропуски в столбце `days_employed` медианными значениями по каждому типу занятости `income_type`.**"
      ]
    },
    {
      "cell_type": "code",
      "execution_count": 156,
      "id": "af6b1a7e",
      "metadata": {
        "id": "af6b1a7e"
      },
      "outputs": [],
      "source": [
        "for p in data['income_type'].unique():\n",
        "    data.loc[(data['income_type'] == p) & (data['days_employed'].isna()), 'days_employed'] = \\\n",
        "data.loc[(data['income_type'] == p), 'days_employed'].median()"
      ]
    },
    {
      "cell_type": "markdown",
      "id": "2753f40d",
      "metadata": {
        "deletable": false,
        "editable": false,
        "id": "2753f40d",
        "tags": [
          "start_task"
        ]
      },
      "source": [
        "**Убедимся, что все пропуски заполнены.**"
      ]
    },
    {
      "cell_type": "code",
      "execution_count": 157,
      "id": "55f78bc2",
      "metadata": {
        "id": "55f78bc2",
        "colab": {
          "base_uri": "https://localhost:8080/"
        },
        "outputId": "7f18103b-a53c-4aa8-f0aa-e59d445106f9"
      },
      "outputs": [
        {
          "output_type": "execute_result",
          "data": {
            "text/plain": [
              "children            0\n",
              "days_employed       0\n",
              "dob_years           0\n",
              "education           0\n",
              "education_id        0\n",
              "family_status       0\n",
              "family_status_id    0\n",
              "gender              0\n",
              "income_type         0\n",
              "debt                0\n",
              "total_income        0\n",
              "purpose             0\n",
              "dtype: int64"
            ]
          },
          "metadata": {},
          "execution_count": 157
        }
      ],
      "source": [
        "data.isna().sum()"
      ]
    },
    {
      "cell_type": "markdown",
      "id": "42d19d24",
      "metadata": {
        "deletable": false,
        "editable": false,
        "id": "42d19d24",
        "tags": [
          "start_task"
        ]
      },
      "source": [
        "**Изменим вещественный тип данных в столбце `total_income` на целочисленный с помощью метода `astype()`.**"
      ]
    },
    {
      "cell_type": "code",
      "execution_count": 158,
      "id": "920b65ad",
      "metadata": {
        "id": "920b65ad"
      },
      "outputs": [],
      "source": [
        "data['total_income'] = data['total_income'].astype('int')"
      ]
    },
    {
      "cell_type": "markdown",
      "id": "dc587695",
      "metadata": {
        "deletable": false,
        "editable": false,
        "id": "dc587695",
        "tags": [
          "start_task"
        ]
      },
      "source": [
        "**Избавимся от неявных дубликатов в столбце `education`. В этом столбце одни и те же значения, но записанные по-разному: с использованием заглавных и строчных букв.**"
      ]
    },
    {
      "cell_type": "code",
      "execution_count": 159,
      "id": "a9f8e2bf",
      "metadata": {
        "id": "a9f8e2bf"
      },
      "outputs": [],
      "source": [
        "data['education'] = data['education'].str.lower()"
      ]
    },
    {
      "cell_type": "markdown",
      "id": "9771a76c",
      "metadata": {
        "deletable": false,
        "editable": false,
        "id": "9771a76c",
        "tags": [
          "start_task"
        ]
      },
      "source": [
        "**Проверим и удалим имеющиеся явные дубликаты.**"
      ]
    },
    {
      "cell_type": "code",
      "execution_count": 160,
      "id": "3ee445e4",
      "metadata": {
        "id": "3ee445e4",
        "colab": {
          "base_uri": "https://localhost:8080/"
        },
        "outputId": "12fabd06-0e49-46b5-a2c4-bf19411ddec6"
      },
      "outputs": [
        {
          "output_type": "execute_result",
          "data": {
            "text/plain": [
              "71"
            ]
          },
          "metadata": {},
          "execution_count": 160
        }
      ],
      "source": [
        "data.duplicated().sum()"
      ]
    },
    {
      "cell_type": "code",
      "execution_count": 161,
      "id": "8575fe05",
      "metadata": {
        "id": "8575fe05"
      },
      "outputs": [],
      "source": [
        "data = data.drop_duplicates()"
      ]
    },
    {
      "cell_type": "markdown",
      "id": "9904cf55",
      "metadata": {
        "deletable": false,
        "editable": false,
        "id": "9904cf55"
      },
      "source": [
        "## Часть 3 Категоризация данных"
      ]
    },
    {
      "cell_type": "markdown",
      "id": "72fcc8a2",
      "metadata": {
        "deletable": false,
        "editable": false,
        "id": "72fcc8a2",
        "tags": [
          "start_task"
        ]
      },
      "source": [
        "**Создадим категории заёмщиков на основании стобца с доходами `total_income_category`:**\n",
        "\n",
        "- 0–30000 — `'E'`;\n",
        "- 30001–50000 — `'D'`;\n",
        "- 50001–200000 — `'C'`;\n",
        "- 200001–1000000 — `'B'`;\n",
        "- 1000001 и выше — `'A'`.\n"
      ]
    },
    {
      "cell_type": "code",
      "execution_count": 162,
      "id": "e1771346",
      "metadata": {
        "id": "e1771346"
      },
      "outputs": [],
      "source": [
        "def categorize_income (income):\n",
        "    if income <= 30000:\n",
        "        return 'E'\n",
        "    if income <= 50000:\n",
        "        return 'D'\n",
        "    if income <= 200000:\n",
        "        return 'C'\n",
        "    if income <= 1000000:\n",
        "        return 'B'\n",
        "    if income >= 1000001:\n",
        "        return 'A'"
      ]
    },
    {
      "cell_type": "code",
      "execution_count": 163,
      "id": "d5f3586d",
      "metadata": {
        "id": "d5f3586d"
      },
      "outputs": [],
      "source": [
        "data['total_income_category'] = data['total_income'].apply(categorize_income)"
      ]
    },
    {
      "cell_type": "markdown",
      "id": "dde49b5c",
      "metadata": {
        "deletable": false,
        "editable": false,
        "id": "dde49b5c",
        "tags": [
          "start_task"
        ]
      },
      "source": [
        "**Посмотрим на перечень уникальных целей взятия кредита из столбца `purpose`.**"
      ]
    },
    {
      "cell_type": "code",
      "execution_count": 164,
      "id": "f67ce9b3",
      "metadata": {
        "id": "f67ce9b3",
        "colab": {
          "base_uri": "https://localhost:8080/"
        },
        "outputId": "e6ad8db1-6d99-4ba8-a906-42c238bd713d"
      },
      "outputs": [
        {
          "output_type": "execute_result",
          "data": {
            "text/plain": [
              "array(['покупка жилья', 'приобретение автомобиля',\n",
              "       'дополнительное образование', 'сыграть свадьбу',\n",
              "       'операции с жильем', 'образование', 'на проведение свадьбы',\n",
              "       'покупка жилья для семьи', 'покупка недвижимости',\n",
              "       'покупка коммерческой недвижимости', 'покупка жилой недвижимости',\n",
              "       'строительство собственной недвижимости', 'недвижимость',\n",
              "       'строительство недвижимости', 'на покупку подержанного автомобиля',\n",
              "       'на покупку своего автомобиля',\n",
              "       'операции с коммерческой недвижимостью',\n",
              "       'строительство жилой недвижимости', 'жилье',\n",
              "       'операции со своей недвижимостью', 'автомобили',\n",
              "       'заняться образованием', 'сделка с подержанным автомобилем',\n",
              "       'получение образования', 'автомобиль', 'свадьба',\n",
              "       'получение дополнительного образования', 'покупка своего жилья',\n",
              "       'операции с недвижимостью', 'получение высшего образования',\n",
              "       'свой автомобиль', 'сделка с автомобилем',\n",
              "       'профильное образование', 'высшее образование',\n",
              "       'покупка жилья для сдачи', 'на покупку автомобиля', 'ремонт жилью',\n",
              "       'заняться высшим образованием'], dtype=object)"
            ]
          },
          "metadata": {},
          "execution_count": 164
        }
      ],
      "source": [
        "data['purpose'].unique()"
      ]
    },
    {
      "cell_type": "markdown",
      "id": "85d0aef0",
      "metadata": {
        "deletable": false,
        "editable": false,
        "id": "85d0aef0",
        "tags": [
          "start_task"
        ]
      },
      "source": [
        "**Создадим функцию, которая на основании данных из столбца `purpose` сформирует новый столбец `purpose_category`, в который войдут следующие категории:**\n",
        "\n",
        "- `'операции с автомобилем'`,\n",
        "- `'операции с недвижимостью'`,\n",
        "- `'проведение свадьбы'`,\n",
        "- `'получение образования'`.\n"
      ]
    },
    {
      "cell_type": "code",
      "execution_count": 165,
      "id": "e149fab4",
      "metadata": {
        "id": "e149fab4"
      },
      "outputs": [],
      "source": [
        "def categorize_purpose(row):\n",
        "    try:\n",
        "        if 'автом' in row:\n",
        "            return 'операции с автомобилем'\n",
        "        elif 'жил' in row or 'недвиж' in row:\n",
        "            return 'операции с недвижимостью'\n",
        "        elif 'свад' in row:\n",
        "            return 'проведение свадьбы'\n",
        "        elif 'образов' in row:\n",
        "            return 'получение образования'\n",
        "    except:\n",
        "        return 'нет категории'"
      ]
    },
    {
      "cell_type": "code",
      "execution_count": 166,
      "id": "bf36e69b",
      "metadata": {
        "id": "bf36e69b",
        "colab": {
          "base_uri": "https://localhost:8080/"
        },
        "outputId": "9696bfc3-2beb-4620-e396-142b89b26a5c"
      },
      "outputs": [
        {
          "output_type": "stream",
          "name": "stdout",
          "text": [
            "       children  days_employed  dob_years education  education_id  \\\n",
            "0             1    8437.673028         42    высшее             0   \n",
            "1             1    4024.803754         36   среднее             1   \n",
            "2             0    5623.422610         33   среднее             1   \n",
            "3             3    4124.747207         32   среднее             1   \n",
            "4             0  340266.072047         53   среднее             1   \n",
            "...         ...            ...        ...       ...           ...   \n",
            "21520         1    4529.316663         43   среднее             1   \n",
            "21521         0  343937.404131         67   среднее             1   \n",
            "21522         1    2113.346888         38   среднее             1   \n",
            "21523         3    3112.481705         38   среднее             1   \n",
            "21524         2    1984.507589         40   среднее             1   \n",
            "\n",
            "          family_status  family_status_id gender income_type  debt  \\\n",
            "0       женат / замужем                 0      F   сотрудник     0   \n",
            "1       женат / замужем                 0      F   сотрудник     0   \n",
            "2       женат / замужем                 0      M   сотрудник     0   \n",
            "3       женат / замужем                 0      M   сотрудник     0   \n",
            "4      гражданский брак                 1      F   пенсионер     0   \n",
            "...                 ...               ...    ...         ...   ...   \n",
            "21520  гражданский брак                 1      F   компаньон     0   \n",
            "21521   женат / замужем                 0      F   пенсионер     0   \n",
            "21522  гражданский брак                 1      M   сотрудник     1   \n",
            "21523   женат / замужем                 0      M   сотрудник     1   \n",
            "21524   женат / замужем                 0      F   сотрудник     0   \n",
            "\n",
            "       total_income                       purpose total_income_category  \\\n",
            "0            253875                 покупка жилья                     B   \n",
            "1            112080       приобретение автомобиля                     C   \n",
            "2            145885                 покупка жилья                     C   \n",
            "3            267628    дополнительное образование                     B   \n",
            "4            158616               сыграть свадьбу                     C   \n",
            "...             ...                           ...                   ...   \n",
            "21520        224791             операции с жильем                     B   \n",
            "21521        155999          сделка с автомобилем                     C   \n",
            "21522         89672                  недвижимость                     C   \n",
            "21523        244093  на покупку своего автомобиля                     B   \n",
            "21524         82047         на покупку автомобиля                     C   \n",
            "\n",
            "               purpose_category  \n",
            "0      операции с недвижимостью  \n",
            "1        операции с автомобилем  \n",
            "2      операции с недвижимостью  \n",
            "3         получение образования  \n",
            "4            проведение свадьбы  \n",
            "...                         ...  \n",
            "21520  операции с недвижимостью  \n",
            "21521    операции с автомобилем  \n",
            "21522  операции с недвижимостью  \n",
            "21523    операции с автомобилем  \n",
            "21524    операции с автомобилем  \n",
            "\n",
            "[21331 rows x 14 columns]\n"
          ]
        }
      ],
      "source": [
        "data['purpose_category'] = data['purpose'].apply(categorize_purpose)\n",
        "\n",
        "print(data)"
      ]
    },
    {
      "cell_type": "markdown",
      "source": [
        "**Столбец с целью кредита успешно добавлен в таблицу**"
      ],
      "metadata": {
        "id": "RogX5DSXjPlZ"
      },
      "id": "RogX5DSXjPlZ"
    },
    {
      "cell_type": "markdown",
      "source": [
        "## Часть 4 Исследовательский анализ данных"
      ],
      "metadata": {
        "id": "Ie92bVTKmF48"
      },
      "id": "Ie92bVTKmF48"
    },
    {
      "cell_type": "markdown",
      "source": [
        "**Проверим есть ли зависимость между количеством детей и возвратом кредита в срок**"
      ],
      "metadata": {
        "id": "YGNdvjzOm_8p"
      },
      "id": "YGNdvjzOm_8p"
    },
    {
      "cell_type": "code",
      "source": [
        "def children_group(child):\n",
        "    if child >= 3:\n",
        "        return 'Многодетные'\n",
        "    if child == 0:\n",
        "        return 'Бездетные'\n",
        "    if child == 1:\n",
        "        return 'Люди с одним ребёнком'\n",
        "    if child == 2:\n",
        "        return 'Люди с двумя детьми'\n",
        "    return 'Больше 6 детей'\n",
        "\n",
        "data['children_group'] = data['children'].apply(children_group)\n",
        "\n",
        "data_children = data.pivot_table(index=['children_group'], values='debt', aggfunc= ('sum', 'count')).reset_index()\n",
        "\n",
        "data_children['proportion'] = round(data_children['sum']/data_children['count'], 3) * 100\n",
        "\n",
        "data_children"
      ],
      "metadata": {
        "colab": {
          "base_uri": "https://localhost:8080/",
          "height": 175
        },
        "id": "rorCI2xwmOZW",
        "outputId": "ef1bfb7f-ec16-44c1-d54b-3da7b9a1f31e"
      },
      "id": "rorCI2xwmOZW",
      "execution_count": 172,
      "outputs": [
        {
          "output_type": "execute_result",
          "data": {
            "text/plain": [
              "          children_group  count   sum  proportion\n",
              "0              Бездетные  14091  1063         7.5\n",
              "1    Люди с двумя детьми   2052   194         9.5\n",
              "2  Люди с одним ребёнком   4808   444         9.2\n",
              "3            Многодетные    380    31         8.2"
            ],
            "text/html": [
              "\n",
              "\n",
              "  <div id=\"df-28e2385c-903d-4771-8a67-b9074fe4452c\">\n",
              "    <div class=\"colab-df-container\">\n",
              "      <div>\n",
              "<style scoped>\n",
              "    .dataframe tbody tr th:only-of-type {\n",
              "        vertical-align: middle;\n",
              "    }\n",
              "\n",
              "    .dataframe tbody tr th {\n",
              "        vertical-align: top;\n",
              "    }\n",
              "\n",
              "    .dataframe thead th {\n",
              "        text-align: right;\n",
              "    }\n",
              "</style>\n",
              "<table border=\"1\" class=\"dataframe\">\n",
              "  <thead>\n",
              "    <tr style=\"text-align: right;\">\n",
              "      <th></th>\n",
              "      <th>children_group</th>\n",
              "      <th>count</th>\n",
              "      <th>sum</th>\n",
              "      <th>proportion</th>\n",
              "    </tr>\n",
              "  </thead>\n",
              "  <tbody>\n",
              "    <tr>\n",
              "      <th>0</th>\n",
              "      <td>Бездетные</td>\n",
              "      <td>14091</td>\n",
              "      <td>1063</td>\n",
              "      <td>7.5</td>\n",
              "    </tr>\n",
              "    <tr>\n",
              "      <th>1</th>\n",
              "      <td>Люди с двумя детьми</td>\n",
              "      <td>2052</td>\n",
              "      <td>194</td>\n",
              "      <td>9.5</td>\n",
              "    </tr>\n",
              "    <tr>\n",
              "      <th>2</th>\n",
              "      <td>Люди с одним ребёнком</td>\n",
              "      <td>4808</td>\n",
              "      <td>444</td>\n",
              "      <td>9.2</td>\n",
              "    </tr>\n",
              "    <tr>\n",
              "      <th>3</th>\n",
              "      <td>Многодетные</td>\n",
              "      <td>380</td>\n",
              "      <td>31</td>\n",
              "      <td>8.2</td>\n",
              "    </tr>\n",
              "  </tbody>\n",
              "</table>\n",
              "</div>\n",
              "      <button class=\"colab-df-convert\" onclick=\"convertToInteractive('df-28e2385c-903d-4771-8a67-b9074fe4452c')\"\n",
              "              title=\"Convert this dataframe to an interactive table.\"\n",
              "              style=\"display:none;\">\n",
              "\n",
              "  <svg xmlns=\"http://www.w3.org/2000/svg\" height=\"24px\"viewBox=\"0 0 24 24\"\n",
              "       width=\"24px\">\n",
              "    <path d=\"M0 0h24v24H0V0z\" fill=\"none\"/>\n",
              "    <path d=\"M18.56 5.44l.94 2.06.94-2.06 2.06-.94-2.06-.94-.94-2.06-.94 2.06-2.06.94zm-11 1L8.5 8.5l.94-2.06 2.06-.94-2.06-.94L8.5 2.5l-.94 2.06-2.06.94zm10 10l.94 2.06.94-2.06 2.06-.94-2.06-.94-.94-2.06-.94 2.06-2.06.94z\"/><path d=\"M17.41 7.96l-1.37-1.37c-.4-.4-.92-.59-1.43-.59-.52 0-1.04.2-1.43.59L10.3 9.45l-7.72 7.72c-.78.78-.78 2.05 0 2.83L4 21.41c.39.39.9.59 1.41.59.51 0 1.02-.2 1.41-.59l7.78-7.78 2.81-2.81c.8-.78.8-2.07 0-2.86zM5.41 20L4 18.59l7.72-7.72 1.47 1.35L5.41 20z\"/>\n",
              "  </svg>\n",
              "      </button>\n",
              "\n",
              "\n",
              "\n",
              "    <div id=\"df-cd02be58-340c-4256-90ac-a2fae28818cf\">\n",
              "      <button class=\"colab-df-quickchart\" onclick=\"quickchart('df-cd02be58-340c-4256-90ac-a2fae28818cf')\"\n",
              "              title=\"Suggest charts.\"\n",
              "              style=\"display:none;\">\n",
              "\n",
              "<svg xmlns=\"http://www.w3.org/2000/svg\" height=\"24px\"viewBox=\"0 0 24 24\"\n",
              "     width=\"24px\">\n",
              "    <g>\n",
              "        <path d=\"M19 3H5c-1.1 0-2 .9-2 2v14c0 1.1.9 2 2 2h14c1.1 0 2-.9 2-2V5c0-1.1-.9-2-2-2zM9 17H7v-7h2v7zm4 0h-2V7h2v10zm4 0h-2v-4h2v4z\"/>\n",
              "    </g>\n",
              "</svg>\n",
              "      </button>\n",
              "    </div>\n",
              "\n",
              "<style>\n",
              "  .colab-df-quickchart {\n",
              "    background-color: #E8F0FE;\n",
              "    border: none;\n",
              "    border-radius: 50%;\n",
              "    cursor: pointer;\n",
              "    display: none;\n",
              "    fill: #1967D2;\n",
              "    height: 32px;\n",
              "    padding: 0 0 0 0;\n",
              "    width: 32px;\n",
              "  }\n",
              "\n",
              "  .colab-df-quickchart:hover {\n",
              "    background-color: #E2EBFA;\n",
              "    box-shadow: 0px 1px 2px rgba(60, 64, 67, 0.3), 0px 1px 3px 1px rgba(60, 64, 67, 0.15);\n",
              "    fill: #174EA6;\n",
              "  }\n",
              "\n",
              "  [theme=dark] .colab-df-quickchart {\n",
              "    background-color: #3B4455;\n",
              "    fill: #D2E3FC;\n",
              "  }\n",
              "\n",
              "  [theme=dark] .colab-df-quickchart:hover {\n",
              "    background-color: #434B5C;\n",
              "    box-shadow: 0px 1px 3px 1px rgba(0, 0, 0, 0.15);\n",
              "    filter: drop-shadow(0px 1px 2px rgba(0, 0, 0, 0.3));\n",
              "    fill: #FFFFFF;\n",
              "  }\n",
              "</style>\n",
              "\n",
              "    <script>\n",
              "      async function quickchart(key) {\n",
              "        const containerElement = document.querySelector('#' + key);\n",
              "        const charts = await google.colab.kernel.invokeFunction(\n",
              "            'suggestCharts', [key], {});\n",
              "      }\n",
              "    </script>\n",
              "\n",
              "      <script>\n",
              "\n",
              "function displayQuickchartButton(domScope) {\n",
              "  let quickchartButtonEl =\n",
              "    domScope.querySelector('#df-cd02be58-340c-4256-90ac-a2fae28818cf button.colab-df-quickchart');\n",
              "  quickchartButtonEl.style.display =\n",
              "    google.colab.kernel.accessAllowed ? 'block' : 'none';\n",
              "}\n",
              "\n",
              "        displayQuickchartButton(document);\n",
              "      </script>\n",
              "      <style>\n",
              "    .colab-df-container {\n",
              "      display:flex;\n",
              "      flex-wrap:wrap;\n",
              "      gap: 12px;\n",
              "    }\n",
              "\n",
              "    .colab-df-convert {\n",
              "      background-color: #E8F0FE;\n",
              "      border: none;\n",
              "      border-radius: 50%;\n",
              "      cursor: pointer;\n",
              "      display: none;\n",
              "      fill: #1967D2;\n",
              "      height: 32px;\n",
              "      padding: 0 0 0 0;\n",
              "      width: 32px;\n",
              "    }\n",
              "\n",
              "    .colab-df-convert:hover {\n",
              "      background-color: #E2EBFA;\n",
              "      box-shadow: 0px 1px 2px rgba(60, 64, 67, 0.3), 0px 1px 3px 1px rgba(60, 64, 67, 0.15);\n",
              "      fill: #174EA6;\n",
              "    }\n",
              "\n",
              "    [theme=dark] .colab-df-convert {\n",
              "      background-color: #3B4455;\n",
              "      fill: #D2E3FC;\n",
              "    }\n",
              "\n",
              "    [theme=dark] .colab-df-convert:hover {\n",
              "      background-color: #434B5C;\n",
              "      box-shadow: 0px 1px 3px 1px rgba(0, 0, 0, 0.15);\n",
              "      filter: drop-shadow(0px 1px 2px rgba(0, 0, 0, 0.3));\n",
              "      fill: #FFFFFF;\n",
              "    }\n",
              "  </style>\n",
              "\n",
              "      <script>\n",
              "        const buttonEl =\n",
              "          document.querySelector('#df-28e2385c-903d-4771-8a67-b9074fe4452c button.colab-df-convert');\n",
              "        buttonEl.style.display =\n",
              "          google.colab.kernel.accessAllowed ? 'block' : 'none';\n",
              "\n",
              "        async function convertToInteractive(key) {\n",
              "          const element = document.querySelector('#df-28e2385c-903d-4771-8a67-b9074fe4452c');\n",
              "          const dataTable =\n",
              "            await google.colab.kernel.invokeFunction('convertToInteractive',\n",
              "                                                     [key], {});\n",
              "          if (!dataTable) return;\n",
              "\n",
              "          const docLinkHtml = 'Like what you see? Visit the ' +\n",
              "            '<a target=\"_blank\" href=https://colab.research.google.com/notebooks/data_table.ipynb>data table notebook</a>'\n",
              "            + ' to learn more about interactive tables.';\n",
              "          element.innerHTML = '';\n",
              "          dataTable['output_type'] = 'display_data';\n",
              "          await google.colab.output.renderOutput(dataTable, element);\n",
              "          const docLink = document.createElement('div');\n",
              "          docLink.innerHTML = docLinkHtml;\n",
              "          element.appendChild(docLink);\n",
              "        }\n",
              "      </script>\n",
              "    </div>\n",
              "  </div>\n"
            ]
          },
          "metadata": {},
          "execution_count": 172
        }
      ]
    },
    {
      "cell_type": "markdown",
      "source": [
        "В данной таблице мы объединили в одну группу людей с тремя и более детьми в категорию 'Многодетные', так как их количество значительно меньше чем людей других категорий и процент их надёжности к кредитованию мог бы привести исследование к неправильным выводам. Сводная таблица показывает что между потенциальными заёмщиками без детей и остальными категориями есть только незначительная разница в проценте должников по кредитам. Вероятно, дело в том что люди не имеющие детей имеют меньше обстоятельств, которые мешают им вносить платежи по кредиту вовремя. Данный показатель принесёт мало пользы в построении скоринговой модели."
      ],
      "metadata": {
        "id": "AIqhy9EYtv4W"
      },
      "id": "AIqhy9EYtv4W"
    },
    {
      "cell_type": "markdown",
      "source": [
        "**Проверим есть ли зависимость между семейным положением и возвратом кредита в срок**"
      ],
      "metadata": {
        "id": "0lPUWrrsuBWH"
      },
      "id": "0lPUWrrsuBWH"
    },
    {
      "cell_type": "code",
      "source": [
        "data_family = data.pivot_table(index=['family_status'], values='debt', aggfunc=('sum','count'))\n",
        "\n",
        "data_family ['proportion'] = round(data_family['sum']/data_family['count'], 3) * 100\n",
        "\n",
        "data_family = data_family.sort_values(by='proportion',ascending=True)\n",
        "\n",
        "print(data_family)"
      ],
      "metadata": {
        "colab": {
          "base_uri": "https://localhost:8080/"
        },
        "id": "U3dyDFtTuB0U",
        "outputId": "dce4a207-2316-4829-83cf-6f8a5664876a"
      },
      "id": "U3dyDFtTuB0U",
      "execution_count": 173,
      "outputs": [
        {
          "output_type": "stream",
          "name": "stdout",
          "text": [
            "                       count  sum  proportion\n",
            "family_status                                \n",
            "вдовец / вдова           951   63         6.6\n",
            "в разводе               1189   84         7.1\n",
            "женат / замужем        12261  927         7.6\n",
            "гражданский брак        4134  385         9.3\n",
            "Не женат / не замужем   2796  273         9.8\n"
          ]
        }
      ]
    },
    {
      "cell_type": "markdown",
      "source": [
        " В данной таблице мы объединили в одну группу людей с тремя и более детьми в категорию 'Многодетные', так как их количество значительно меньше чем людей других категорий и процент их надёжности к кредитованию мог бы привести исследование к неправильным выводам. Сводная таблица показывает что между потенциальными заёмщиками без детей и остальными категориями есть только незначительная разница в проценте должников по кредитам. Вероятно, дело в том что люди не имеющие детей имеют меньше обстоятельств, которые мешают им вносить платежи по кредиту вовремя. Данный показатель принесёт мало пользы в построении скоринговой модели"
      ],
      "metadata": {
        "id": "olTcYqckvO18"
      },
      "id": "olTcYqckvO18"
    },
    {
      "cell_type": "markdown",
      "source": [
        "**Проверим есть ли зависимость между уровнем дохода и возвратом кредита в срок**"
      ],
      "metadata": {
        "id": "9ZyDK1mgvPEE"
      },
      "id": "9ZyDK1mgvPEE"
    },
    {
      "cell_type": "code",
      "source": [
        "def income_group(income):\n",
        "    if 0 <= income <= 100000:\n",
        "        return 'До 100000'\n",
        "    if 0 <= income <= 150000:\n",
        "        return 'От 100000 до 150000'\n",
        "    if 150000 <= income <= 2000000:\n",
        "        return 'От 150000 до 2000000'\n",
        "\n",
        "data['income_group'] = data['total_income'].apply(income_group)\n",
        "\n",
        "data_income = data.pivot_table(index=['income_group'], values='debt', aggfunc=['sum','count'])\n",
        "\n",
        "data_income ['proportion'] = round(data_income['sum']/data_income['count'], 4) * 100\n",
        "\n",
        "data_income = data_income.sort_values(by='proportion',ascending=True)\n",
        "\n",
        "print(data_income)"
      ],
      "metadata": {
        "colab": {
          "base_uri": "https://localhost:8080/"
        },
        "id": "-ALucgEgwoRg",
        "outputId": "cbb63269-e224-4498-d7f5-f6eefac74ec7"
      },
      "id": "-ALucgEgwoRg",
      "execution_count": 177,
      "outputs": [
        {
          "output_type": "stream",
          "name": "stdout",
          "text": [
            "                      sum count proportion\n",
            "                     debt  debt           \n",
            "income_group                              \n",
            "От 150000 до 2000000  758  9775       7.75\n",
            "До 100000             354  4444       7.97\n",
            "От 100000 до 150000   619  7110       8.71\n"
          ]
        }
      ]
    },
    {
      "cell_type": "markdown",
      "source": [
        "Вывод: В данной таблице мы разбили заёмщиков на три категории исходя из доходов, так как категория людей с доходом до 50000 тысяч рублей включала в себя небольшое количество людей. Таблица показывает что самым ненадёжным классом заёмщиков являются люди из категорит 'от 100000 до 150000'. А самыми надёжными считаются люди из категории 'от 150000 до 2000000'. Предположение №1: Вероятно, такое соотношение вызвано тем что люди из категории 'до 100000' берут кредиты на менее весомые суммы и вовремя их отдают. Предположение №2:Люди категории 'до 100000', не так сильно загружены как люди из других двух категорий, поэтому не забывают о своевременном платеже по кредиту. Предположение №3: Люди категории 'От 150000 до 2000000' меньше рискуют попасть в ситуацию, когда нет средств для внесения платежа. Можно было бы предположить что категория '100000 до 150000' является ненадёжной категорией заёмщиков, но разница между категориями очень мала. Соответственно, только по этому критерию мы тоже не можем полноценно оценивать заёмщика."
      ],
      "metadata": {
        "id": "BoVthrSHx4Ct"
      },
      "id": "BoVthrSHx4Ct"
    },
    {
      "cell_type": "code",
      "source": [
        "data_purpose = data.pivot_table(index=['purpose_category'], values='debt', aggfunc=('sum','count'))\n",
        "\n",
        "data_purpose ['proportion'] = round(data_purpose['sum']/data_purpose['count'], 4) * 100\n",
        "\n",
        "data_purpose"
      ],
      "metadata": {
        "colab": {
          "base_uri": "https://localhost:8080/",
          "height": 206
        },
        "id": "mB0Kb-Wjx4rv",
        "outputId": "60518bfe-d0b3-420d-8937-b23b1262d816"
      },
      "id": "mB0Kb-Wjx4rv",
      "execution_count": 182,
      "outputs": [
        {
          "output_type": "execute_result",
          "data": {
            "text/plain": [
              "                          count  sum  proportion\n",
              "purpose_category                                \n",
              "операции с автомобилем     4279  400        9.35\n",
              "операции с недвижимостью  10751  780        7.26\n",
              "получение образования      3988  369        9.25\n",
              "проведение свадьбы         2313  183        7.91"
            ],
            "text/html": [
              "\n",
              "\n",
              "  <div id=\"df-b4e1ae26-bf86-40aa-a291-e3e512ccec86\">\n",
              "    <div class=\"colab-df-container\">\n",
              "      <div>\n",
              "<style scoped>\n",
              "    .dataframe tbody tr th:only-of-type {\n",
              "        vertical-align: middle;\n",
              "    }\n",
              "\n",
              "    .dataframe tbody tr th {\n",
              "        vertical-align: top;\n",
              "    }\n",
              "\n",
              "    .dataframe thead th {\n",
              "        text-align: right;\n",
              "    }\n",
              "</style>\n",
              "<table border=\"1\" class=\"dataframe\">\n",
              "  <thead>\n",
              "    <tr style=\"text-align: right;\">\n",
              "      <th></th>\n",
              "      <th>count</th>\n",
              "      <th>sum</th>\n",
              "      <th>proportion</th>\n",
              "    </tr>\n",
              "    <tr>\n",
              "      <th>purpose_category</th>\n",
              "      <th></th>\n",
              "      <th></th>\n",
              "      <th></th>\n",
              "    </tr>\n",
              "  </thead>\n",
              "  <tbody>\n",
              "    <tr>\n",
              "      <th>операции с автомобилем</th>\n",
              "      <td>4279</td>\n",
              "      <td>400</td>\n",
              "      <td>9.35</td>\n",
              "    </tr>\n",
              "    <tr>\n",
              "      <th>операции с недвижимостью</th>\n",
              "      <td>10751</td>\n",
              "      <td>780</td>\n",
              "      <td>7.26</td>\n",
              "    </tr>\n",
              "    <tr>\n",
              "      <th>получение образования</th>\n",
              "      <td>3988</td>\n",
              "      <td>369</td>\n",
              "      <td>9.25</td>\n",
              "    </tr>\n",
              "    <tr>\n",
              "      <th>проведение свадьбы</th>\n",
              "      <td>2313</td>\n",
              "      <td>183</td>\n",
              "      <td>7.91</td>\n",
              "    </tr>\n",
              "  </tbody>\n",
              "</table>\n",
              "</div>\n",
              "      <button class=\"colab-df-convert\" onclick=\"convertToInteractive('df-b4e1ae26-bf86-40aa-a291-e3e512ccec86')\"\n",
              "              title=\"Convert this dataframe to an interactive table.\"\n",
              "              style=\"display:none;\">\n",
              "\n",
              "  <svg xmlns=\"http://www.w3.org/2000/svg\" height=\"24px\"viewBox=\"0 0 24 24\"\n",
              "       width=\"24px\">\n",
              "    <path d=\"M0 0h24v24H0V0z\" fill=\"none\"/>\n",
              "    <path d=\"M18.56 5.44l.94 2.06.94-2.06 2.06-.94-2.06-.94-.94-2.06-.94 2.06-2.06.94zm-11 1L8.5 8.5l.94-2.06 2.06-.94-2.06-.94L8.5 2.5l-.94 2.06-2.06.94zm10 10l.94 2.06.94-2.06 2.06-.94-2.06-.94-.94-2.06-.94 2.06-2.06.94z\"/><path d=\"M17.41 7.96l-1.37-1.37c-.4-.4-.92-.59-1.43-.59-.52 0-1.04.2-1.43.59L10.3 9.45l-7.72 7.72c-.78.78-.78 2.05 0 2.83L4 21.41c.39.39.9.59 1.41.59.51 0 1.02-.2 1.41-.59l7.78-7.78 2.81-2.81c.8-.78.8-2.07 0-2.86zM5.41 20L4 18.59l7.72-7.72 1.47 1.35L5.41 20z\"/>\n",
              "  </svg>\n",
              "      </button>\n",
              "\n",
              "\n",
              "\n",
              "    <div id=\"df-55114fa9-c6fc-4ae5-a707-89bed6a868b4\">\n",
              "      <button class=\"colab-df-quickchart\" onclick=\"quickchart('df-55114fa9-c6fc-4ae5-a707-89bed6a868b4')\"\n",
              "              title=\"Suggest charts.\"\n",
              "              style=\"display:none;\">\n",
              "\n",
              "<svg xmlns=\"http://www.w3.org/2000/svg\" height=\"24px\"viewBox=\"0 0 24 24\"\n",
              "     width=\"24px\">\n",
              "    <g>\n",
              "        <path d=\"M19 3H5c-1.1 0-2 .9-2 2v14c0 1.1.9 2 2 2h14c1.1 0 2-.9 2-2V5c0-1.1-.9-2-2-2zM9 17H7v-7h2v7zm4 0h-2V7h2v10zm4 0h-2v-4h2v4z\"/>\n",
              "    </g>\n",
              "</svg>\n",
              "      </button>\n",
              "    </div>\n",
              "\n",
              "<style>\n",
              "  .colab-df-quickchart {\n",
              "    background-color: #E8F0FE;\n",
              "    border: none;\n",
              "    border-radius: 50%;\n",
              "    cursor: pointer;\n",
              "    display: none;\n",
              "    fill: #1967D2;\n",
              "    height: 32px;\n",
              "    padding: 0 0 0 0;\n",
              "    width: 32px;\n",
              "  }\n",
              "\n",
              "  .colab-df-quickchart:hover {\n",
              "    background-color: #E2EBFA;\n",
              "    box-shadow: 0px 1px 2px rgba(60, 64, 67, 0.3), 0px 1px 3px 1px rgba(60, 64, 67, 0.15);\n",
              "    fill: #174EA6;\n",
              "  }\n",
              "\n",
              "  [theme=dark] .colab-df-quickchart {\n",
              "    background-color: #3B4455;\n",
              "    fill: #D2E3FC;\n",
              "  }\n",
              "\n",
              "  [theme=dark] .colab-df-quickchart:hover {\n",
              "    background-color: #434B5C;\n",
              "    box-shadow: 0px 1px 3px 1px rgba(0, 0, 0, 0.15);\n",
              "    filter: drop-shadow(0px 1px 2px rgba(0, 0, 0, 0.3));\n",
              "    fill: #FFFFFF;\n",
              "  }\n",
              "</style>\n",
              "\n",
              "    <script>\n",
              "      async function quickchart(key) {\n",
              "        const containerElement = document.querySelector('#' + key);\n",
              "        const charts = await google.colab.kernel.invokeFunction(\n",
              "            'suggestCharts', [key], {});\n",
              "      }\n",
              "    </script>\n",
              "\n",
              "      <script>\n",
              "\n",
              "function displayQuickchartButton(domScope) {\n",
              "  let quickchartButtonEl =\n",
              "    domScope.querySelector('#df-55114fa9-c6fc-4ae5-a707-89bed6a868b4 button.colab-df-quickchart');\n",
              "  quickchartButtonEl.style.display =\n",
              "    google.colab.kernel.accessAllowed ? 'block' : 'none';\n",
              "}\n",
              "\n",
              "        displayQuickchartButton(document);\n",
              "      </script>\n",
              "      <style>\n",
              "    .colab-df-container {\n",
              "      display:flex;\n",
              "      flex-wrap:wrap;\n",
              "      gap: 12px;\n",
              "    }\n",
              "\n",
              "    .colab-df-convert {\n",
              "      background-color: #E8F0FE;\n",
              "      border: none;\n",
              "      border-radius: 50%;\n",
              "      cursor: pointer;\n",
              "      display: none;\n",
              "      fill: #1967D2;\n",
              "      height: 32px;\n",
              "      padding: 0 0 0 0;\n",
              "      width: 32px;\n",
              "    }\n",
              "\n",
              "    .colab-df-convert:hover {\n",
              "      background-color: #E2EBFA;\n",
              "      box-shadow: 0px 1px 2px rgba(60, 64, 67, 0.3), 0px 1px 3px 1px rgba(60, 64, 67, 0.15);\n",
              "      fill: #174EA6;\n",
              "    }\n",
              "\n",
              "    [theme=dark] .colab-df-convert {\n",
              "      background-color: #3B4455;\n",
              "      fill: #D2E3FC;\n",
              "    }\n",
              "\n",
              "    [theme=dark] .colab-df-convert:hover {\n",
              "      background-color: #434B5C;\n",
              "      box-shadow: 0px 1px 3px 1px rgba(0, 0, 0, 0.15);\n",
              "      filter: drop-shadow(0px 1px 2px rgba(0, 0, 0, 0.3));\n",
              "      fill: #FFFFFF;\n",
              "    }\n",
              "  </style>\n",
              "\n",
              "      <script>\n",
              "        const buttonEl =\n",
              "          document.querySelector('#df-b4e1ae26-bf86-40aa-a291-e3e512ccec86 button.colab-df-convert');\n",
              "        buttonEl.style.display =\n",
              "          google.colab.kernel.accessAllowed ? 'block' : 'none';\n",
              "\n",
              "        async function convertToInteractive(key) {\n",
              "          const element = document.querySelector('#df-b4e1ae26-bf86-40aa-a291-e3e512ccec86');\n",
              "          const dataTable =\n",
              "            await google.colab.kernel.invokeFunction('convertToInteractive',\n",
              "                                                     [key], {});\n",
              "          if (!dataTable) return;\n",
              "\n",
              "          const docLinkHtml = 'Like what you see? Visit the ' +\n",
              "            '<a target=\"_blank\" href=https://colab.research.google.com/notebooks/data_table.ipynb>data table notebook</a>'\n",
              "            + ' to learn more about interactive tables.';\n",
              "          element.innerHTML = '';\n",
              "          dataTable['output_type'] = 'display_data';\n",
              "          await google.colab.output.renderOutput(dataTable, element);\n",
              "          const docLink = document.createElement('div');\n",
              "          docLink.innerHTML = docLinkHtml;\n",
              "          element.appendChild(docLink);\n",
              "        }\n",
              "      </script>\n",
              "    </div>\n",
              "  </div>\n"
            ]
          },
          "metadata": {},
          "execution_count": 182
        }
      ]
    },
    {
      "cell_type": "markdown",
      "source": [
        "Вывод: Все цели кредита разбиты на 4 основные категории. Исходя из данных таблицы видно что есть различие по возврату задолженности в срок - менее рискована выдача кредитов из категории 'операции с недвижимостью' и проведение свадьбы'. Более рискована 'получение образования' и 'операции с автомобилем'. Разница в проценте просрочивших выплату по кредиту не сильно разнятся, поэтому этот критерий тоже одиночно не показывает реальную разницу между заёмщиками из данных категорий. Предположение: Проведение свадьбы - единоразовое событие и в ценовом сегменте самое бюджетное из представленного. Приобретение недвижимости - достаточно серьёзное решение - поэтому и выплатыы производятся регулярно. В то же время, получение образования и приобретение автомобиля - зачастую мероприятие для людей юного возраста и данная категория людей может быть достаточно легкомысленна."
      ],
      "metadata": {
        "id": "sjE6iFdNzHfa"
      },
      "id": "sjE6iFdNzHfa"
    },
    {
      "cell_type": "markdown",
      "source": [
        "## Часть 5 Общие итоги исследования"
      ],
      "metadata": {
        "id": "sp5VhZTFzava"
      },
      "id": "sp5VhZTFzava"
    },
    {
      "cell_type": "markdown",
      "source": [
        "Нашими усилиями было проделано исследование с целью проверки влияния\n",
        "\n",
        "различных факторов на возврат кредита в сроки установленные договором.\n",
        "\n",
        "Входные данные от банка — статистика о платёжеспособности клиентов.\n",
        "\n",
        "Результаты исследования будут учтены при построении модели кредитного\n",
        "\n",
        "скоринга — специальной системы, которая оценивает способность потенциального\n",
        "\n",
        "заёмщика вернуть кредит банку.\n",
        "\n",
        "   **В данном иследовании перед нами стояла задача проверить 4 гипотезы:**\n",
        "\n",
        "1.Количество детей потенциального кредитополучателя влияет на возврат кредита в срок.\n",
        "\n",
        "2.Семейное положение потенциального кредитополучателявлияет на возврат кредита в срок.\n",
        "\n",
        "3.Общий доход потенциального кредитополучателя влияет на возврат кредита в срок.\n",
        "\n",
        "4.Назначение кредита потенциального кредитополучателя влияет на возврат кредита в срок.\n",
        "\n",
        "В ходе проверки гепотез мы получили следующие результаты:\n",
        "\n",
        "**Первая гипотеза частично подтверждена:**\n",
        "\n",
        "Процент просроченных кредитов, среди кредитополучателей **не имеющих детей** - **7.6%**\n",
        "\n",
        "Процент просроченных кредитов, среди **многодетных кредитополучателей** - **8.1%**\n",
        "\n",
        "Процент просроченных кредитов, среди кредитополучателей **имеющих одного ребёнка** - **9.2%**\n",
        "\n",
        "Процент просроченных кредитов, среди кредитополучателей **имеющих двух детей** - **9.4%**\n",
        "\n",
        "**Рекомендуется:** Увеличить выборку по всем четырём категориям, в особенности по многодетной категории заёмщиков. Вследствие увеличения выборки можно будет отследить тенденцию невозврата кредита в срок среди разных категорий многодетных заёмщиков.\n",
        "\n",
        "**Вторая гипотеза подтверждена:**\n",
        "\n",
        "Процент просроченных кредитов, среди кредитополучателей из категории **\"вдовец/вдова\"** - **6.7%**\n",
        "\n",
        "Процент просроченных кредитов, среди кредитополучателей из категории **\"в разводе \"** - **7.0%**\n",
        "\n",
        "Процент просроченных кредитов, среди кредитополучателей из категории **\"женат / замужем \"** - **7.6%**          \n",
        "Процент просроченных кредитов, среди кредитополучателей из категории **\"гражданский брак\"** - **9.5%**\n",
        "\n",
        "Процент просроченных кредитов, среди кредитополучателей из категории **\"не женат/не замужем\"** - **9.7%**\n",
        "\n",
        "**Рекомендуется:** Увеличить выборку для всех категорий, есть вероятность, что новые данные изменят картину и какая-то из категорий покажет аномальные результаты. До увеличения выборки не рекомендуется данный критерий как причину в отказе в выдаче кредита, либо назначению повышенного процента кредитной ставки.\n",
        "\n",
        "**Третья гипотеза частично подтверждена:**\n",
        "\n",
        "Процент просроченных кредитов, среди кредитополучателей из категории с доходом **\"от 150 до 200 т.р.\"** - **7.8%**   \n",
        "\n",
        "Процент просроченных кредитов, среди кредитополучателей из категории с доходом **\"до 100 т.р.\"** -     **8.0%**   \n",
        "\n",
        "Процент просроченных кредитов, среди кредитополучателей из категории с доходом **\"от 100 до 150 т.р.\"** - **8.8%**\n",
        "**Рекомендуется:** Слишком малая выборка данных не дала возможность для полного подтверждения или опровержения данной гипотезы. Исходя из данного результата - заработок нельзя считать весомым критерием при рассмотрении потенциального заёмщика.При возможности уточнить реальный зароботок клиентов с пропущенными значениями, впоследствии заполненными медианным значением.\n",
        "\n",
        "**Четвёртая гипотеза подтверждена:**\n",
        "Процент просроченных кредитов, среди кредитополучателей с целью получения кредита связанным с **операциями с недвижимостью** - **7.2%**    \n",
        "\n",
        "Процент просроченных кредитов, среди кредитополучателей с целью получения кредита связанным с **проведением свадьбы** - **8.0%**   \n",
        "\n",
        "Процент просроченных кредитов, среди кредитополучателей с целью получения кредита связанным с **получением образования** - **9.2%**    \n",
        "\n",
        "Процент просроченных кредитов, среди кредитополучателей с целью получения кредита связанным с **операциями с автомобилем** - **9.3%**    \n",
        "\n",
        "**Рекомендуется:** Увеличение выборки среди клиентов. Так как разница в процентном отношении между всеми категориями цели не слишком высока, рекомендуется не придавать веское значение данному критерию.\n",
        "\n",
        "**Необходимые действия:**\n",
        "\n",
        "1.Увеличение выборки во всех четырёх критериях (в особенности в первом и третьем). Второй и четвёртый уже готовы к использованию, но наилучшим решением будет расширение их выборки.\n",
        "\n",
        "2.Повторный анализ с учётом поступивших данных.\n",
        "\n",
        "3.Построение скоринговой кредитной модели с учётом проведённого исследования.\n",
        "\n",
        "\n"
      ],
      "metadata": {
        "id": "zG23484lzY6r"
      },
      "id": "zG23484lzY6r"
    }
  ],
  "metadata": {
    "ExecuteTimeLog": [
      {
        "duration": 44,
        "start_time": "2023-01-05T13:25:55.013Z"
      },
      {
        "duration": 7,
        "start_time": "2023-01-05T13:26:01.662Z"
      },
      {
        "duration": 5,
        "start_time": "2023-01-05T13:26:05.529Z"
      },
      {
        "duration": 391,
        "start_time": "2023-01-05T13:26:17.392Z"
      },
      {
        "duration": 295,
        "start_time": "2023-01-05T13:26:17.784Z"
      },
      {
        "duration": 20,
        "start_time": "2023-01-05T13:26:18.081Z"
      },
      {
        "duration": 3,
        "start_time": "2023-01-05T13:26:18.102Z"
      },
      {
        "duration": 5,
        "start_time": "2023-01-05T13:26:18.106Z"
      },
      {
        "duration": 4,
        "start_time": "2023-01-05T13:26:18.113Z"
      },
      {
        "duration": 4,
        "start_time": "2023-01-05T13:26:18.119Z"
      },
      {
        "duration": 5,
        "start_time": "2023-01-05T13:26:18.125Z"
      },
      {
        "duration": 6,
        "start_time": "2023-01-05T13:26:18.131Z"
      },
      {
        "duration": 4,
        "start_time": "2023-01-05T13:26:18.139Z"
      },
      {
        "duration": 6,
        "start_time": "2023-01-05T13:26:18.144Z"
      },
      {
        "duration": 8,
        "start_time": "2023-01-05T13:26:18.151Z"
      },
      {
        "duration": 4,
        "start_time": "2023-01-05T13:26:18.161Z"
      },
      {
        "duration": 4,
        "start_time": "2023-01-05T13:26:18.167Z"
      },
      {
        "duration": 3,
        "start_time": "2023-01-05T13:26:18.173Z"
      },
      {
        "duration": 4,
        "start_time": "2023-01-05T13:26:18.178Z"
      },
      {
        "duration": 6,
        "start_time": "2023-01-05T13:26:18.183Z"
      },
      {
        "duration": 4,
        "start_time": "2023-01-05T13:26:18.190Z"
      },
      {
        "duration": 26,
        "start_time": "2023-01-05T13:26:18.196Z"
      },
      {
        "duration": 5,
        "start_time": "2023-01-05T13:26:18.223Z"
      },
      {
        "duration": 6,
        "start_time": "2023-01-05T13:26:18.229Z"
      },
      {
        "duration": 4,
        "start_time": "2023-01-05T13:26:18.236Z"
      },
      {
        "duration": 14,
        "start_time": "2023-01-05T13:30:37.267Z"
      },
      {
        "duration": 9,
        "start_time": "2023-01-05T13:33:15.565Z"
      },
      {
        "duration": 14,
        "start_time": "2023-01-05T13:42:08.616Z"
      },
      {
        "duration": 759,
        "start_time": "2023-01-05T13:45:21.575Z"
      },
      {
        "duration": 7,
        "start_time": "2023-01-05T13:46:08.248Z"
      },
      {
        "duration": 10,
        "start_time": "2023-01-05T13:50:40.050Z"
      },
      {
        "duration": 7,
        "start_time": "2023-01-05T13:51:10.132Z"
      },
      {
        "duration": 10,
        "start_time": "2023-01-05T13:51:13.540Z"
      },
      {
        "duration": 9,
        "start_time": "2023-01-05T14:13:45.727Z"
      },
      {
        "duration": 50,
        "start_time": "2023-01-05T15:58:46.366Z"
      },
      {
        "duration": 51,
        "start_time": "2023-01-05T16:04:11.608Z"
      },
      {
        "duration": 357,
        "start_time": "2023-01-05T16:04:23.112Z"
      },
      {
        "duration": 116,
        "start_time": "2023-01-05T16:04:23.470Z"
      },
      {
        "duration": 21,
        "start_time": "2023-01-05T16:04:23.587Z"
      },
      {
        "duration": 38,
        "start_time": "2023-01-05T16:04:23.610Z"
      },
      {
        "duration": 14,
        "start_time": "2023-01-05T16:04:23.649Z"
      },
      {
        "duration": 45,
        "start_time": "2023-01-05T16:04:23.664Z"
      },
      {
        "duration": 4,
        "start_time": "2023-01-05T16:04:23.710Z"
      },
      {
        "duration": 23,
        "start_time": "2023-01-05T16:04:23.715Z"
      },
      {
        "duration": 21,
        "start_time": "2023-01-05T16:04:23.740Z"
      },
      {
        "duration": 21,
        "start_time": "2023-01-05T16:04:23.763Z"
      },
      {
        "duration": 17,
        "start_time": "2023-01-05T16:04:23.786Z"
      },
      {
        "duration": 19,
        "start_time": "2023-01-05T16:04:23.805Z"
      },
      {
        "duration": 17,
        "start_time": "2023-01-05T16:04:23.826Z"
      },
      {
        "duration": 28,
        "start_time": "2023-01-05T16:04:23.844Z"
      },
      {
        "duration": 29,
        "start_time": "2023-01-05T16:04:23.873Z"
      },
      {
        "duration": 24,
        "start_time": "2023-01-05T16:04:23.905Z"
      },
      {
        "duration": 18,
        "start_time": "2023-01-05T16:04:23.931Z"
      },
      {
        "duration": 24,
        "start_time": "2023-01-05T16:04:23.951Z"
      },
      {
        "duration": 19,
        "start_time": "2023-01-05T16:04:23.977Z"
      },
      {
        "duration": 24,
        "start_time": "2023-01-05T16:04:23.998Z"
      },
      {
        "duration": 20,
        "start_time": "2023-01-05T16:04:24.024Z"
      },
      {
        "duration": 23,
        "start_time": "2023-01-05T16:04:24.046Z"
      },
      {
        "duration": 5,
        "start_time": "2023-01-05T16:06:31.042Z"
      },
      {
        "duration": 5,
        "start_time": "2023-01-05T16:16:29.753Z"
      },
      {
        "duration": 430,
        "start_time": "2023-01-05T16:16:40.076Z"
      },
      {
        "duration": 79,
        "start_time": "2023-01-05T16:16:40.508Z"
      },
      {
        "duration": 27,
        "start_time": "2023-01-05T16:16:40.592Z"
      },
      {
        "duration": 18,
        "start_time": "2023-01-05T16:16:40.622Z"
      },
      {
        "duration": 18,
        "start_time": "2023-01-05T16:16:40.641Z"
      },
      {
        "duration": 52,
        "start_time": "2023-01-05T16:16:40.661Z"
      },
      {
        "duration": 3,
        "start_time": "2023-01-05T16:16:40.715Z"
      },
      {
        "duration": 14,
        "start_time": "2023-01-05T16:16:40.720Z"
      },
      {
        "duration": 5,
        "start_time": "2023-01-05T16:16:40.736Z"
      },
      {
        "duration": 16,
        "start_time": "2023-01-05T16:16:40.742Z"
      },
      {
        "duration": 5,
        "start_time": "2023-01-05T16:16:40.778Z"
      },
      {
        "duration": 7,
        "start_time": "2023-01-05T16:16:40.785Z"
      },
      {
        "duration": 6,
        "start_time": "2023-01-05T16:16:40.795Z"
      },
      {
        "duration": 6,
        "start_time": "2023-01-05T16:16:40.803Z"
      },
      {
        "duration": 9,
        "start_time": "2023-01-05T16:16:40.811Z"
      },
      {
        "duration": 8,
        "start_time": "2023-01-05T16:16:40.822Z"
      },
      {
        "duration": 7,
        "start_time": "2023-01-05T16:16:40.832Z"
      },
      {
        "duration": 7,
        "start_time": "2023-01-05T16:16:40.841Z"
      },
      {
        "duration": 6,
        "start_time": "2023-01-05T16:16:40.850Z"
      },
      {
        "duration": 8,
        "start_time": "2023-01-05T16:16:40.858Z"
      },
      {
        "duration": 11,
        "start_time": "2023-01-05T16:16:40.867Z"
      },
      {
        "duration": 8,
        "start_time": "2023-01-05T16:16:40.879Z"
      },
      {
        "duration": 31,
        "start_time": "2023-01-05T16:22:28.881Z"
      },
      {
        "duration": 30,
        "start_time": "2023-01-05T16:22:31.462Z"
      },
      {
        "duration": 6,
        "start_time": "2023-01-05T16:50:23.271Z"
      },
      {
        "duration": 4,
        "start_time": "2023-01-05T16:56:39.820Z"
      },
      {
        "duration": 4,
        "start_time": "2023-01-05T16:56:43.232Z"
      },
      {
        "duration": 401,
        "start_time": "2023-01-05T16:56:49.657Z"
      },
      {
        "duration": 69,
        "start_time": "2023-01-05T16:56:50.060Z"
      },
      {
        "duration": 21,
        "start_time": "2023-01-05T16:56:50.131Z"
      },
      {
        "duration": 17,
        "start_time": "2023-01-05T16:56:50.153Z"
      },
      {
        "duration": 13,
        "start_time": "2023-01-05T16:56:50.172Z"
      },
      {
        "duration": 32,
        "start_time": "2023-01-05T16:56:50.187Z"
      },
      {
        "duration": 3,
        "start_time": "2023-01-05T16:56:50.221Z"
      },
      {
        "duration": 11,
        "start_time": "2023-01-05T16:56:50.226Z"
      },
      {
        "duration": 4,
        "start_time": "2023-01-05T16:56:50.239Z"
      },
      {
        "duration": 34,
        "start_time": "2023-01-05T16:56:50.244Z"
      },
      {
        "duration": 4,
        "start_time": "2023-01-05T16:56:50.280Z"
      },
      {
        "duration": 35,
        "start_time": "2023-01-05T16:56:50.286Z"
      },
      {
        "duration": 9,
        "start_time": "2023-01-05T16:56:50.322Z"
      },
      {
        "duration": 9,
        "start_time": "2023-01-05T16:56:50.333Z"
      },
      {
        "duration": 4,
        "start_time": "2023-01-05T16:56:50.343Z"
      },
      {
        "duration": 7,
        "start_time": "2023-01-05T16:56:50.348Z"
      },
      {
        "duration": 22,
        "start_time": "2023-01-05T16:56:50.356Z"
      },
      {
        "duration": 2,
        "start_time": "2023-01-05T16:56:50.380Z"
      },
      {
        "duration": 17,
        "start_time": "2023-01-05T16:56:50.384Z"
      },
      {
        "duration": 15,
        "start_time": "2023-01-05T16:56:50.403Z"
      },
      {
        "duration": 17,
        "start_time": "2023-01-05T16:56:50.420Z"
      },
      {
        "duration": 5,
        "start_time": "2023-01-05T16:56:50.439Z"
      },
      {
        "duration": 4,
        "start_time": "2023-01-05T16:56:57.048Z"
      },
      {
        "duration": 16,
        "start_time": "2023-01-05T16:58:51.168Z"
      },
      {
        "duration": 9,
        "start_time": "2023-01-05T17:02:48.454Z"
      },
      {
        "duration": 17,
        "start_time": "2023-01-05T17:02:50.837Z"
      },
      {
        "duration": 32,
        "start_time": "2023-01-05T17:05:23.764Z"
      },
      {
        "duration": 402,
        "start_time": "2023-01-05T17:08:03.891Z"
      },
      {
        "duration": 72,
        "start_time": "2023-01-05T17:08:04.295Z"
      },
      {
        "duration": 22,
        "start_time": "2023-01-05T17:08:04.371Z"
      },
      {
        "duration": 30,
        "start_time": "2023-01-05T17:08:04.394Z"
      },
      {
        "duration": 12,
        "start_time": "2023-01-05T17:08:04.426Z"
      },
      {
        "duration": 47,
        "start_time": "2023-01-05T17:08:04.440Z"
      },
      {
        "duration": 3,
        "start_time": "2023-01-05T17:08:04.489Z"
      },
      {
        "duration": 34,
        "start_time": "2023-01-05T17:08:04.494Z"
      },
      {
        "duration": 13,
        "start_time": "2023-01-05T17:08:04.532Z"
      },
      {
        "duration": 25,
        "start_time": "2023-01-05T17:08:04.547Z"
      },
      {
        "duration": 22,
        "start_time": "2023-01-05T17:08:04.573Z"
      },
      {
        "duration": 58,
        "start_time": "2023-01-05T17:08:04.597Z"
      },
      {
        "duration": 10,
        "start_time": "2023-01-05T17:08:04.656Z"
      },
      {
        "duration": 13,
        "start_time": "2023-01-05T17:08:04.667Z"
      },
      {
        "duration": 23,
        "start_time": "2023-01-05T17:08:04.682Z"
      },
      {
        "duration": 34,
        "start_time": "2023-01-05T17:08:04.706Z"
      },
      {
        "duration": 30,
        "start_time": "2023-01-05T17:08:04.742Z"
      },
      {
        "duration": 2,
        "start_time": "2023-01-05T17:08:04.773Z"
      },
      {
        "duration": 6,
        "start_time": "2023-01-05T17:08:04.777Z"
      },
      {
        "duration": 23,
        "start_time": "2023-01-05T17:08:04.785Z"
      },
      {
        "duration": 11,
        "start_time": "2023-01-05T17:08:04.809Z"
      },
      {
        "duration": 9,
        "start_time": "2023-01-05T17:08:04.822Z"
      },
      {
        "duration": 20,
        "start_time": "2023-01-05T17:10:45.503Z"
      },
      {
        "duration": 18,
        "start_time": "2023-01-05T17:10:52.669Z"
      },
      {
        "duration": 2,
        "start_time": "2023-01-05T17:10:53.398Z"
      },
      {
        "duration": 33,
        "start_time": "2023-01-05T17:11:48.080Z"
      },
      {
        "duration": 50,
        "start_time": "2023-01-10T14:27:30.852Z"
      },
      {
        "duration": 491,
        "start_time": "2023-01-10T14:27:40.021Z"
      },
      {
        "duration": 163,
        "start_time": "2023-01-10T14:27:40.516Z"
      },
      {
        "duration": 43,
        "start_time": "2023-01-10T14:27:40.681Z"
      },
      {
        "duration": 43,
        "start_time": "2023-01-10T14:27:40.726Z"
      },
      {
        "duration": 55,
        "start_time": "2023-01-10T14:27:40.772Z"
      },
      {
        "duration": 72,
        "start_time": "2023-01-10T14:27:40.829Z"
      },
      {
        "duration": 25,
        "start_time": "2023-01-10T14:27:40.903Z"
      },
      {
        "duration": 50,
        "start_time": "2023-01-10T14:27:40.930Z"
      },
      {
        "duration": 20,
        "start_time": "2023-01-10T14:27:40.982Z"
      },
      {
        "duration": 79,
        "start_time": "2023-01-10T14:27:41.004Z"
      },
      {
        "duration": 32,
        "start_time": "2023-01-10T14:27:41.085Z"
      },
      {
        "duration": 72,
        "start_time": "2023-01-10T14:27:41.118Z"
      },
      {
        "duration": 37,
        "start_time": "2023-01-10T14:27:41.193Z"
      },
      {
        "duration": 20,
        "start_time": "2023-01-10T14:27:41.233Z"
      },
      {
        "duration": 76,
        "start_time": "2023-01-10T14:27:41.255Z"
      },
      {
        "duration": 66,
        "start_time": "2023-01-10T14:27:41.332Z"
      },
      {
        "duration": 84,
        "start_time": "2023-01-10T14:27:41.400Z"
      },
      {
        "duration": 70,
        "start_time": "2023-01-10T14:27:41.486Z"
      },
      {
        "duration": 62,
        "start_time": "2023-01-10T14:27:41.558Z"
      },
      {
        "duration": 100,
        "start_time": "2023-01-10T14:27:41.622Z"
      },
      {
        "duration": 49,
        "start_time": "2023-01-10T14:27:41.725Z"
      },
      {
        "duration": 29,
        "start_time": "2023-01-10T14:27:41.776Z"
      },
      {
        "duration": 4,
        "start_time": "2023-01-10T14:27:46.083Z"
      },
      {
        "duration": 9,
        "start_time": "2023-01-10T14:27:48.128Z"
      },
      {
        "duration": 11,
        "start_time": "2023-01-10T14:28:31.897Z"
      },
      {
        "duration": 17,
        "start_time": "2023-01-10T18:17:50.616Z"
      },
      {
        "duration": 67,
        "start_time": "2023-01-11T18:05:23.296Z"
      },
      {
        "duration": 422,
        "start_time": "2023-01-11T18:05:40.663Z"
      },
      {
        "duration": 80,
        "start_time": "2023-01-11T18:05:41.087Z"
      },
      {
        "duration": 22,
        "start_time": "2023-01-11T18:05:41.169Z"
      },
      {
        "duration": 15,
        "start_time": "2023-01-11T18:05:41.194Z"
      },
      {
        "duration": 10,
        "start_time": "2023-01-11T18:05:41.211Z"
      },
      {
        "duration": 36,
        "start_time": "2023-01-11T18:05:41.223Z"
      },
      {
        "duration": 4,
        "start_time": "2023-01-11T18:05:41.260Z"
      },
      {
        "duration": 32,
        "start_time": "2023-01-11T18:05:41.266Z"
      },
      {
        "duration": 4,
        "start_time": "2023-01-11T18:05:41.300Z"
      },
      {
        "duration": 8,
        "start_time": "2023-01-11T18:05:41.307Z"
      },
      {
        "duration": 5,
        "start_time": "2023-01-11T18:05:41.316Z"
      },
      {
        "duration": 35,
        "start_time": "2023-01-11T18:05:41.323Z"
      },
      {
        "duration": 42,
        "start_time": "2023-01-11T18:05:41.360Z"
      },
      {
        "duration": 10,
        "start_time": "2023-01-11T18:05:41.404Z"
      },
      {
        "duration": 19,
        "start_time": "2023-01-11T18:05:41.416Z"
      },
      {
        "duration": 25,
        "start_time": "2023-01-11T18:05:41.437Z"
      },
      {
        "duration": 39,
        "start_time": "2023-01-11T18:05:41.464Z"
      },
      {
        "duration": 4,
        "start_time": "2023-01-11T18:05:41.504Z"
      },
      {
        "duration": 16,
        "start_time": "2023-01-11T18:05:41.509Z"
      },
      {
        "duration": 5,
        "start_time": "2023-01-11T18:05:41.527Z"
      },
      {
        "duration": 7,
        "start_time": "2023-01-11T18:05:41.534Z"
      },
      {
        "duration": 30,
        "start_time": "2023-01-11T18:05:41.542Z"
      },
      {
        "duration": 8,
        "start_time": "2023-01-11T18:05:46.561Z"
      },
      {
        "duration": 53,
        "start_time": "2023-02-10T09:35:49.381Z"
      },
      {
        "duration": 416,
        "start_time": "2023-02-10T09:35:54.814Z"
      },
      {
        "duration": 673,
        "start_time": "2023-02-10T09:35:55.232Z"
      },
      {
        "duration": 22,
        "start_time": "2023-02-10T09:35:55.907Z"
      },
      {
        "duration": 14,
        "start_time": "2023-02-10T09:35:55.931Z"
      },
      {
        "duration": 10,
        "start_time": "2023-02-10T09:35:55.947Z"
      },
      {
        "duration": 48,
        "start_time": "2023-02-10T09:35:55.958Z"
      },
      {
        "duration": 4,
        "start_time": "2023-02-10T09:35:56.009Z"
      },
      {
        "duration": 10,
        "start_time": "2023-02-10T09:35:56.015Z"
      },
      {
        "duration": 7,
        "start_time": "2023-02-10T09:35:56.026Z"
      },
      {
        "duration": 9,
        "start_time": "2023-02-10T09:35:56.036Z"
      },
      {
        "duration": 8,
        "start_time": "2023-02-10T09:35:56.046Z"
      },
      {
        "duration": 61,
        "start_time": "2023-02-10T09:35:56.056Z"
      },
      {
        "duration": 11,
        "start_time": "2023-02-10T09:35:56.119Z"
      },
      {
        "duration": 4,
        "start_time": "2023-02-10T09:35:56.132Z"
      },
      {
        "duration": 19,
        "start_time": "2023-02-10T09:35:56.137Z"
      },
      {
        "duration": 41,
        "start_time": "2023-02-10T09:35:56.158Z"
      },
      {
        "duration": 24,
        "start_time": "2023-02-10T09:35:56.201Z"
      },
      {
        "duration": 10,
        "start_time": "2023-02-10T09:35:56.227Z"
      },
      {
        "duration": 23,
        "start_time": "2023-02-10T09:35:56.238Z"
      },
      {
        "duration": 16,
        "start_time": "2023-02-10T09:35:56.263Z"
      },
      {
        "duration": 11,
        "start_time": "2023-02-10T09:35:56.281Z"
      },
      {
        "duration": 48,
        "start_time": "2023-02-10T09:35:56.293Z"
      },
      {
        "duration": 7,
        "start_time": "2023-02-10T09:38:44.965Z"
      },
      {
        "duration": 7,
        "start_time": "2023-02-10T09:38:48.975Z"
      },
      {
        "duration": 448,
        "start_time": "2023-02-10T09:38:56.526Z"
      },
      {
        "duration": 97,
        "start_time": "2023-02-10T09:38:56.977Z"
      },
      {
        "duration": 33,
        "start_time": "2023-02-10T09:38:57.075Z"
      },
      {
        "duration": 19,
        "start_time": "2023-02-10T09:38:57.112Z"
      },
      {
        "duration": 10,
        "start_time": "2023-02-10T09:38:57.134Z"
      },
      {
        "duration": 48,
        "start_time": "2023-02-10T09:38:57.145Z"
      },
      {
        "duration": 8,
        "start_time": "2023-02-10T09:38:57.206Z"
      },
      {
        "duration": 23,
        "start_time": "2023-02-10T09:38:57.216Z"
      },
      {
        "duration": 8,
        "start_time": "2023-02-10T09:38:57.241Z"
      },
      {
        "duration": 14,
        "start_time": "2023-02-10T09:38:57.251Z"
      },
      {
        "duration": 7,
        "start_time": "2023-02-10T09:38:57.267Z"
      },
      {
        "duration": 53,
        "start_time": "2023-02-10T09:38:57.276Z"
      },
      {
        "duration": 12,
        "start_time": "2023-02-10T09:38:57.331Z"
      },
      {
        "duration": 5,
        "start_time": "2023-02-10T09:38:57.346Z"
      },
      {
        "duration": 19,
        "start_time": "2023-02-10T09:38:57.353Z"
      },
      {
        "duration": 47,
        "start_time": "2023-02-10T09:38:57.373Z"
      },
      {
        "duration": 27,
        "start_time": "2023-02-10T09:38:57.422Z"
      },
      {
        "duration": 4,
        "start_time": "2023-02-10T09:38:57.451Z"
      },
      {
        "duration": 13,
        "start_time": "2023-02-10T09:38:57.457Z"
      },
      {
        "duration": 26,
        "start_time": "2023-02-10T09:38:57.471Z"
      },
      {
        "duration": 4,
        "start_time": "2023-02-10T09:38:57.499Z"
      },
      {
        "duration": 29,
        "start_time": "2023-02-10T09:38:57.508Z"
      },
      {
        "duration": 8,
        "start_time": "2023-02-10T09:48:41.035Z"
      }
    ],
    "colab": {
      "provenance": []
    },
    "kernelspec": {
      "display_name": "Python 3 (ipykernel)",
      "language": "python",
      "name": "python3"
    },
    "language_info": {
      "codemirror_mode": {
        "name": "ipython",
        "version": 3
      },
      "file_extension": ".py",
      "mimetype": "text/x-python",
      "name": "python",
      "nbconvert_exporter": "python",
      "pygments_lexer": "ipython3",
      "version": "3.9.5"
    },
    "toc": {
      "base_numbering": 1,
      "nav_menu": {},
      "number_sections": true,
      "sideBar": true,
      "skip_h1_title": true,
      "title_cell": "Table of Contents",
      "title_sidebar": "Contents",
      "toc_cell": false,
      "toc_position": {},
      "toc_section_display": true,
      "toc_window_display": false
    }
  },
  "nbformat": 4,
  "nbformat_minor": 5
}