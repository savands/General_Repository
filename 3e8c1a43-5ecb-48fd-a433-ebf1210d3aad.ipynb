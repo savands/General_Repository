{
 "cells": [
  {
   "cell_type": "markdown",
   "metadata": {
    "deletable": false,
    "editable": false,
    "id": "E0vqbgi9ay0H"
   },
   "source": [
    "# Яндекс Музыка"
   ]
  },
  {
   "cell_type": "markdown",
   "metadata": {
    "deletable": false,
    "editable": false,
    "id": "VUC88oWjTJw2"
   },
   "source": [
    "Сравнение Москвы и Петербурга окружено мифами. Например:\n",
    " * Москва — мегаполис, подчинённый жёсткому ритму рабочей недели;\n",
    " * Петербург — культурная столица, со своими вкусами.\n",
    "\n",
    "На данных Яндекс Музыки вы сравните поведение пользователей двух столиц.\n",
    "\n",
    "**Цель исследования** — проверьте три гипотезы:\n",
    "1. Активность пользователей зависит от дня недели. Причём в Москве и Петербурге это проявляется по-разному.\n",
    "2. В понедельник утром в Москве преобладают одни жанры, а в Петербурге — другие. Так же и вечером пятницы преобладают разные жанры — в зависимости от города. \n",
    "3. Москва и Петербург предпочитают разные жанры музыки. В Москве чаще слушают поп-музыку, в Петербурге — русский рэп.\n",
    "\n",
    "**Ход исследования**\n",
    "\n",
    "Данные о поведении пользователей вы получите из файла `yandex_music_project.csv`. О качестве данных ничего не известно. Поэтому перед проверкой гипотез понадобится обзор данных. \n",
    "\n",
    "Вы проверите данные на ошибки и оцените их влияние на исследование. Затем, на этапе предобработки вы поищете возможность исправить самые критичные ошибки данных.\n",
    " \n",
    "Таким образом, исследование пройдёт в три этапа:\n",
    " 1. Обзор данных.\n",
    " 2. Предобработка данных.\n",
    " 3. Проверка гипотез.\n",
    "\n"
   ]
  },
  {
   "cell_type": "markdown",
   "metadata": {
    "deletable": false,
    "editable": false,
    "id": "Ml1hmfXC_Zcs"
   },
   "source": [
    "## Обзор данных\n",
    "\n",
    "Составьте первое представление о данных Яндекс Музыки.\n",
    "\n",
    "\n"
   ]
  },
  {
   "cell_type": "markdown",
   "metadata": {
    "deletable": false,
    "editable": false,
    "id": "57eAOGIz_Zcs",
    "tags": [
     "start_task"
    ]
   },
   "source": [
    "**Задание 1**\n",
    "\n",
    "Основной инструмент аналитика — `pandas`. Импортируйте эту библиотеку."
   ]
  },
  {
   "cell_type": "code",
   "execution_count": 1,
   "metadata": {
    "deletable": false,
    "id": "AXN7PHPN_Zcs"
   },
   "outputs": [],
   "source": [
    "import pandas as pd# импорт библиотеки pandas"
   ]
  },
  {
   "cell_type": "markdown",
   "metadata": {
    "deletable": false,
    "editable": false,
    "id": "SG23P8tt_Zcs",
    "tags": [
     "start_task"
    ]
   },
   "source": [
    "**Задание 2**\n",
    "\n",
    "Прочитайте файл `yandex_music_project.csv` из папки `/datasets` и сохраните его в переменной `df`:"
   ]
  },
  {
   "cell_type": "code",
   "execution_count": 2,
   "metadata": {
    "deletable": false,
    "id": "fFVu7vqh_Zct"
   },
   "outputs": [],
   "source": [
    "df = pd.read_csv('/datasets/yandex_music_project.csv')# чтение файла с данными и сохранение в df"
   ]
  },
  {
   "cell_type": "markdown",
   "metadata": {
    "deletable": false,
    "editable": false,
    "id": "rDoOMd3uTqnZ",
    "tags": [
     "start_task"
    ]
   },
   "source": [
    "**Задание 3**\n",
    "\n",
    "\n",
    "Выведите на экран первые десять строк таблицы:"
   ]
  },
  {
   "cell_type": "code",
   "execution_count": 3,
   "metadata": {
    "deletable": false,
    "id": "oWTVX3gW_Zct"
   },
   "outputs": [
    {
     "data": {
      "text/html": [
       "<div>\n",
       "<style scoped>\n",
       "    .dataframe tbody tr th:only-of-type {\n",
       "        vertical-align: middle;\n",
       "    }\n",
       "\n",
       "    .dataframe tbody tr th {\n",
       "        vertical-align: top;\n",
       "    }\n",
       "\n",
       "    .dataframe thead th {\n",
       "        text-align: right;\n",
       "    }\n",
       "</style>\n",
       "<table border=\"1\" class=\"dataframe\">\n",
       "  <thead>\n",
       "    <tr style=\"text-align: right;\">\n",
       "      <th></th>\n",
       "      <th>userID</th>\n",
       "      <th>Track</th>\n",
       "      <th>artist</th>\n",
       "      <th>genre</th>\n",
       "      <th>City</th>\n",
       "      <th>time</th>\n",
       "      <th>Day</th>\n",
       "    </tr>\n",
       "  </thead>\n",
       "  <tbody>\n",
       "    <tr>\n",
       "      <th>0</th>\n",
       "      <td>FFB692EC</td>\n",
       "      <td>Kamigata To Boots</td>\n",
       "      <td>The Mass Missile</td>\n",
       "      <td>rock</td>\n",
       "      <td>Saint-Petersburg</td>\n",
       "      <td>20:28:33</td>\n",
       "      <td>Wednesday</td>\n",
       "    </tr>\n",
       "    <tr>\n",
       "      <th>1</th>\n",
       "      <td>55204538</td>\n",
       "      <td>Delayed Because of Accident</td>\n",
       "      <td>Andreas Rönnberg</td>\n",
       "      <td>rock</td>\n",
       "      <td>Moscow</td>\n",
       "      <td>14:07:09</td>\n",
       "      <td>Friday</td>\n",
       "    </tr>\n",
       "    <tr>\n",
       "      <th>2</th>\n",
       "      <td>20EC38</td>\n",
       "      <td>Funiculì funiculà</td>\n",
       "      <td>Mario Lanza</td>\n",
       "      <td>pop</td>\n",
       "      <td>Saint-Petersburg</td>\n",
       "      <td>20:58:07</td>\n",
       "      <td>Wednesday</td>\n",
       "    </tr>\n",
       "    <tr>\n",
       "      <th>3</th>\n",
       "      <td>A3DD03C9</td>\n",
       "      <td>Dragons in the Sunset</td>\n",
       "      <td>Fire + Ice</td>\n",
       "      <td>folk</td>\n",
       "      <td>Saint-Petersburg</td>\n",
       "      <td>08:37:09</td>\n",
       "      <td>Monday</td>\n",
       "    </tr>\n",
       "    <tr>\n",
       "      <th>4</th>\n",
       "      <td>E2DC1FAE</td>\n",
       "      <td>Soul People</td>\n",
       "      <td>Space Echo</td>\n",
       "      <td>dance</td>\n",
       "      <td>Moscow</td>\n",
       "      <td>08:34:34</td>\n",
       "      <td>Monday</td>\n",
       "    </tr>\n",
       "    <tr>\n",
       "      <th>5</th>\n",
       "      <td>842029A1</td>\n",
       "      <td>Преданная</td>\n",
       "      <td>IMPERVTOR</td>\n",
       "      <td>rusrap</td>\n",
       "      <td>Saint-Petersburg</td>\n",
       "      <td>13:09:41</td>\n",
       "      <td>Friday</td>\n",
       "    </tr>\n",
       "    <tr>\n",
       "      <th>6</th>\n",
       "      <td>4CB90AA5</td>\n",
       "      <td>True</td>\n",
       "      <td>Roman Messer</td>\n",
       "      <td>dance</td>\n",
       "      <td>Moscow</td>\n",
       "      <td>13:00:07</td>\n",
       "      <td>Wednesday</td>\n",
       "    </tr>\n",
       "    <tr>\n",
       "      <th>7</th>\n",
       "      <td>F03E1C1F</td>\n",
       "      <td>Feeling This Way</td>\n",
       "      <td>Polina Griffith</td>\n",
       "      <td>dance</td>\n",
       "      <td>Moscow</td>\n",
       "      <td>20:47:49</td>\n",
       "      <td>Wednesday</td>\n",
       "    </tr>\n",
       "    <tr>\n",
       "      <th>8</th>\n",
       "      <td>8FA1D3BE</td>\n",
       "      <td>И вновь продолжается бой</td>\n",
       "      <td>NaN</td>\n",
       "      <td>ruspop</td>\n",
       "      <td>Moscow</td>\n",
       "      <td>09:17:40</td>\n",
       "      <td>Friday</td>\n",
       "    </tr>\n",
       "    <tr>\n",
       "      <th>9</th>\n",
       "      <td>E772D5C0</td>\n",
       "      <td>Pessimist</td>\n",
       "      <td>NaN</td>\n",
       "      <td>dance</td>\n",
       "      <td>Saint-Petersburg</td>\n",
       "      <td>21:20:49</td>\n",
       "      <td>Wednesday</td>\n",
       "    </tr>\n",
       "  </tbody>\n",
       "</table>\n",
       "</div>"
      ],
      "text/plain": [
       "     userID                        Track            artist   genre  \\\n",
       "0  FFB692EC            Kamigata To Boots  The Mass Missile    rock   \n",
       "1  55204538  Delayed Because of Accident  Andreas Rönnberg    rock   \n",
       "2    20EC38            Funiculì funiculà       Mario Lanza     pop   \n",
       "3  A3DD03C9        Dragons in the Sunset        Fire + Ice    folk   \n",
       "4  E2DC1FAE                  Soul People        Space Echo   dance   \n",
       "5  842029A1                    Преданная         IMPERVTOR  rusrap   \n",
       "6  4CB90AA5                         True      Roman Messer   dance   \n",
       "7  F03E1C1F             Feeling This Way   Polina Griffith   dance   \n",
       "8  8FA1D3BE     И вновь продолжается бой               NaN  ruspop   \n",
       "9  E772D5C0                    Pessimist               NaN   dance   \n",
       "\n",
       "             City        time        Day  \n",
       "0  Saint-Petersburg  20:28:33  Wednesday  \n",
       "1            Moscow  14:07:09     Friday  \n",
       "2  Saint-Petersburg  20:58:07  Wednesday  \n",
       "3  Saint-Petersburg  08:37:09     Monday  \n",
       "4            Moscow  08:34:34     Monday  \n",
       "5  Saint-Petersburg  13:09:41     Friday  \n",
       "6            Moscow  13:00:07  Wednesday  \n",
       "7            Moscow  20:47:49  Wednesday  \n",
       "8            Moscow  09:17:40     Friday  \n",
       "9  Saint-Petersburg  21:20:49  Wednesday  "
      ]
     },
     "execution_count": 3,
     "metadata": {},
     "output_type": "execute_result"
    }
   ],
   "source": [
    "df.head(10)# получение первых 10 строк таблицы df"
   ]
  },
  {
   "cell_type": "markdown",
   "metadata": {
    "deletable": false,
    "editable": false,
    "id": "EO73Kwic_Zct",
    "tags": [
     "start_task"
    ]
   },
   "source": [
    "**Задание 4**\n",
    "\n",
    "\n",
    "Одной командой получить общую информацию о таблице c помощью метода `info()`:"
   ]
  },
  {
   "cell_type": "code",
   "execution_count": 4,
   "metadata": {
    "deletable": false,
    "id": "DSf2kIb-_Zct"
   },
   "outputs": [
    {
     "name": "stdout",
     "output_type": "stream",
     "text": [
      "<class 'pandas.core.frame.DataFrame'>\n",
      "RangeIndex: 65079 entries, 0 to 65078\n",
      "Data columns (total 7 columns):\n",
      " #   Column    Non-Null Count  Dtype \n",
      "---  ------    --------------  ----- \n",
      " 0     userID  65079 non-null  object\n",
      " 1   Track     63848 non-null  object\n",
      " 2   artist    57876 non-null  object\n",
      " 3   genre     63881 non-null  object\n",
      " 4     City    65079 non-null  object\n",
      " 5   time      65079 non-null  object\n",
      " 6   Day       65079 non-null  object\n",
      "dtypes: object(7)\n",
      "memory usage: 3.5+ MB\n"
     ]
    }
   ],
   "source": [
    "df.info()# получение общей информации о данных в таблице df"
   ]
  },
  {
   "cell_type": "markdown",
   "metadata": {
    "deletable": false,
    "editable": false,
    "id": "TaQ2Iwbr_Zct"
   },
   "source": [
    "Итак, в таблице семь столбцов. Тип данных во всех столбцах — `object`.\n",
    "\n",
    "Согласно документации к данным:\n",
    "* `userID` — идентификатор пользователя;\n",
    "* `Track` — название трека;  \n",
    "* `artist` — имя исполнителя;\n",
    "* `genre` — название жанра;\n",
    "* `City` — город пользователя;\n",
    "* `time` — время начала прослушивания;\n",
    "* `Day` — день недели.\n",
    "\n",
    "Количество значений в столбцах различается. Значит, в данных есть пропущенные значения."
   ]
  },
  {
   "cell_type": "markdown",
   "metadata": {
    "deletable": false,
    "editable": false,
    "id": "rAfziTBDmf2h",
    "tags": [
     "start_task"
    ]
   },
   "source": [
    "**Задание 5**\n",
    "\n",
    "**Вопрос со свободной формой ответа**\n",
    "\n",
    "В названиях колонок видны нарушения стиля:\n",
    "* Строчные буквы сочетаются с прописными.\n",
    "* Встречаются пробелы.\n",
    "\n",
    "Какое третье нарушение?"
   ]
  },
  {
   "cell_type": "code",
   "execution_count": 5,
   "metadata": {
    "id": "jD8EXEIvmf2h"
   },
   "outputs": [],
   "source": [
    "# Напишите ваш ответ здесь комментарием. Не удаляйте символ #. Не меняйте тип этой ячейки на Markdown.Ещё одна проблема — в названиях столбцов нет нижних подчёркиваний. Такие названия не соответствуют «змеиному_регистру»."
   ]
  },
  {
   "cell_type": "markdown",
   "metadata": {
    "deletable": false,
    "editable": false,
    "id": "MCB6-dXG_Zct"
   },
   "source": [
    "**Выводы**\n",
    "\n",
    "В каждой строке таблицы — данные о прослушанном треке. Часть колонок описывает саму композицию: название, исполнителя и жанр. Остальные данные рассказывают о пользователе: из какого он города, когда он слушал музыку. \n",
    "\n",
    "Предварительно можно утверждать, что данных достаточно для проверки гипотез. Но встречаются пропуски в данных, а в названиях колонок — расхождения с хорошим стилем.\n",
    "\n",
    "Чтобы двигаться дальше, нужно устранить проблемы в данных."
   ]
  },
  {
   "cell_type": "markdown",
   "metadata": {
    "deletable": false,
    "editable": false,
    "id": "SjYF6Ub9_Zct"
   },
   "source": [
    "## Предобработка данных\n",
    "Исправьте стиль в заголовках столбцов, исключите пропуски. Затем проверьте данные на дубликаты."
   ]
  },
  {
   "cell_type": "markdown",
   "metadata": {
    "deletable": false,
    "editable": false,
    "id": "dIaKXr29_Zct",
    "tags": [
     "start_task"
    ]
   },
   "source": [
    "### Стиль заголовков\n",
    "\n",
    "**Задание 6**\n",
    "\n",
    "Выведите на экран названия столбцов:"
   ]
  },
  {
   "cell_type": "code",
   "execution_count": 6,
   "metadata": {
    "deletable": false,
    "id": "oKOTdF_Q_Zct"
   },
   "outputs": [
    {
     "name": "stdout",
     "output_type": "stream",
     "text": [
      "Index(['  userID', 'Track', 'artist', 'genre', '  City  ', 'time', 'Day'], dtype='object')\n"
     ]
    }
   ],
   "source": [
    "print(df.columns)# перечень названий столбцов таблицы df"
   ]
  },
  {
   "cell_type": "markdown",
   "metadata": {
    "deletable": false,
    "editable": false,
    "id": "zj5534cv_Zct",
    "tags": [
     "start_task"
    ]
   },
   "source": [
    "**Задание 7**\n",
    "\n",
    "\n",
    "Приведите названия в соответствие с хорошим стилем:\n",
    "* несколько слов в названии запишите в «змеином_регистре»,\n",
    "* все символы сделайте строчными,\n",
    "* устраните пробелы.\n",
    "\n",
    "Для этого переименуйте колонки так:\n",
    "* `'  userID'` → `'user_id'`;\n",
    "* `'Track'` → `'track'`;\n",
    "* `'  City  '` → `'city'`;\n",
    "* `'Day'` → `'day'`."
   ]
  },
  {
   "cell_type": "code",
   "execution_count": 7,
   "metadata": {
    "deletable": false,
    "id": "ISlFqs5y_Zct"
   },
   "outputs": [],
   "source": [
    "df = df.rename(columns = {'  userID' : 'user_id','Track' : 'track','  City  ':'city','Day':'day'})   # переименование столбцов"
   ]
  },
  {
   "cell_type": "markdown",
   "metadata": {
    "deletable": false,
    "editable": false,
    "id": "1dqbh00J_Zct",
    "tags": [
     "start_task"
    ]
   },
   "source": [
    "**Задание 8**\n",
    "\n",
    "\n",
    "Проверьте результат. Для этого ещё раз выведите на экран названия столбцов:"
   ]
  },
  {
   "cell_type": "code",
   "execution_count": 8,
   "metadata": {
    "deletable": false,
    "id": "d4NOAmTW_Zct"
   },
   "outputs": [
    {
     "name": "stdout",
     "output_type": "stream",
     "text": [
      "Index(['user_id', 'track', 'artist', 'genre', 'city', 'time', 'day'], dtype='object')\n"
     ]
    }
   ],
   "source": [
    "print(df.columns)# проверка результатов - перечень названий столбцов"
   ]
  },
  {
   "cell_type": "markdown",
   "metadata": {
    "deletable": false,
    "editable": false,
    "id": "5ISfbcfY_Zct",
    "tags": [
     "start_task"
    ]
   },
   "source": [
    "### Пропуски значений\n",
    "\n",
    "**Задание 9**\n",
    "\n",
    "Сначала посчитайте, сколько в таблице пропущенных значений. Для этого достаточно двух методов `pandas`:"
   ]
  },
  {
   "cell_type": "code",
   "execution_count": 9,
   "metadata": {
    "deletable": false,
    "id": "RskX29qr_Zct"
   },
   "outputs": [
    {
     "data": {
      "text/plain": [
       "user_id       0\n",
       "track      1231\n",
       "artist     7203\n",
       "genre      1198\n",
       "city          0\n",
       "time          0\n",
       "day           0\n",
       "dtype: int64"
      ]
     },
     "execution_count": 9,
     "metadata": {},
     "output_type": "execute_result"
    }
   ],
   "source": [
    "df.isna().sum()# подсчёт пропусков"
   ]
  },
  {
   "cell_type": "markdown",
   "metadata": {
    "deletable": false,
    "editable": false,
    "id": "qubhgnlO_Zct"
   },
   "source": [
    "Не все пропущенные значения влияют на исследование. Так в `track` и `artist` пропуски не важны для вашей работы. Достаточно заменить их явными обозначениями.\n",
    "\n",
    "Но пропуски в `genre` могут помешать сравнению музыкальных вкусов в Москве и Санкт-Петербурге. На практике было бы правильно установить причину пропусков и восстановить данные. Такой возможности нет в учебном проекте. Придётся:\n",
    "* заполнить и эти пропуски явными обозначениями;\n",
    "* оценить, насколько они повредят расчётам. "
   ]
  },
  {
   "cell_type": "markdown",
   "metadata": {
    "deletable": false,
    "editable": false,
    "id": "fSv2laPA_Zct",
    "tags": [
     "start_task"
    ]
   },
   "source": [
    "**Задание 10**\n",
    "\n",
    "Замените пропущенные значения в столбцах `track`, `artist` и `genre` на строку `'unknown'`. Для этого создайте список `columns_to_replace`, переберите его элементы циклом `for` и для каждого столбца выполните замену пропущенных значений:"
   ]
  },
  {
   "cell_type": "code",
   "execution_count": 10,
   "metadata": {
    "deletable": false,
    "id": "KplB5qWs_Zct"
   },
   "outputs": [],
   "source": [
    "columns_to_replace = [['track'],['artist'], ['genre']]\n",
    "for column in columns_to_replace:\n",
    "    df[column] = df[column].fillna('unknown')# перебор названий столбцов в цикле и замена пропущенных значений на 'unknown'"
   ]
  },
  {
   "cell_type": "markdown",
   "metadata": {
    "deletable": false,
    "editable": false,
    "id": "Ilsm-MZo_Zct",
    "tags": [
     "start_task"
    ]
   },
   "source": [
    "**Задание 11**\n",
    "\n",
    "Убедитесь, что в таблице не осталось пропусков. Для этого ещё раз посчитайте пропущенные значения."
   ]
  },
  {
   "cell_type": "code",
   "execution_count": 11,
   "metadata": {
    "deletable": false,
    "id": "Tq4nYRX4_Zct"
   },
   "outputs": [
    {
     "data": {
      "text/plain": [
       "user_id    0\n",
       "track      0\n",
       "artist     0\n",
       "genre      0\n",
       "city       0\n",
       "time       0\n",
       "day        0\n",
       "dtype: int64"
      ]
     },
     "execution_count": 11,
     "metadata": {},
     "output_type": "execute_result"
    }
   ],
   "source": [
    "df.isna().sum()# подсчёт пропусков"
   ]
  },
  {
   "cell_type": "markdown",
   "metadata": {
    "deletable": false,
    "editable": false,
    "id": "BWKRtBJ3_Zct",
    "tags": [
     "start_task"
    ]
   },
   "source": [
    "### Дубликаты\n",
    "\n",
    "**Задание 12**\n",
    "\n",
    "Посчитайте явные дубликаты в таблице одной командой:"
   ]
  },
  {
   "cell_type": "code",
   "execution_count": 12,
   "metadata": {
    "deletable": false,
    "id": "36eES_S0_Zct"
   },
   "outputs": [
    {
     "data": {
      "text/plain": [
       "3826"
      ]
     },
     "execution_count": 12,
     "metadata": {},
     "output_type": "execute_result"
    }
   ],
   "source": [
    "df.duplicated().sum()# подсчёт явных дубликатов"
   ]
  },
  {
   "cell_type": "markdown",
   "metadata": {
    "deletable": false,
    "editable": false,
    "id": "Ot25h6XR_Zct",
    "tags": [
     "start_task"
    ]
   },
   "source": [
    "**Задание 13**\n",
    "\n",
    "Вызовите специальный метод `pandas`, чтобы удалить явные дубликаты:"
   ]
  },
  {
   "cell_type": "code",
   "execution_count": 13,
   "metadata": {
    "deletable": false,
    "id": "exFHq6tt_Zct"
   },
   "outputs": [],
   "source": [
    "df = df.drop_duplicates()# удаление явных дубликатов"
   ]
  },
  {
   "cell_type": "markdown",
   "metadata": {
    "deletable": false,
    "editable": false,
    "id": "Im2YwBEG_Zct",
    "tags": [
     "start_task"
    ]
   },
   "source": [
    "**Задание 14**\n",
    "\n",
    "Ещё раз посчитайте явные дубликаты в таблице — убедитесь, что полностью от них избавились:"
   ]
  },
  {
   "cell_type": "code",
   "execution_count": 14,
   "metadata": {
    "deletable": false,
    "id": "-8PuNWQ0_Zct"
   },
   "outputs": [
    {
     "data": {
      "text/plain": [
       "0"
      ]
     },
     "execution_count": 14,
     "metadata": {},
     "output_type": "execute_result"
    }
   ],
   "source": [
    "df.duplicated().sum()# проверка на отсутствие дубликатов"
   ]
  },
  {
   "cell_type": "markdown",
   "metadata": {
    "deletable": false,
    "editable": false,
    "id": "QlFBsxAr_Zct"
   },
   "source": [
    "Теперь избавьтесь от неявных дубликатов в колонке `genre`. Например, название одного и того же жанра может быть записано немного по-разному. Такие ошибки тоже повлияют на результат исследования."
   ]
  },
  {
   "cell_type": "markdown",
   "metadata": {
    "deletable": false,
    "editable": false,
    "id": "eSjWwsOh_Zct",
    "tags": [
     "start_task"
    ]
   },
   "source": [
    "**Задание 15**\n",
    "\n",
    "Выведите на экран список уникальных названий жанров, отсортированный в алфавитном порядке. Для этого:\n",
    "1. извлеките нужный столбец датафрейма; \n",
    "2. примените к нему метод сортировки;\n",
    "3. для отсортированного столбца вызовите метод, который вернёт уникальные значения из столбца."
   ]
  },
  {
   "cell_type": "code",
   "execution_count": 15,
   "metadata": {
    "deletable": false,
    "id": "JIUcqzZN_Zct"
   },
   "outputs": [
    {
     "data": {
      "text/plain": [
       "array(['acid', 'acoustic', 'action', 'adult', 'africa', 'afrikaans',\n",
       "       'alternative', 'alternativepunk', 'ambient', 'americana',\n",
       "       'animated', 'anime', 'arabesk', 'arabic', 'arena',\n",
       "       'argentinetango', 'art', 'audiobook', 'author', 'avantgarde',\n",
       "       'axé', 'baile', 'balkan', 'beats', 'bigroom', 'black', 'bluegrass',\n",
       "       'blues', 'bollywood', 'bossa', 'brazilian', 'breakbeat', 'breaks',\n",
       "       'broadway', 'cantautori', 'cantopop', 'canzone', 'caribbean',\n",
       "       'caucasian', 'celtic', 'chamber', 'chanson', 'children', 'chill',\n",
       "       'chinese', 'choral', 'christian', 'christmas', 'classical',\n",
       "       'classicmetal', 'club', 'colombian', 'comedy', 'conjazz',\n",
       "       'contemporary', 'country', 'cuban', 'dance', 'dancehall',\n",
       "       'dancepop', 'dark', 'death', 'deep', 'deutschrock', 'deutschspr',\n",
       "       'dirty', 'disco', 'dnb', 'documentary', 'downbeat', 'downtempo',\n",
       "       'drum', 'dub', 'dubstep', 'eastern', 'easy', 'electronic',\n",
       "       'electropop', 'emo', 'entehno', 'epicmetal', 'estrada', 'ethnic',\n",
       "       'eurofolk', 'european', 'experimental', 'extrememetal', 'fado',\n",
       "       'fairytail', 'film', 'fitness', 'flamenco', 'folk', 'folklore',\n",
       "       'folkmetal', 'folkrock', 'folktronica', 'forró', 'frankreich',\n",
       "       'französisch', 'french', 'funk', 'future', 'gangsta', 'garage',\n",
       "       'german', 'ghazal', 'gitarre', 'glitch', 'gospel', 'gothic',\n",
       "       'grime', 'grunge', 'gypsy', 'handsup', \"hard'n'heavy\", 'hardcore',\n",
       "       'hardstyle', 'hardtechno', 'hip', 'hip-hop', 'hiphop',\n",
       "       'historisch', 'holiday', 'hop', 'horror', 'house', 'hymn', 'idm',\n",
       "       'independent', 'indian', 'indie', 'indipop', 'industrial',\n",
       "       'inspirational', 'instrumental', 'international', 'irish', 'jam',\n",
       "       'japanese', 'jazz', 'jewish', 'jpop', 'jungle', 'k-pop',\n",
       "       'karadeniz', 'karaoke', 'kayokyoku', 'korean', 'laiko', 'latin',\n",
       "       'latino', 'leftfield', 'local', 'lounge', 'loungeelectronic',\n",
       "       'lovers', 'malaysian', 'mandopop', 'marschmusik', 'meditative',\n",
       "       'mediterranean', 'melodic', 'metal', 'metalcore', 'mexican',\n",
       "       'middle', 'minimal', 'miscellaneous', 'modern', 'mood', 'mpb',\n",
       "       'muslim', 'native', 'neoklassik', 'neue', 'new', 'newage',\n",
       "       'newwave', 'nu', 'nujazz', 'numetal', 'oceania', 'old', 'opera',\n",
       "       'orchestral', 'other', 'piano', 'podcasts', 'pop', 'popdance',\n",
       "       'popelectronic', 'popeurodance', 'poprussian', 'post',\n",
       "       'posthardcore', 'postrock', 'power', 'progmetal', 'progressive',\n",
       "       'psychedelic', 'punjabi', 'punk', 'quebecois', 'ragga', 'ram',\n",
       "       'rancheras', 'rap', 'rave', 'reggae', 'reggaeton', 'regional',\n",
       "       'relax', 'religious', 'retro', 'rhythm', 'rnb', 'rnr', 'rock',\n",
       "       'rockabilly', 'rockalternative', 'rockindie', 'rockother',\n",
       "       'romance', 'roots', 'ruspop', 'rusrap', 'rusrock', 'russian',\n",
       "       'salsa', 'samba', 'scenic', 'schlager', 'self', 'sertanejo',\n",
       "       'shanson', 'shoegazing', 'showtunes', 'singer', 'ska', 'skarock',\n",
       "       'slow', 'smooth', 'soft', 'soul', 'soulful', 'sound', 'soundtrack',\n",
       "       'southern', 'specialty', 'speech', 'spiritual', 'sport',\n",
       "       'stonerrock', 'surf', 'swing', 'synthpop', 'synthrock',\n",
       "       'sängerportrait', 'tango', 'tanzorchester', 'taraftar', 'tatar',\n",
       "       'tech', 'techno', 'teen', 'thrash', 'top', 'traditional',\n",
       "       'tradjazz', 'trance', 'tribal', 'trip', 'triphop', 'tropical',\n",
       "       'türk', 'türkçe', 'ukrrock', 'unknown', 'urban', 'uzbek',\n",
       "       'variété', 'vi', 'videogame', 'vocal', 'western', 'world',\n",
       "       'worldbeat', 'ïîï', 'электроника'], dtype=object)"
      ]
     },
     "execution_count": 15,
     "metadata": {},
     "output_type": "execute_result"
    }
   ],
   "source": [
    "df['genre'].sort_values().unique()# Просмотр уникальных названий жанров"
   ]
  },
  {
   "cell_type": "markdown",
   "metadata": {
    "deletable": false,
    "editable": false,
    "id": "qej-Qmuo_Zct",
    "tags": [
     "start_task"
    ]
   },
   "source": [
    "**Задание 16**\n",
    "\n",
    "Просмотрите список и найдите неявные дубликаты названия `hiphop`. Это могут быть названия с ошибками или альтернативные названия того же жанра.\n",
    "\n",
    "Вы увидите следующие неявные дубликаты:\n",
    "* *hip*,\n",
    "* *hop*,\n",
    "* *hip-hop*.\n",
    "\n",
    "Чтобы очистить от них таблицу используйте метод `replace()` с двумя аргументами: списком строк-дубликатов (включащий *hip*, *hop* и *hip-hop*) и строкой с правильным значением. Вам нужно исправить колонку `genre` в таблице `df`: заменить каждое значение из списка дубликатов на верное. Вместо `hip`, `hop` и `hip-hop` в таблице должно быть значение `hiphop`:"
   ]
  },
  {
   "cell_type": "code",
   "execution_count": 16,
   "metadata": {
    "deletable": false,
    "id": "ErNDkmns_Zct"
   },
   "outputs": [],
   "source": [
    "duplicates = ['hip','hop','hip-hop']\n",
    "genre = 'hiphop'\n",
    "df['genre'] = df['genre'].replace(duplicates, genre) \n",
    "# Устранение неявных дубликатов"
   ]
  },
  {
   "cell_type": "markdown",
   "metadata": {
    "deletable": false,
    "editable": false,
    "id": "zQKF16_RG15m",
    "tags": [
     "start_task"
    ]
   },
   "source": [
    "**Задание 17**\n",
    "\n",
    "Проверьте, что заменили неправильные названия:\n",
    "\n",
    "*   hip,\n",
    "*   hop,\n",
    "*   hip-hop.\n",
    "\n",
    "Выведите отсортированный список уникальных значений столбца `genre`:"
   ]
  },
  {
   "cell_type": "code",
   "execution_count": 17,
   "metadata": {
    "deletable": false,
    "id": "wvixALnFG15m"
   },
   "outputs": [
    {
     "data": {
      "text/plain": [
       "array(['acid', 'acoustic', 'action', 'adult', 'africa', 'afrikaans',\n",
       "       'alternative', 'alternativepunk', 'ambient', 'americana',\n",
       "       'animated', 'anime', 'arabesk', 'arabic', 'arena',\n",
       "       'argentinetango', 'art', 'audiobook', 'author', 'avantgarde',\n",
       "       'axé', 'baile', 'balkan', 'beats', 'bigroom', 'black', 'bluegrass',\n",
       "       'blues', 'bollywood', 'bossa', 'brazilian', 'breakbeat', 'breaks',\n",
       "       'broadway', 'cantautori', 'cantopop', 'canzone', 'caribbean',\n",
       "       'caucasian', 'celtic', 'chamber', 'chanson', 'children', 'chill',\n",
       "       'chinese', 'choral', 'christian', 'christmas', 'classical',\n",
       "       'classicmetal', 'club', 'colombian', 'comedy', 'conjazz',\n",
       "       'contemporary', 'country', 'cuban', 'dance', 'dancehall',\n",
       "       'dancepop', 'dark', 'death', 'deep', 'deutschrock', 'deutschspr',\n",
       "       'dirty', 'disco', 'dnb', 'documentary', 'downbeat', 'downtempo',\n",
       "       'drum', 'dub', 'dubstep', 'eastern', 'easy', 'electronic',\n",
       "       'electropop', 'emo', 'entehno', 'epicmetal', 'estrada', 'ethnic',\n",
       "       'eurofolk', 'european', 'experimental', 'extrememetal', 'fado',\n",
       "       'fairytail', 'film', 'fitness', 'flamenco', 'folk', 'folklore',\n",
       "       'folkmetal', 'folkrock', 'folktronica', 'forró', 'frankreich',\n",
       "       'französisch', 'french', 'funk', 'future', 'gangsta', 'garage',\n",
       "       'german', 'ghazal', 'gitarre', 'glitch', 'gospel', 'gothic',\n",
       "       'grime', 'grunge', 'gypsy', 'handsup', \"hard'n'heavy\", 'hardcore',\n",
       "       'hardstyle', 'hardtechno', 'hiphop', 'historisch', 'holiday',\n",
       "       'horror', 'house', 'hymn', 'idm', 'independent', 'indian', 'indie',\n",
       "       'indipop', 'industrial', 'inspirational', 'instrumental',\n",
       "       'international', 'irish', 'jam', 'japanese', 'jazz', 'jewish',\n",
       "       'jpop', 'jungle', 'k-pop', 'karadeniz', 'karaoke', 'kayokyoku',\n",
       "       'korean', 'laiko', 'latin', 'latino', 'leftfield', 'local',\n",
       "       'lounge', 'loungeelectronic', 'lovers', 'malaysian', 'mandopop',\n",
       "       'marschmusik', 'meditative', 'mediterranean', 'melodic', 'metal',\n",
       "       'metalcore', 'mexican', 'middle', 'minimal', 'miscellaneous',\n",
       "       'modern', 'mood', 'mpb', 'muslim', 'native', 'neoklassik', 'neue',\n",
       "       'new', 'newage', 'newwave', 'nu', 'nujazz', 'numetal', 'oceania',\n",
       "       'old', 'opera', 'orchestral', 'other', 'piano', 'podcasts', 'pop',\n",
       "       'popdance', 'popelectronic', 'popeurodance', 'poprussian', 'post',\n",
       "       'posthardcore', 'postrock', 'power', 'progmetal', 'progressive',\n",
       "       'psychedelic', 'punjabi', 'punk', 'quebecois', 'ragga', 'ram',\n",
       "       'rancheras', 'rap', 'rave', 'reggae', 'reggaeton', 'regional',\n",
       "       'relax', 'religious', 'retro', 'rhythm', 'rnb', 'rnr', 'rock',\n",
       "       'rockabilly', 'rockalternative', 'rockindie', 'rockother',\n",
       "       'romance', 'roots', 'ruspop', 'rusrap', 'rusrock', 'russian',\n",
       "       'salsa', 'samba', 'scenic', 'schlager', 'self', 'sertanejo',\n",
       "       'shanson', 'shoegazing', 'showtunes', 'singer', 'ska', 'skarock',\n",
       "       'slow', 'smooth', 'soft', 'soul', 'soulful', 'sound', 'soundtrack',\n",
       "       'southern', 'specialty', 'speech', 'spiritual', 'sport',\n",
       "       'stonerrock', 'surf', 'swing', 'synthpop', 'synthrock',\n",
       "       'sängerportrait', 'tango', 'tanzorchester', 'taraftar', 'tatar',\n",
       "       'tech', 'techno', 'teen', 'thrash', 'top', 'traditional',\n",
       "       'tradjazz', 'trance', 'tribal', 'trip', 'triphop', 'tropical',\n",
       "       'türk', 'türkçe', 'ukrrock', 'unknown', 'urban', 'uzbek',\n",
       "       'variété', 'vi', 'videogame', 'vocal', 'western', 'world',\n",
       "       'worldbeat', 'ïîï', 'электроника'], dtype=object)"
      ]
     },
     "execution_count": 17,
     "metadata": {},
     "output_type": "execute_result"
    }
   ],
   "source": [
    "df['genre'].sort_values().unique()# Проверка на неявные дубликаты"
   ]
  },
  {
   "cell_type": "markdown",
   "metadata": {
    "deletable": false,
    "editable": false,
    "id": "jz6a9-7HQUDd"
   },
   "source": [
    "**Выводы**\n",
    "\n",
    "Предобработка обнаружила три проблемы в данных:\n",
    "\n",
    "- нарушения в стиле заголовков,\n",
    "- пропущенные значения,\n",
    "- дубликаты — явные и неявные.\n",
    "\n",
    "Вы исправили заголовки, чтобы упростить работу с таблицей. Без дубликатов исследование станет более точным.\n",
    "\n",
    "Пропущенные значения вы заменили на `'unknown'`. Ещё предстоит увидеть, не повредят ли исследованию пропуски в колонке `genre`.\n",
    "\n",
    "Теперь можно перейти к проверке гипотез. "
   ]
  },
  {
   "cell_type": "markdown",
   "metadata": {
    "deletable": false,
    "editable": false,
    "id": "WttZHXH0SqKk"
   },
   "source": [
    "## Проверка гипотез"
   ]
  },
  {
   "cell_type": "markdown",
   "metadata": {
    "deletable": false,
    "editable": false,
    "id": "Im936VVi_Zcu"
   },
   "source": [
    "### Сравнение поведения пользователей двух столиц"
   ]
  },
  {
   "cell_type": "markdown",
   "metadata": {
    "deletable": false,
    "editable": false,
    "id": "nwt_MuaL_Zcu"
   },
   "source": [
    "Первая гипотеза утверждает, что пользователи по-разному слушают музыку в Москве и Санкт-Петербурге. Проверьте это предположение по данным о трёх днях недели — понедельнике, среде и пятнице. Для этого:\n",
    "\n",
    "* Разделите пользователей Москвы и Санкт-Петербурга.\n",
    "* Сравните, сколько треков послушала каждая группа пользователей в понедельник, среду и пятницу.\n"
   ]
  },
  {
   "cell_type": "markdown",
   "metadata": {
    "deletable": false,
    "editable": false,
    "id": "8Dw_YMmT_Zcu",
    "tags": [
     "start_task"
    ]
   },
   "source": [
    "**Задание 18**\n",
    "\n",
    "Для тренировки сначала выполните каждый из расчётов по отдельности. \n",
    "\n",
    "Оцените активность пользователей в каждом городе. Сгруппируйте данные по городу и посчитайте прослушивания в каждой группе.\n",
    "\n"
   ]
  },
  {
   "cell_type": "code",
   "execution_count": 18,
   "metadata": {
    "deletable": false,
    "id": "0_Qs96oh_Zcu"
   },
   "outputs": [
    {
     "data": {
      "text/plain": [
       "city\n",
       "Moscow              42741\n",
       "Saint-Petersburg    18512\n",
       "Name: genre, dtype: int64"
      ]
     },
     "execution_count": 18,
     "metadata": {},
     "output_type": "execute_result"
    }
   ],
   "source": [
    "df.groupby('city')['genre'].count()   "
   ]
  },
  {
   "cell_type": "markdown",
   "metadata": {
    "deletable": false,
    "editable": false,
    "id": "dzli3w8o_Zcu",
    "tags": [
     "start_task"
    ]
   },
   "source": [
    "В Москве прослушиваний больше, чем в Петербурге. Из этого не следует, что московские пользователи чаще слушают музыку. Просто самих пользователей в Москве больше.\n",
    "\n",
    "**Задание 19**\n",
    "\n",
    "Теперь сгруппируйте данные по дню недели и посчитайте прослушивания в понедельник, среду и пятницу. Учтите, что в данных есть информация о прослушиваниях только за эти дни.\n"
   ]
  },
  {
   "cell_type": "code",
   "execution_count": 19,
   "metadata": {
    "deletable": false,
    "id": "uZMKjiJz_Zcu"
   },
   "outputs": [
    {
     "data": {
      "text/plain": [
       "day\n",
       "Friday       21840\n",
       "Monday       21354\n",
       "Wednesday    18059\n",
       "Name: genre, dtype: int64"
      ]
     },
     "execution_count": 19,
     "metadata": {},
     "output_type": "execute_result"
    }
   ],
   "source": [
    "df.groupby('day')['genre'].count() # Подсчёт прослушиваний в каждый из трёх дней"
   ]
  },
  {
   "cell_type": "markdown",
   "metadata": {
    "deletable": false,
    "editable": false,
    "id": "cC2tNrlL_Zcu"
   },
   "source": [
    "В среднем пользователи из двух городов менее активны по средам. Но картина может измениться, если рассмотреть каждый город в отдельности."
   ]
  },
  {
   "cell_type": "markdown",
   "metadata": {
    "deletable": false,
    "editable": false,
    "id": "POzs8bGa_Zcu",
    "tags": [
     "start_task"
    ]
   },
   "source": [
    "**Задание 20**\n",
    "\n",
    "\n",
    "Вы видели, как работает группировка по городу и по дням недели. Теперь напишите функцию, которая объединит два эти расчёта.\n",
    "\n",
    "Создайте функцию `number_tracks()`, которая посчитает прослушивания для заданного дня и города. Ей понадобятся два параметра:\n",
    "* день недели,\n",
    "* название города.\n",
    "\n",
    "В функции сохраните в переменную строки исходной таблицы, у которых значение:\n",
    "  * в колонке `day` равно параметру `day`,\n",
    "  * в колонке `city` равно параметру `city`.\n",
    "\n",
    "Для этого примените последовательную фильтрацию с логической индексацией (или сложные логические выражения в одну строку, если вы уже знакомы с ними).\n",
    "\n",
    "Затем посчитайте значения в столбце `user_id` получившейся таблицы. Результат сохраните в новую переменную. Верните эту переменную из функции."
   ]
  },
  {
   "cell_type": "code",
   "execution_count": 20,
   "metadata": {
    "deletable": false,
    "id": "Nz3GdQB1_Zcu"
   },
   "outputs": [],
   "source": [
    "def number_tracks(day,city):\n",
    "    track_list = df[df['day'] == day]\n",
    "    track_list = track_list[track_list['city'] == city]\n",
    "    track_list_count = track_list['user_id'].count()\n",
    "    return track_list_count \n",
    "    # <создание функции number_tracks()>\n",
    "# Объявляется функция с двумя параметрами: day, city.\n",
    "# В переменной track_list сохраняются те строки таблицы df, для которых \n",
    "# значение в столбце 'day' равно параметру day и одновременно значение\n",
    "# в столбце 'city' равно параметру city (используйте последовательную фильтрацию\n",
    "# с помощью логической индексации или сложные логические выражения в одну строку, если вы уже знакомы с ними).\n",
    "# В переменной track_list_count сохраняется число значений столбца 'user_id',\n",
    "# рассчитанное методом count() для таблицы track_list.\n",
    "# Функция возвращает число - значение track_list_count.\n",
    "\n",
    "# Функция для подсчёта прослушиваний для конкретного города и дня.\n",
    "# С помощью последовательной фильтрации с логической индексацией она \n",
    "# сначала получит из исходной таблицы строки с нужным днём,\n",
    "# затем из результата отфильтрует строки с нужным городом,\n",
    "# методом count() посчитает количество значений в колонке user_id. \n",
    "# Это количество функция вернёт в качестве результата"
   ]
  },
  {
   "cell_type": "markdown",
   "metadata": {
    "deletable": false,
    "editable": false,
    "id": "ytf7xFrFJQ2r",
    "tags": [
     "start_task"
    ]
   },
   "source": [
    "**Задание 21**\n",
    "\n",
    "Вызовите `number_tracks()` шесть раз, меняя значение параметров — так, чтобы получить данные для каждого города в каждый из трёх дней."
   ]
  },
  {
   "cell_type": "code",
   "execution_count": 21,
   "metadata": {
    "deletable": false,
    "id": "rJcRATNQ_Zcu"
   },
   "outputs": [
    {
     "data": {
      "text/plain": [
       "15740"
      ]
     },
     "execution_count": 21,
     "metadata": {},
     "output_type": "execute_result"
    }
   ],
   "source": [
    "number_tracks('Monday', 'Moscow')# количество прослушиваний в Москве по понедельникам"
   ]
  },
  {
   "cell_type": "code",
   "execution_count": 22,
   "metadata": {
    "deletable": false,
    "id": "hq_ncZ5T_Zcu"
   },
   "outputs": [
    {
     "data": {
      "text/plain": [
       "5614"
      ]
     },
     "execution_count": 22,
     "metadata": {},
     "output_type": "execute_result"
    }
   ],
   "source": [
    "number_tracks('Monday', 'Saint-Petersburg')# количество прослушиваний в Санкт-Петербурге по понедельникам"
   ]
  },
  {
   "cell_type": "code",
   "execution_count": 23,
   "metadata": {
    "deletable": false,
    "id": "_NTy2VPU_Zcu"
   },
   "outputs": [
    {
     "data": {
      "text/plain": [
       "11056"
      ]
     },
     "execution_count": 23,
     "metadata": {},
     "output_type": "execute_result"
    }
   ],
   "source": [
    "number_tracks('Wednesday', 'Moscow')# количество прослушиваний в Москве по средам"
   ]
  },
  {
   "cell_type": "code",
   "execution_count": 24,
   "metadata": {
    "deletable": false,
    "id": "j2y3TAwo_Zcu"
   },
   "outputs": [
    {
     "data": {
      "text/plain": [
       "7003"
      ]
     },
     "execution_count": 24,
     "metadata": {},
     "output_type": "execute_result"
    }
   ],
   "source": [
    "number_tracks('Wednesday','Saint-Petersburg')# количество прослушиваний в Санкт-Петербурге по средам"
   ]
  },
  {
   "cell_type": "code",
   "execution_count": 25,
   "metadata": {
    "deletable": false,
    "id": "vYDw5u_K_Zcu"
   },
   "outputs": [
    {
     "data": {
      "text/plain": [
       "15945"
      ]
     },
     "execution_count": 25,
     "metadata": {},
     "output_type": "execute_result"
    }
   ],
   "source": [
    "number_tracks('Friday', 'Moscow')# количество прослушиваний в Москве по пятницам"
   ]
  },
  {
   "cell_type": "code",
   "execution_count": 26,
   "metadata": {
    "deletable": false,
    "id": "8_yzFtW3_Zcu"
   },
   "outputs": [
    {
     "data": {
      "text/plain": [
       "5895"
      ]
     },
     "execution_count": 26,
     "metadata": {},
     "output_type": "execute_result"
    }
   ],
   "source": [
    "number_tracks('Friday', 'Saint-Petersburg')# количество прослушиваний в Санкт-Петербурге по пятницам"
   ]
  },
  {
   "cell_type": "markdown",
   "metadata": {
    "deletable": false,
    "editable": false,
    "id": "7QXffbO-_Zcu",
    "tags": [
     "start_task"
    ]
   },
   "source": [
    "**Задание 22**\n",
    "\n",
    "Создайте c помощью конструктора `pd.DataFrame` таблицу, где\n",
    "* названия колонок — `['city', 'monday', 'wednesday', 'friday']`;\n",
    "* данные — результаты, которые вы получили с помощью `number_tracks`."
   ]
  },
  {
   "cell_type": "code",
   "execution_count": 27,
   "metadata": {
    "deletable": false,
    "id": "APAcLpOr_Zcu"
   },
   "outputs": [
    {
     "data": {
      "text/html": [
       "<div>\n",
       "<style scoped>\n",
       "    .dataframe tbody tr th:only-of-type {\n",
       "        vertical-align: middle;\n",
       "    }\n",
       "\n",
       "    .dataframe tbody tr th {\n",
       "        vertical-align: top;\n",
       "    }\n",
       "\n",
       "    .dataframe thead th {\n",
       "        text-align: right;\n",
       "    }\n",
       "</style>\n",
       "<table border=\"1\" class=\"dataframe\">\n",
       "  <thead>\n",
       "    <tr style=\"text-align: right;\">\n",
       "      <th></th>\n",
       "      <th>city</th>\n",
       "      <th>monday</th>\n",
       "      <th>wednesday</th>\n",
       "      <th>friday</th>\n",
       "    </tr>\n",
       "  </thead>\n",
       "  <tbody>\n",
       "    <tr>\n",
       "      <th>0</th>\n",
       "      <td>Moscow</td>\n",
       "      <td>15740</td>\n",
       "      <td>11056</td>\n",
       "      <td>15945</td>\n",
       "    </tr>\n",
       "    <tr>\n",
       "      <th>1</th>\n",
       "      <td>Saint-Petersburg</td>\n",
       "      <td>5614</td>\n",
       "      <td>7003</td>\n",
       "      <td>5895</td>\n",
       "    </tr>\n",
       "  </tbody>\n",
       "</table>\n",
       "</div>"
      ],
      "text/plain": [
       "               city  monday  wednesday  friday\n",
       "0            Moscow   15740      11056   15945\n",
       "1  Saint-Petersburg    5614       7003    5895"
      ]
     },
     "execution_count": 27,
     "metadata": {},
     "output_type": "execute_result"
    }
   ],
   "source": [
    "info = pd.DataFrame(data=[['Moscow',15740,11056, 15945], ['Saint-Petersburg',5614,7003, 5895]] , columns=['city', 'monday', 'wednesday', 'friday'])\n",
    "info \n",
    " # Таблица с результатами"
   ]
  },
  {
   "cell_type": "markdown",
   "metadata": {
    "deletable": false,
    "editable": false,
    "id": "-EgPIHYu_Zcu"
   },
   "source": [
    "**Выводы**\n",
    "\n",
    "Данные показывают разницу поведения пользователей:\n",
    "\n",
    "- В Москве пик прослушиваний приходится на понедельник и пятницу, а в среду заметен спад.\n",
    "- В Петербурге, наоборот, больше слушают музыку по средам. Активность в понедельник и пятницу здесь почти в равной мере уступает среде.\n",
    "\n",
    "Значит, данные говорят в пользу первой гипотезы."
   ]
  },
  {
   "cell_type": "markdown",
   "metadata": {
    "deletable": false,
    "editable": false,
    "id": "atZAxtq4_Zcu"
   },
   "source": [
    "### Музыка в начале и в конце недели"
   ]
  },
  {
   "cell_type": "markdown",
   "metadata": {
    "deletable": false,
    "editable": false,
    "id": "eXrQqXFH_Zcu"
   },
   "source": [
    "Согласно второй гипотезе, утром в понедельник в Москве преобладают одни жанры, а в Петербурге — другие. Так же и вечером пятницы преобладают разные жанры — в зависимости от города."
   ]
  },
  {
   "cell_type": "markdown",
   "metadata": {
    "deletable": false,
    "editable": false,
    "id": "S8UcW6Hw_Zcu",
    "tags": [
     "start_task"
    ]
   },
   "source": [
    "**Задание 23**\n",
    "\n",
    "Сохраните таблицы с данными в две переменные:\n",
    "* по Москве — в `moscow_general`;\n",
    "* по Санкт-Петербургу — в `spb_general`."
   ]
  },
  {
   "cell_type": "code",
   "execution_count": 28,
   "metadata": {
    "deletable": false,
    "id": "qeaFfM_P_Zcu"
   },
   "outputs": [],
   "source": [
    "moscow_general = df[df['city'] == 'Moscow']# получение таблицы moscow_general из тех строк таблицы df, \n",
    "# для которых значение в столбце 'city' равно 'Moscow'\n"
   ]
  },
  {
   "cell_type": "code",
   "execution_count": 29,
   "metadata": {
    "deletable": false,
    "id": "ORaVRKto_Zcu"
   },
   "outputs": [],
   "source": [
    "spb_general = df[df['city'] == 'Saint-Petersburg'] # получение таблицы spb_general из тех строк таблицы df,\n",
    "# для которых значение в столбце 'city' равно 'Saint-Petersburg'\n"
   ]
  },
  {
   "cell_type": "markdown",
   "metadata": {
    "deletable": false,
    "editable": false,
    "id": "MEJV-CX2_Zcu",
    "tags": [
     "start_task"
    ]
   },
   "source": [
    "**Задание 24**\n",
    "\n",
    "Создайте функцию `genre_weekday()` с четырьмя параметрами:\n",
    "* таблица (датафрейм) с данными,\n",
    "* день недели,\n",
    "* начальная временная метка в формате 'hh:mm', \n",
    "* последняя временная метка в формате 'hh:mm'.\n",
    "\n",
    "Функция должна вернуть информацию о топ-10 жанров тех треков, которые прослушивали в указанный день, в промежутке между двумя отметками времени."
   ]
  },
  {
   "cell_type": "code",
   "execution_count": 1,
   "metadata": {
    "deletable": false,
    "id": "laJT9BYl_Zcu"
   },
   "outputs": [],
   "source": [
    " # Объявление функции genre_weekday() с параметрами table, day, time1, time2,\n",
    "# которая возвращает информацию о самых популярных жанрах в указанный день в\n",
    "# заданное время:\n",
    "# 1) в переменную genre_df сохраняются те строки переданного датафрейма table, для\n",
    "#    которых одновременно:\n",
    "#    - значение в столбце day равно значению аргумента day\n",
    "#    - значение в столбце time больше значения аргумента time1\n",
    "#    - значение в столбце time меньше значения аргумента time2\n",
    "#    Используйте последовательную фильтрацию с помощью логической индексации.\n",
    "# 2) сгруппировать датафрейм genre_df по столбцу genre, взять один из его\n",
    "#    столбцов и посчитать методом count() количество записей для каждого из\n",
    "#    присутствующих жанров, получившийся Series записать в переменную\n",
    "#    genre_df_count\n",
    "# 3) отсортировать genre_df_count по убыванию встречаемости и сохранить\n",
    "#    в переменную genre_df_sorted\n",
    "# 4) вернуть Series из 10 первых значений genre_df_sorted, это будут топ-10\n",
    "#    популярных жанров (в указанный день, в заданное время)\n",
    "\n",
    "def genre_weekday(df, day, time1, time2):\n",
    "    # последовательная фильтрация\n",
    "    # оставляем в genre_df только те строки df, у которых день равен day\n",
    "    genre_df = df[(df['day'] == day)] # ваш код здесь\n",
    "    # оставляем в genre_df только те строки genre_df, у которых время меньше time2\n",
    "    genre_df = genre_df[(genre_df['time'] < time2)] # ваш код здесь\n",
    "    # оставляем в genre_df только те строки genre_df, у которых время больше time1\n",
    "    genre_df = genre_df[(genre_df['time'] > time1)] # ваш код здесь\n",
    "    # сгруппируем отфильтрованный датафрейм по столбцу с названиями жанров, возьмём столбец genre и посчитаем кол-во строк для каждого жанра методом count()\n",
    "    genre_df_grouped = genre_df.groupby('genre')['genre'].count()# ваш код здесь\n",
    "    # отсортируем результат по убыванию (чтобы в начале Series оказались самые популярные жанры)\n",
    "    genre_df_sorted = genre_df_grouped.sort_values(ascending=False) # ваш код здесь\n",
    "    # вернём Series с 10 самыми популярными жанрами в указанный отрезок времени заданного дня\n",
    "    return genre_df_sorted[:10]"
   ]
  },
  {
   "cell_type": "markdown",
   "metadata": {
    "deletable": false,
    "editable": false,
    "id": "la2s2_PF_Zcu",
    "tags": [
     "start_task"
    ]
   },
   "source": [
    "**Задание 25**\n",
    "\n",
    "\n",
    "Cравните результаты функции `genre_weekday()` для Москвы и Санкт-Петербурга в понедельник утром (с 7:00 до 11:00) и в пятницу вечером (с 17:00 до 23:00):"
   ]
  },
  {
   "cell_type": "code",
   "execution_count": 31,
   "metadata": {
    "deletable": false,
    "id": "yz7itPUQ_Zcu"
   },
   "outputs": [
    {
     "data": {
      "text/plain": [
       "genre\n",
       "pop            781\n",
       "dance          549\n",
       "electronic     480\n",
       "rock           474\n",
       "hiphop         286\n",
       "ruspop         186\n",
       "world          181\n",
       "rusrap         175\n",
       "alternative    164\n",
       "unknown        161\n",
       "Name: genre, dtype: int64"
      ]
     },
     "execution_count": 31,
     "metadata": {},
     "output_type": "execute_result"
    }
   ],
   "source": [
    "genre_weekday(moscow_general, 'Monday', '07:00', '11:00')"
   ]
  },
  {
   "cell_type": "code",
   "execution_count": 32,
   "metadata": {
    "deletable": false,
    "id": "kwUcHPdy_Zcu"
   },
   "outputs": [
    {
     "data": {
      "text/plain": [
       "genre\n",
       "pop            218\n",
       "dance          182\n",
       "rock           162\n",
       "electronic     147\n",
       "hiphop          80\n",
       "ruspop          64\n",
       "alternative     58\n",
       "rusrap          55\n",
       "jazz            44\n",
       "classical       40\n",
       "Name: genre, dtype: int64"
      ]
     },
     "execution_count": 32,
     "metadata": {},
     "output_type": "execute_result"
    }
   ],
   "source": [
    "genre_weekday(spb_general, 'Monday', '07:00', '11:00')"
   ]
  },
  {
   "cell_type": "code",
   "execution_count": 33,
   "metadata": {
    "deletable": false,
    "id": "EzXVRE1o_Zcu"
   },
   "outputs": [
    {
     "data": {
      "text/plain": [
       "genre\n",
       "pop            713\n",
       "rock           517\n",
       "dance          495\n",
       "electronic     482\n",
       "hiphop         273\n",
       "world          208\n",
       "ruspop         170\n",
       "alternative    163\n",
       "classical      163\n",
       "rusrap         142\n",
       "Name: genre, dtype: int64"
      ]
     },
     "execution_count": 33,
     "metadata": {},
     "output_type": "execute_result"
    }
   ],
   "source": [
    "genre_weekday(moscow_general, 'Friday', '17:00', '23:00')"
   ]
  },
  {
   "cell_type": "code",
   "execution_count": 34,
   "metadata": {
    "deletable": false,
    "id": "JZaEKu5v_Zcu"
   },
   "outputs": [
    {
     "data": {
      "text/plain": [
       "genre\n",
       "pop            256\n",
       "electronic     216\n",
       "rock           216\n",
       "dance          210\n",
       "hiphop          97\n",
       "alternative     63\n",
       "jazz            61\n",
       "classical       60\n",
       "rusrap          59\n",
       "world           54\n",
       "Name: genre, dtype: int64"
      ]
     },
     "execution_count": 34,
     "metadata": {},
     "output_type": "execute_result"
    }
   ],
   "source": [
    "genre_weekday(spb_general, 'Friday', '17:00', '23:00') "
   ]
  },
  {
   "cell_type": "markdown",
   "metadata": {
    "deletable": false,
    "editable": false,
    "id": "wrCe4MNX_Zcu"
   },
   "source": [
    "**Выводы**\n",
    "\n",
    "Если сравнить топ-10 жанров в понедельник утром, можно сделать такие выводы:\n",
    "\n",
    "1. В Москве и Петербурге слушают похожую музыку. Единственное отличие — в московский рейтинг вошёл жанр “world”, а в петербургский — джаз и классика.\n",
    "\n",
    "2. В Москве пропущенных значений оказалось так много, что значение `'unknown'` заняло десятое место среди самых популярных жанров. Значит, пропущенные значения занимают существенную долю в данных и угрожают достоверности исследования.\n",
    "\n",
    "Вечер пятницы не меняет эту картину. Некоторые жанры поднимаются немного выше, другие спускаются, но в целом топ-10 остаётся тем же самым.\n",
    "\n",
    "Таким образом, вторая гипотеза подтвердилась лишь частично:\n",
    "* Пользователи слушают похожую музыку в начале недели и в конце.\n",
    "* Разница между Москвой и Петербургом не слишком выражена. В Москве чаще слушают русскую популярную музыку, в Петербурге — джаз.\n",
    "\n",
    "Однако пропуски в данных ставят под сомнение этот результат. В Москве их так много, что рейтинг топ-10 мог бы выглядеть иначе, если бы не утерянные  данные о жанрах."
   ]
  },
  {
   "cell_type": "markdown",
   "metadata": {
    "deletable": false,
    "editable": false,
    "id": "JolODAqr_Zcu"
   },
   "source": [
    "### Жанровые предпочтения в Москве и Петербурге\n",
    "\n",
    "Гипотеза: Петербург — столица рэпа, музыку этого жанра там слушают чаще, чем в Москве.  А Москва — город контрастов, в котором, тем не менее, преобладает поп-музыка."
   ]
  },
  {
   "cell_type": "markdown",
   "metadata": {
    "deletable": false,
    "editable": false,
    "id": "DlegSvaT_Zcu",
    "tags": [
     "start_task"
    ]
   },
   "source": [
    "**Задание 26**\n",
    "\n",
    "Сгруппируйте таблицу `moscow_general` по жанру и посчитайте прослушивания треков каждого жанра методом `count()`. Затем отсортируйте результат в порядке убывания и сохраните его в таблице `moscow_genres`."
   ]
  },
  {
   "cell_type": "code",
   "execution_count": 46,
   "metadata": {
    "deletable": false,
    "id": "r19lIPke_Zcu"
   },
   "outputs": [],
   "source": [
    "moscow_genres = moscow_general.groupby('genre')['city'].count().sort_values(ascending=False) # одной строкой: группировка таблицы moscow_general по столбцу 'genre', \n",
    "# подсчёт числа значений 'genre' в этой группировке методом count(), \n",
    "# сортировка получившегося Series в порядке убывания и сохранение в moscow_genres"
   ]
  },
  {
   "cell_type": "markdown",
   "metadata": {
    "deletable": false,
    "editable": false,
    "id": "6kMuomxTiIr8",
    "tags": [
     "start_task"
    ]
   },
   "source": [
    "**Задание 27**\n",
    "\n",
    "Выведите на экран первые десять строк `moscow_genres`:"
   ]
  },
  {
   "cell_type": "code",
   "execution_count": 47,
   "metadata": {
    "deletable": false,
    "id": "WhCSooF8_Zcv"
   },
   "outputs": [
    {
     "data": {
      "text/plain": [
       "genre\n",
       "pop            5892\n",
       "dance          4435\n",
       "rock           3965\n",
       "electronic     3786\n",
       "hiphop         2096\n",
       "classical      1616\n",
       "world          1432\n",
       "alternative    1379\n",
       "ruspop         1372\n",
       "rusrap         1161\n",
       "Name: city, dtype: int64"
      ]
     },
     "execution_count": 47,
     "metadata": {},
     "output_type": "execute_result"
    }
   ],
   "source": [
    "moscow_genres.head(10)# просмотр первых 10 строк moscow_genres"
   ]
  },
  {
   "cell_type": "markdown",
   "metadata": {
    "deletable": false,
    "editable": false,
    "id": "cnPG2vnN_Zcv",
    "tags": [
     "start_task"
    ]
   },
   "source": [
    "**Задание 28**\n",
    "\n",
    "\n",
    "Теперь повторите то же и для Петербурга.\n",
    "\n",
    "Сгруппируйте таблицу `spb_general` по жанру. Посчитайте прослушивания треков каждого жанра. Результат отсортируйте в порядке убывания и сохраните в таблице `spb_genres`:\n"
   ]
  },
  {
   "cell_type": "code",
   "execution_count": 43,
   "metadata": {
    "deletable": false,
    "id": "gluLIpE7_Zcv"
   },
   "outputs": [],
   "source": [
    "spb_genres = spb_general.groupby('genre')['genre'].count().sort_values(ascending=False)# одной строкой: группировка таблицы spb_general по столбцу 'genre', \n",
    "# подсчёт числа значений 'genre' в этой группировке методом count(), \n",
    "# сортировка получившегося Series в порядке убывания и сохранение в spb_genres"
   ]
  },
  {
   "cell_type": "markdown",
   "metadata": {
    "deletable": false,
    "editable": false,
    "id": "5Doha_ODgyQ8",
    "tags": [
     "start_task"
    ]
   },
   "source": [
    "**Задание 29**\n",
    "\n",
    "Выведите на экран первые десять строк `spb_genres`:"
   ]
  },
  {
   "cell_type": "code",
   "execution_count": 42,
   "metadata": {
    "deletable": false,
    "id": "uaGJHjVU_Zcv"
   },
   "outputs": [
    {
     "data": {
      "text/plain": [
       "genre\n",
       "pop            2431\n",
       "dance          1932\n",
       "rock           1879\n",
       "electronic     1736\n",
       "hiphop          960\n",
       "alternative     649\n",
       "classical       646\n",
       "rusrap          564\n",
       "ruspop          538\n",
       "world           515\n",
       "Name: genre, dtype: int64"
      ]
     },
     "execution_count": 42,
     "metadata": {},
     "output_type": "execute_result"
    }
   ],
   "source": [
    "spb_genres.head(10)# просмотр первых 10 строк spb_genres"
   ]
  },
  {
   "cell_type": "markdown",
   "metadata": {
    "deletable": false,
    "editable": false,
    "id": "RY51YJYu_Zcv"
   },
   "source": [
    "**Выводы**"
   ]
  },
  {
   "cell_type": "markdown",
   "metadata": {
    "deletable": false,
    "editable": false,
    "id": "nVhnJEm__Zcv"
   },
   "source": [
    "Гипотеза частично подтвердилась:\n",
    "* Поп-музыка — самый популярный жанр в Москве, как и предполагала гипотеза. Более того, в топ-10 жанров встречается близкий жанр — русская популярная музыка.\n",
    "* Вопреки ожиданиям, рэп одинаково популярен в Москве и Петербурге. \n"
   ]
  },
  {
   "cell_type": "markdown",
   "metadata": {
    "deletable": false,
    "editable": false,
    "id": "ykKQ0N65_Zcv"
   },
   "source": [
    "## Итоги исследования"
   ]
  },
  {
   "cell_type": "markdown",
   "metadata": {
    "deletable": false,
    "editable": false,
    "id": "tjUwbHb3_Zcv"
   },
   "source": [
    "Вы проверили три гипотезы и установили:\n",
    "\n",
    "1. День недели по-разному влияет на активность пользователей в Москве и Петербурге. \n",
    "\n",
    "Первая гипотеза полностью подтвердилась.\n",
    "\n",
    "2. Музыкальные предпочтения не сильно меняются в течение недели — будь то Москва или Петербург. Небольшие различия заметны в начале недели, по понедельникам:\n",
    "* в Москве слушают музыку жанра “world”,\n",
    "* в Петербурге — джаз и классику.\n",
    "\n",
    "Таким образом, вторая гипотеза подтвердилась лишь отчасти. Этот результат мог оказаться иным, если бы не пропуски в данных.\n",
    "\n",
    "3. Во вкусах пользователей Москвы и Петербурга больше общего чем различий. Вопреки ожиданиям, предпочтения жанров в Петербурге напоминают московские.\n",
    "\n",
    "Третья гипотеза не подтвердилась. Если различия в предпочтениях и существуют, на основной массе пользователей они незаметны.\n",
    "\n",
    "**На практике исследования содержат проверки статистических гипотез.**\n",
    "Из данных одного сервиса не всегда можно сделать вывод о всех жителях города.\n",
    "Проверки статистических гипотез покажут, насколько они достоверны, исходя из имеющихся данных. \n",
    "С методами проверок гипотез вы ещё познакомитесь в следующих темах."
   ]
  },
  {
   "cell_type": "code",
   "execution_count": null,
   "metadata": {},
   "outputs": [],
   "source": []
  }
 ],
 "metadata": {
  "ExecuteTimeLog": [
   {
    "duration": 5,
    "start_time": "2022-12-20T09:50:19.608Z"
   },
   {
    "duration": 8,
    "start_time": "2022-12-20T09:50:25.245Z"
   },
   {
    "duration": 337,
    "start_time": "2022-12-20T09:50:32.333Z"
   },
   {
    "duration": 168,
    "start_time": "2022-12-20T09:50:40.524Z"
   },
   {
    "duration": 28,
    "start_time": "2022-12-20T09:51:26.815Z"
   },
   {
    "duration": 19,
    "start_time": "2022-12-20T09:51:36.646Z"
   },
   {
    "duration": 3,
    "start_time": "2022-12-20T09:58:06.849Z"
   },
   {
    "duration": 10,
    "start_time": "2022-12-20T09:59:56.738Z"
   },
   {
    "duration": 165,
    "start_time": "2022-12-20T10:00:19.649Z"
   },
   {
    "duration": 192,
    "start_time": "2022-12-20T10:00:23.913Z"
   },
   {
    "duration": 170,
    "start_time": "2022-12-20T10:00:26.976Z"
   },
   {
    "duration": 162,
    "start_time": "2022-12-20T10:00:52.159Z"
   },
   {
    "duration": 162,
    "start_time": "2022-12-20T10:01:07.823Z"
   },
   {
    "duration": 30,
    "start_time": "2022-12-20T10:02:39.568Z"
   },
   {
    "duration": 3,
    "start_time": "2022-12-20T10:05:53.087Z"
   },
   {
    "duration": 71,
    "start_time": "2022-12-20T10:15:00.582Z"
   },
   {
    "duration": 4,
    "start_time": "2022-12-20T10:16:31.357Z"
   },
   {
    "duration": 23,
    "start_time": "2022-12-20T10:21:15.460Z"
   },
   {
    "duration": 12,
    "start_time": "2022-12-20T10:32:16.193Z"
   },
   {
    "duration": 24,
    "start_time": "2022-12-20T10:33:08.739Z"
   },
   {
    "duration": 44,
    "start_time": "2022-12-20T10:34:29.205Z"
   },
   {
    "duration": 6,
    "start_time": "2022-12-20T10:34:34.632Z"
   },
   {
    "duration": 6,
    "start_time": "2022-12-20T10:34:41.731Z"
   },
   {
    "duration": 6,
    "start_time": "2022-12-20T10:35:33.199Z"
   },
   {
    "duration": 7,
    "start_time": "2022-12-20T10:35:41.740Z"
   },
   {
    "duration": 6,
    "start_time": "2022-12-20T10:35:48.820Z"
   },
   {
    "duration": 5,
    "start_time": "2022-12-20T10:37:24.519Z"
   },
   {
    "duration": 7,
    "start_time": "2022-12-20T10:37:44.661Z"
   },
   {
    "duration": 6,
    "start_time": "2022-12-20T10:37:58.534Z"
   },
   {
    "duration": 367,
    "start_time": "2022-12-20T10:38:04.510Z"
   },
   {
    "duration": 156,
    "start_time": "2022-12-20T10:38:07.406Z"
   },
   {
    "duration": 173,
    "start_time": "2022-12-20T10:38:29.149Z"
   },
   {
    "duration": 199,
    "start_time": "2022-12-20T10:38:33.989Z"
   },
   {
    "duration": 16,
    "start_time": "2022-12-20T10:38:37.589Z"
   },
   {
    "duration": 28,
    "start_time": "2022-12-20T10:38:42.535Z"
   },
   {
    "duration": 3,
    "start_time": "2022-12-20T10:39:04.662Z"
   },
   {
    "duration": 396,
    "start_time": "2022-12-20T10:39:43.035Z"
   },
   {
    "duration": 187,
    "start_time": "2022-12-20T10:39:43.433Z"
   },
   {
    "duration": 19,
    "start_time": "2022-12-20T10:39:43.622Z"
   },
   {
    "duration": 65,
    "start_time": "2022-12-20T10:39:43.643Z"
   },
   {
    "duration": 82,
    "start_time": "2022-12-20T10:39:43.710Z"
   },
   {
    "duration": 58,
    "start_time": "2022-12-20T10:39:43.794Z"
   },
   {
    "duration": 88,
    "start_time": "2022-12-20T10:39:43.854Z"
   },
   {
    "duration": 72,
    "start_time": "2022-12-20T10:39:43.944Z"
   },
   {
    "duration": 86,
    "start_time": "2022-12-20T10:39:44.018Z"
   },
   {
    "duration": 119,
    "start_time": "2022-12-20T10:39:44.108Z"
   },
   {
    "duration": 136,
    "start_time": "2022-12-20T10:39:44.229Z"
   },
   {
    "duration": 146,
    "start_time": "2022-12-20T10:39:44.367Z"
   },
   {
    "duration": 21,
    "start_time": "2022-12-20T10:39:44.515Z"
   },
   {
    "duration": 35,
    "start_time": "2022-12-20T10:39:44.538Z"
   },
   {
    "duration": 82,
    "start_time": "2022-12-20T10:39:44.575Z"
   },
   {
    "duration": 54,
    "start_time": "2022-12-20T10:39:44.659Z"
   },
   {
    "duration": 38,
    "start_time": "2022-12-20T10:39:44.715Z"
   },
   {
    "duration": 79,
    "start_time": "2022-12-20T10:39:44.754Z"
   },
   {
    "duration": 50,
    "start_time": "2022-12-20T10:39:44.835Z"
   },
   {
    "duration": 46,
    "start_time": "2022-12-20T10:39:44.887Z"
   },
   {
    "duration": 91,
    "start_time": "2022-12-20T10:39:44.935Z"
   },
   {
    "duration": 50,
    "start_time": "2022-12-20T10:39:45.028Z"
   },
   {
    "duration": 64,
    "start_time": "2022-12-20T10:39:45.080Z"
   },
   {
    "duration": 84,
    "start_time": "2022-12-20T10:39:45.146Z"
   },
   {
    "duration": 83,
    "start_time": "2022-12-20T10:39:45.231Z"
   },
   {
    "duration": 64,
    "start_time": "2022-12-20T10:39:45.316Z"
   },
   {
    "duration": 58,
    "start_time": "2022-12-20T10:39:45.381Z"
   },
   {
    "duration": 51,
    "start_time": "2022-12-20T10:39:45.442Z"
   },
   {
    "duration": 56,
    "start_time": "2022-12-20T10:39:45.495Z"
   },
   {
    "duration": 72,
    "start_time": "2022-12-20T10:39:45.553Z"
   },
   {
    "duration": 0,
    "start_time": "2022-12-20T10:39:45.626Z"
   },
   {
    "duration": 0,
    "start_time": "2022-12-20T10:39:45.628Z"
   },
   {
    "duration": 0,
    "start_time": "2022-12-20T10:39:45.629Z"
   },
   {
    "duration": 0,
    "start_time": "2022-12-20T10:39:45.630Z"
   },
   {
    "duration": 0,
    "start_time": "2022-12-20T10:39:45.631Z"
   },
   {
    "duration": 0,
    "start_time": "2022-12-20T10:39:45.632Z"
   },
   {
    "duration": 0,
    "start_time": "2022-12-20T10:39:45.634Z"
   },
   {
    "duration": 0,
    "start_time": "2022-12-20T10:39:45.635Z"
   },
   {
    "duration": 22,
    "start_time": "2022-12-20T10:40:07.230Z"
   },
   {
    "duration": 4,
    "start_time": "2022-12-20T10:40:14.286Z"
   },
   {
    "duration": 26,
    "start_time": "2022-12-20T10:40:23.968Z"
   },
   {
    "duration": 72,
    "start_time": "2022-12-20T10:40:32.518Z"
   },
   {
    "duration": 63,
    "start_time": "2022-12-20T10:45:03.055Z"
   },
   {
    "duration": 386,
    "start_time": "2022-12-20T10:45:38.796Z"
   },
   {
    "duration": 170,
    "start_time": "2022-12-20T10:45:39.184Z"
   },
   {
    "duration": 17,
    "start_time": "2022-12-20T10:45:39.356Z"
   },
   {
    "duration": 54,
    "start_time": "2022-12-20T10:45:39.378Z"
   },
   {
    "duration": 22,
    "start_time": "2022-12-20T10:45:39.433Z"
   },
   {
    "duration": 29,
    "start_time": "2022-12-20T10:45:39.456Z"
   },
   {
    "duration": 22,
    "start_time": "2022-12-20T10:45:39.487Z"
   },
   {
    "duration": 14,
    "start_time": "2022-12-20T10:45:39.511Z"
   },
   {
    "duration": 43,
    "start_time": "2022-12-20T10:45:39.527Z"
   },
   {
    "duration": 38,
    "start_time": "2022-12-20T10:45:39.573Z"
   },
   {
    "duration": 39,
    "start_time": "2022-12-20T10:45:39.612Z"
   },
   {
    "duration": 88,
    "start_time": "2022-12-20T10:45:39.653Z"
   },
   {
    "duration": 79,
    "start_time": "2022-12-20T10:45:39.742Z"
   },
   {
    "duration": 68,
    "start_time": "2022-12-20T10:45:39.822Z"
   },
   {
    "duration": 2,
    "start_time": "2022-12-20T10:45:39.892Z"
   },
   {
    "duration": 34,
    "start_time": "2022-12-20T10:45:39.896Z"
   },
   {
    "duration": 24,
    "start_time": "2022-12-20T10:45:39.932Z"
   },
   {
    "duration": 15,
    "start_time": "2022-12-20T10:45:39.957Z"
   },
   {
    "duration": 25,
    "start_time": "2022-12-20T10:45:39.974Z"
   },
   {
    "duration": 35,
    "start_time": "2022-12-20T10:45:40.001Z"
   },
   {
    "duration": 38,
    "start_time": "2022-12-20T10:45:40.038Z"
   },
   {
    "duration": 25,
    "start_time": "2022-12-20T10:45:40.078Z"
   },
   {
    "duration": 17,
    "start_time": "2022-12-20T10:45:40.105Z"
   },
   {
    "duration": 37,
    "start_time": "2022-12-20T10:45:40.123Z"
   },
   {
    "duration": 32,
    "start_time": "2022-12-20T10:45:40.162Z"
   },
   {
    "duration": 27,
    "start_time": "2022-12-20T10:45:40.196Z"
   },
   {
    "duration": 18,
    "start_time": "2022-12-20T10:45:40.225Z"
   },
   {
    "duration": 17,
    "start_time": "2022-12-20T10:45:40.245Z"
   },
   {
    "duration": 26,
    "start_time": "2022-12-20T10:45:40.264Z"
   },
   {
    "duration": 80,
    "start_time": "2022-12-20T10:45:40.292Z"
   },
   {
    "duration": 0,
    "start_time": "2022-12-20T10:45:40.374Z"
   },
   {
    "duration": 0,
    "start_time": "2022-12-20T10:45:40.376Z"
   },
   {
    "duration": 0,
    "start_time": "2022-12-20T10:45:40.377Z"
   },
   {
    "duration": 0,
    "start_time": "2022-12-20T10:45:40.378Z"
   },
   {
    "duration": 0,
    "start_time": "2022-12-20T10:45:40.380Z"
   },
   {
    "duration": 0,
    "start_time": "2022-12-20T10:45:40.381Z"
   },
   {
    "duration": 0,
    "start_time": "2022-12-20T10:45:40.382Z"
   },
   {
    "duration": 1,
    "start_time": "2022-12-20T10:45:40.383Z"
   },
   {
    "duration": 47,
    "start_time": "2022-12-20T11:05:14.384Z"
   },
   {
    "duration": 33,
    "start_time": "2022-12-20T11:14:53.253Z"
   },
   {
    "duration": 72,
    "start_time": "2022-12-20T13:15:16.516Z"
   },
   {
    "duration": 6,
    "start_time": "2022-12-20T13:18:57.120Z"
   },
   {
    "duration": 6,
    "start_time": "2022-12-20T13:19:00.711Z"
   },
   {
    "duration": 407,
    "start_time": "2022-12-20T13:19:07.176Z"
   },
   {
    "duration": 227,
    "start_time": "2022-12-20T13:19:07.585Z"
   },
   {
    "duration": 18,
    "start_time": "2022-12-20T13:19:07.814Z"
   },
   {
    "duration": 53,
    "start_time": "2022-12-20T13:19:07.834Z"
   },
   {
    "duration": 31,
    "start_time": "2022-12-20T13:19:07.889Z"
   },
   {
    "duration": 32,
    "start_time": "2022-12-20T13:19:07.921Z"
   },
   {
    "duration": 24,
    "start_time": "2022-12-20T13:19:07.955Z"
   },
   {
    "duration": 23,
    "start_time": "2022-12-20T13:19:07.981Z"
   },
   {
    "duration": 73,
    "start_time": "2022-12-20T13:19:08.005Z"
   },
   {
    "duration": 33,
    "start_time": "2022-12-20T13:19:08.082Z"
   },
   {
    "duration": 49,
    "start_time": "2022-12-20T13:19:08.116Z"
   },
   {
    "duration": 90,
    "start_time": "2022-12-20T13:19:08.167Z"
   },
   {
    "duration": 77,
    "start_time": "2022-12-20T13:19:08.259Z"
   },
   {
    "duration": 57,
    "start_time": "2022-12-20T13:19:08.338Z"
   },
   {
    "duration": 51,
    "start_time": "2022-12-20T13:19:08.397Z"
   },
   {
    "duration": 11,
    "start_time": "2022-12-20T13:19:08.450Z"
   },
   {
    "duration": 59,
    "start_time": "2022-12-20T13:19:08.462Z"
   },
   {
    "duration": 11,
    "start_time": "2022-12-20T13:19:08.522Z"
   },
   {
    "duration": 30,
    "start_time": "2022-12-20T13:19:08.534Z"
   },
   {
    "duration": 18,
    "start_time": "2022-12-20T13:19:08.565Z"
   },
   {
    "duration": 21,
    "start_time": "2022-12-20T13:19:08.585Z"
   },
   {
    "duration": 25,
    "start_time": "2022-12-20T13:19:08.608Z"
   },
   {
    "duration": 31,
    "start_time": "2022-12-20T13:19:08.634Z"
   },
   {
    "duration": 35,
    "start_time": "2022-12-20T13:19:08.668Z"
   },
   {
    "duration": 16,
    "start_time": "2022-12-20T13:19:08.705Z"
   },
   {
    "duration": 15,
    "start_time": "2022-12-20T13:19:08.722Z"
   },
   {
    "duration": 21,
    "start_time": "2022-12-20T13:19:08.739Z"
   },
   {
    "duration": 2,
    "start_time": "2022-12-20T13:19:08.764Z"
   },
   {
    "duration": 23,
    "start_time": "2022-12-20T13:19:08.769Z"
   },
   {
    "duration": 42,
    "start_time": "2022-12-20T13:19:08.793Z"
   },
   {
    "duration": 0,
    "start_time": "2022-12-20T13:19:08.837Z"
   },
   {
    "duration": 0,
    "start_time": "2022-12-20T13:19:08.838Z"
   },
   {
    "duration": 0,
    "start_time": "2022-12-20T13:19:08.839Z"
   },
   {
    "duration": 0,
    "start_time": "2022-12-20T13:19:08.841Z"
   },
   {
    "duration": 0,
    "start_time": "2022-12-20T13:19:08.841Z"
   },
   {
    "duration": 0,
    "start_time": "2022-12-20T13:19:08.843Z"
   },
   {
    "duration": 0,
    "start_time": "2022-12-20T13:19:08.844Z"
   },
   {
    "duration": 0,
    "start_time": "2022-12-20T13:19:08.845Z"
   },
   {
    "duration": 10,
    "start_time": "2022-12-20T13:20:20.079Z"
   },
   {
    "duration": 76,
    "start_time": "2022-12-20T13:58:38.650Z"
   },
   {
    "duration": 401,
    "start_time": "2022-12-20T13:58:49.329Z"
   },
   {
    "duration": 163,
    "start_time": "2022-12-20T13:58:49.732Z"
   },
   {
    "duration": 16,
    "start_time": "2022-12-20T13:58:49.896Z"
   },
   {
    "duration": 29,
    "start_time": "2022-12-20T13:58:49.915Z"
   },
   {
    "duration": 2,
    "start_time": "2022-12-20T13:58:49.946Z"
   },
   {
    "duration": 5,
    "start_time": "2022-12-20T13:58:49.950Z"
   },
   {
    "duration": 13,
    "start_time": "2022-12-20T13:58:49.957Z"
   },
   {
    "duration": 5,
    "start_time": "2022-12-20T13:58:49.972Z"
   },
   {
    "duration": 50,
    "start_time": "2022-12-20T13:58:49.979Z"
   },
   {
    "duration": 23,
    "start_time": "2022-12-20T13:58:50.030Z"
   },
   {
    "duration": 29,
    "start_time": "2022-12-20T13:58:50.055Z"
   },
   {
    "duration": 76,
    "start_time": "2022-12-20T13:58:50.086Z"
   },
   {
    "duration": 66,
    "start_time": "2022-12-20T13:58:50.164Z"
   },
   {
    "duration": 54,
    "start_time": "2022-12-20T13:58:50.234Z"
   },
   {
    "duration": 50,
    "start_time": "2022-12-20T13:58:50.290Z"
   },
   {
    "duration": 10,
    "start_time": "2022-12-20T13:58:50.342Z"
   },
   {
    "duration": 39,
    "start_time": "2022-12-20T13:58:50.353Z"
   },
   {
    "duration": 28,
    "start_time": "2022-12-20T13:58:50.393Z"
   },
   {
    "duration": 11,
    "start_time": "2022-12-20T13:58:50.423Z"
   },
   {
    "duration": 3,
    "start_time": "2022-12-20T13:58:50.436Z"
   },
   {
    "duration": 31,
    "start_time": "2022-12-20T13:58:50.440Z"
   },
   {
    "duration": 12,
    "start_time": "2022-12-20T13:58:50.473Z"
   },
   {
    "duration": 13,
    "start_time": "2022-12-20T13:58:50.486Z"
   },
   {
    "duration": 12,
    "start_time": "2022-12-20T13:58:50.515Z"
   },
   {
    "duration": 15,
    "start_time": "2022-12-20T13:58:50.528Z"
   },
   {
    "duration": 17,
    "start_time": "2022-12-20T13:58:50.544Z"
   },
   {
    "duration": 12,
    "start_time": "2022-12-20T13:58:50.562Z"
   },
   {
    "duration": 9,
    "start_time": "2022-12-20T13:58:50.576Z"
   },
   {
    "duration": 4,
    "start_time": "2022-12-20T13:58:50.587Z"
   },
   {
    "duration": 46,
    "start_time": "2022-12-20T13:58:50.592Z"
   },
   {
    "duration": 0,
    "start_time": "2022-12-20T13:58:50.639Z"
   },
   {
    "duration": 0,
    "start_time": "2022-12-20T13:58:50.641Z"
   },
   {
    "duration": 0,
    "start_time": "2022-12-20T13:58:50.642Z"
   },
   {
    "duration": 0,
    "start_time": "2022-12-20T13:58:50.643Z"
   },
   {
    "duration": 0,
    "start_time": "2022-12-20T13:58:50.644Z"
   },
   {
    "duration": 0,
    "start_time": "2022-12-20T13:58:50.645Z"
   },
   {
    "duration": 0,
    "start_time": "2022-12-20T13:58:50.647Z"
   },
   {
    "duration": 0,
    "start_time": "2022-12-20T13:58:50.649Z"
   },
   {
    "duration": 10,
    "start_time": "2022-12-20T14:08:38.009Z"
   },
   {
    "duration": 14,
    "start_time": "2022-12-20T14:08:42.083Z"
   },
   {
    "duration": 9,
    "start_time": "2022-12-20T14:08:44.727Z"
   },
   {
    "duration": 5,
    "start_time": "2022-12-20T14:23:26.035Z"
   },
   {
    "duration": 365,
    "start_time": "2022-12-20T14:23:34.644Z"
   },
   {
    "duration": 161,
    "start_time": "2022-12-20T14:23:35.011Z"
   },
   {
    "duration": 19,
    "start_time": "2022-12-20T14:23:35.177Z"
   },
   {
    "duration": 36,
    "start_time": "2022-12-20T14:23:35.199Z"
   },
   {
    "duration": 3,
    "start_time": "2022-12-20T14:23:35.236Z"
   },
   {
    "duration": 5,
    "start_time": "2022-12-20T14:23:35.241Z"
   },
   {
    "duration": 12,
    "start_time": "2022-12-20T14:23:35.247Z"
   },
   {
    "duration": 16,
    "start_time": "2022-12-20T14:23:35.261Z"
   },
   {
    "duration": 30,
    "start_time": "2022-12-20T14:23:35.279Z"
   },
   {
    "duration": 20,
    "start_time": "2022-12-20T14:23:35.317Z"
   },
   {
    "duration": 24,
    "start_time": "2022-12-20T14:23:35.338Z"
   },
   {
    "duration": 74,
    "start_time": "2022-12-20T14:23:35.364Z"
   },
   {
    "duration": 62,
    "start_time": "2022-12-20T14:23:35.439Z"
   },
   {
    "duration": 63,
    "start_time": "2022-12-20T14:23:35.503Z"
   },
   {
    "duration": 50,
    "start_time": "2022-12-20T14:23:35.568Z"
   },
   {
    "duration": 10,
    "start_time": "2022-12-20T14:23:35.620Z"
   },
   {
    "duration": 35,
    "start_time": "2022-12-20T14:23:35.632Z"
   },
   {
    "duration": 10,
    "start_time": "2022-12-20T14:23:35.668Z"
   },
   {
    "duration": 10,
    "start_time": "2022-12-20T14:23:35.679Z"
   },
   {
    "duration": 3,
    "start_time": "2022-12-20T14:23:35.715Z"
   },
   {
    "duration": 19,
    "start_time": "2022-12-20T14:23:35.720Z"
   },
   {
    "duration": 13,
    "start_time": "2022-12-20T14:23:35.740Z"
   },
   {
    "duration": 12,
    "start_time": "2022-12-20T14:23:35.754Z"
   },
   {
    "duration": 12,
    "start_time": "2022-12-20T14:23:35.767Z"
   },
   {
    "duration": 41,
    "start_time": "2022-12-20T14:23:35.781Z"
   },
   {
    "duration": 14,
    "start_time": "2022-12-20T14:23:35.824Z"
   },
   {
    "duration": 6,
    "start_time": "2022-12-20T14:23:35.840Z"
   },
   {
    "duration": 10,
    "start_time": "2022-12-20T14:23:35.850Z"
   },
   {
    "duration": 8,
    "start_time": "2022-12-20T14:23:35.861Z"
   },
   {
    "duration": 4,
    "start_time": "2022-12-20T14:23:35.871Z"
   },
   {
    "duration": 40,
    "start_time": "2022-12-20T14:23:35.876Z"
   },
   {
    "duration": 6,
    "start_time": "2022-12-20T14:23:35.918Z"
   },
   {
    "duration": 4,
    "start_time": "2022-12-20T14:23:35.925Z"
   },
   {
    "duration": 5,
    "start_time": "2022-12-20T14:23:35.930Z"
   },
   {
    "duration": 5,
    "start_time": "2022-12-20T14:23:35.936Z"
   },
   {
    "duration": 9,
    "start_time": "2022-12-20T14:23:35.942Z"
   },
   {
    "duration": 8,
    "start_time": "2022-12-20T14:23:35.953Z"
   },
   {
    "duration": 4,
    "start_time": "2022-12-20T14:23:35.962Z"
   },
   {
    "duration": 370,
    "start_time": "2022-12-20T14:29:24.139Z"
   },
   {
    "duration": 158,
    "start_time": "2022-12-20T14:29:24.511Z"
   },
   {
    "duration": 17,
    "start_time": "2022-12-20T14:29:24.671Z"
   },
   {
    "duration": 39,
    "start_time": "2022-12-20T14:29:24.690Z"
   },
   {
    "duration": 3,
    "start_time": "2022-12-20T14:29:24.730Z"
   },
   {
    "duration": 5,
    "start_time": "2022-12-20T14:29:24.735Z"
   },
   {
    "duration": 17,
    "start_time": "2022-12-20T14:29:24.742Z"
   },
   {
    "duration": 6,
    "start_time": "2022-12-20T14:29:24.761Z"
   },
   {
    "duration": 50,
    "start_time": "2022-12-20T14:29:24.769Z"
   },
   {
    "duration": 20,
    "start_time": "2022-12-20T14:29:24.821Z"
   },
   {
    "duration": 44,
    "start_time": "2022-12-20T14:29:24.843Z"
   },
   {
    "duration": 83,
    "start_time": "2022-12-20T14:29:24.889Z"
   },
   {
    "duration": 74,
    "start_time": "2022-12-20T14:29:24.974Z"
   },
   {
    "duration": 68,
    "start_time": "2022-12-20T14:29:25.052Z"
   },
   {
    "duration": 37,
    "start_time": "2022-12-20T14:29:25.121Z"
   },
   {
    "duration": 10,
    "start_time": "2022-12-20T14:29:25.159Z"
   },
   {
    "duration": 62,
    "start_time": "2022-12-20T14:29:25.171Z"
   },
   {
    "duration": 12,
    "start_time": "2022-12-20T14:29:25.235Z"
   },
   {
    "duration": 12,
    "start_time": "2022-12-20T14:29:25.248Z"
   },
   {
    "duration": 4,
    "start_time": "2022-12-20T14:29:25.262Z"
   },
   {
    "duration": 24,
    "start_time": "2022-12-20T14:29:25.268Z"
   },
   {
    "duration": 36,
    "start_time": "2022-12-20T14:29:25.294Z"
   },
   {
    "duration": 13,
    "start_time": "2022-12-20T14:29:25.332Z"
   },
   {
    "duration": 20,
    "start_time": "2022-12-20T14:29:25.346Z"
   },
   {
    "duration": 15,
    "start_time": "2022-12-20T14:29:25.367Z"
   },
   {
    "duration": 15,
    "start_time": "2022-12-20T14:29:25.416Z"
   },
   {
    "duration": 6,
    "start_time": "2022-12-20T14:29:25.433Z"
   },
   {
    "duration": 11,
    "start_time": "2022-12-20T14:29:25.440Z"
   },
   {
    "duration": 8,
    "start_time": "2022-12-20T14:29:25.453Z"
   },
   {
    "duration": 4,
    "start_time": "2022-12-20T14:29:25.463Z"
   },
   {
    "duration": 8,
    "start_time": "2022-12-20T14:29:25.468Z"
   },
   {
    "duration": 37,
    "start_time": "2022-12-20T14:29:25.478Z"
   },
   {
    "duration": 3,
    "start_time": "2022-12-20T14:29:25.517Z"
   },
   {
    "duration": 5,
    "start_time": "2022-12-20T14:29:25.521Z"
   },
   {
    "duration": 8,
    "start_time": "2022-12-20T14:29:25.527Z"
   },
   {
    "duration": 7,
    "start_time": "2022-12-20T14:29:25.537Z"
   },
   {
    "duration": 6,
    "start_time": "2022-12-20T14:29:25.546Z"
   },
   {
    "duration": 6,
    "start_time": "2022-12-20T14:29:25.553Z"
   },
   {
    "duration": 50,
    "start_time": "2022-12-20T14:39:53.338Z"
   },
   {
    "duration": 49,
    "start_time": "2022-12-20T14:39:57.608Z"
   },
   {
    "duration": 45,
    "start_time": "2022-12-20T14:45:40.059Z"
   },
   {
    "duration": 352,
    "start_time": "2022-12-20T14:45:54.751Z"
   },
   {
    "duration": 155,
    "start_time": "2022-12-20T14:45:55.105Z"
   },
   {
    "duration": 16,
    "start_time": "2022-12-20T14:45:55.264Z"
   },
   {
    "duration": 38,
    "start_time": "2022-12-20T14:45:55.281Z"
   },
   {
    "duration": 2,
    "start_time": "2022-12-20T14:45:55.320Z"
   },
   {
    "duration": 8,
    "start_time": "2022-12-20T14:45:55.324Z"
   },
   {
    "duration": 15,
    "start_time": "2022-12-20T14:45:55.334Z"
   },
   {
    "duration": 19,
    "start_time": "2022-12-20T14:45:55.350Z"
   },
   {
    "duration": 44,
    "start_time": "2022-12-20T14:45:55.371Z"
   },
   {
    "duration": 54,
    "start_time": "2022-12-20T14:45:55.416Z"
   },
   {
    "duration": 26,
    "start_time": "2022-12-20T14:45:55.472Z"
   },
   {
    "duration": 82,
    "start_time": "2022-12-20T14:45:55.499Z"
   },
   {
    "duration": 67,
    "start_time": "2022-12-20T14:45:55.583Z"
   },
   {
    "duration": 65,
    "start_time": "2022-12-20T14:45:55.652Z"
   },
   {
    "duration": 35,
    "start_time": "2022-12-20T14:45:55.719Z"
   },
   {
    "duration": 10,
    "start_time": "2022-12-20T14:45:55.756Z"
   },
   {
    "duration": 56,
    "start_time": "2022-12-20T14:45:55.767Z"
   },
   {
    "duration": 10,
    "start_time": "2022-12-20T14:45:55.824Z"
   },
   {
    "duration": 24,
    "start_time": "2022-12-20T14:45:55.835Z"
   },
   {
    "duration": 13,
    "start_time": "2022-12-20T14:45:55.860Z"
   },
   {
    "duration": 43,
    "start_time": "2022-12-20T14:45:55.874Z"
   },
   {
    "duration": 31,
    "start_time": "2022-12-20T14:45:55.918Z"
   },
   {
    "duration": 26,
    "start_time": "2022-12-20T14:45:55.950Z"
   },
   {
    "duration": 22,
    "start_time": "2022-12-20T14:45:55.977Z"
   },
   {
    "duration": 26,
    "start_time": "2022-12-20T14:45:56.001Z"
   },
   {
    "duration": 17,
    "start_time": "2022-12-20T14:45:56.029Z"
   },
   {
    "duration": 21,
    "start_time": "2022-12-20T14:45:56.050Z"
   },
   {
    "duration": 38,
    "start_time": "2022-12-20T14:45:56.073Z"
   },
   {
    "duration": 22,
    "start_time": "2022-12-20T14:45:56.113Z"
   },
   {
    "duration": 15,
    "start_time": "2022-12-20T14:45:56.136Z"
   },
   {
    "duration": 44,
    "start_time": "2022-12-20T14:45:56.152Z"
   },
   {
    "duration": 22,
    "start_time": "2022-12-20T14:45:56.197Z"
   },
   {
    "duration": 24,
    "start_time": "2022-12-20T14:45:56.221Z"
   },
   {
    "duration": 31,
    "start_time": "2022-12-20T14:45:56.247Z"
   },
   {
    "duration": 4,
    "start_time": "2022-12-20T14:45:56.280Z"
   },
   {
    "duration": 32,
    "start_time": "2022-12-20T14:45:56.285Z"
   },
   {
    "duration": 34,
    "start_time": "2022-12-20T14:45:56.319Z"
   },
   {
    "duration": 37,
    "start_time": "2022-12-20T14:45:56.355Z"
   },
   {
    "duration": 8,
    "start_time": "2022-12-20T14:59:59.140Z"
   },
   {
    "duration": 8,
    "start_time": "2022-12-20T15:00:03.198Z"
   },
   {
    "duration": 5,
    "start_time": "2022-12-20T15:00:38.610Z"
   },
   {
    "duration": 48,
    "start_time": "2022-12-20T15:20:00.787Z"
   },
   {
    "duration": 425,
    "start_time": "2022-12-20T15:20:09.811Z"
   },
   {
    "duration": 443,
    "start_time": "2022-12-20T15:20:10.238Z"
   },
   {
    "duration": 16,
    "start_time": "2022-12-20T15:20:10.683Z"
   },
   {
    "duration": 28,
    "start_time": "2022-12-20T15:20:10.701Z"
   },
   {
    "duration": 3,
    "start_time": "2022-12-20T15:20:10.730Z"
   },
   {
    "duration": 8,
    "start_time": "2022-12-20T15:20:10.734Z"
   },
   {
    "duration": 15,
    "start_time": "2022-12-20T15:20:10.743Z"
   },
   {
    "duration": 8,
    "start_time": "2022-12-20T15:20:10.759Z"
   },
   {
    "duration": 41,
    "start_time": "2022-12-20T15:20:10.768Z"
   },
   {
    "duration": 21,
    "start_time": "2022-12-20T15:20:10.811Z"
   },
   {
    "duration": 24,
    "start_time": "2022-12-20T15:20:10.833Z"
   },
   {
    "duration": 83,
    "start_time": "2022-12-20T15:20:10.858Z"
   },
   {
    "duration": 78,
    "start_time": "2022-12-20T15:20:10.942Z"
   },
   {
    "duration": 59,
    "start_time": "2022-12-20T15:20:11.022Z"
   },
   {
    "duration": 53,
    "start_time": "2022-12-20T15:20:11.082Z"
   },
   {
    "duration": 11,
    "start_time": "2022-12-20T15:20:11.136Z"
   },
   {
    "duration": 43,
    "start_time": "2022-12-20T15:20:11.149Z"
   },
   {
    "duration": 11,
    "start_time": "2022-12-20T15:20:11.205Z"
   },
   {
    "duration": 11,
    "start_time": "2022-12-20T15:20:11.217Z"
   },
   {
    "duration": 3,
    "start_time": "2022-12-20T15:20:11.230Z"
   },
   {
    "duration": 22,
    "start_time": "2022-12-20T15:20:11.235Z"
   },
   {
    "duration": 15,
    "start_time": "2022-12-20T15:20:11.259Z"
   },
   {
    "duration": 41,
    "start_time": "2022-12-20T15:20:11.275Z"
   },
   {
    "duration": 17,
    "start_time": "2022-12-20T15:20:11.317Z"
   },
   {
    "duration": 17,
    "start_time": "2022-12-20T15:20:11.336Z"
   },
   {
    "duration": 15,
    "start_time": "2022-12-20T15:20:11.355Z"
   },
   {
    "duration": 8,
    "start_time": "2022-12-20T15:20:11.404Z"
   },
   {
    "duration": 15,
    "start_time": "2022-12-20T15:20:11.415Z"
   },
   {
    "duration": 9,
    "start_time": "2022-12-20T15:20:11.432Z"
   },
   {
    "duration": 7,
    "start_time": "2022-12-20T15:20:11.442Z"
   },
   {
    "duration": 24,
    "start_time": "2022-12-20T15:20:11.450Z"
   },
   {
    "duration": 33,
    "start_time": "2022-12-20T15:20:11.476Z"
   },
   {
    "duration": 20,
    "start_time": "2022-12-20T15:20:11.510Z"
   },
   {
    "duration": 13,
    "start_time": "2022-12-20T15:20:11.532Z"
   },
   {
    "duration": 9,
    "start_time": "2022-12-20T15:20:11.546Z"
   },
   {
    "duration": 5,
    "start_time": "2022-12-20T15:20:11.557Z"
   },
   {
    "duration": 8,
    "start_time": "2022-12-20T15:20:11.563Z"
   },
   {
    "duration": 39,
    "start_time": "2022-12-20T15:20:11.573Z"
   },
   {
    "duration": 5,
    "start_time": "2022-12-20T15:20:47.673Z"
   },
   {
    "duration": 48,
    "start_time": "2022-12-27T18:20:30.942Z"
   },
   {
    "duration": 443,
    "start_time": "2022-12-27T18:20:42.796Z"
   },
   {
    "duration": 216,
    "start_time": "2022-12-27T18:20:43.241Z"
   },
   {
    "duration": 19,
    "start_time": "2022-12-27T18:20:43.458Z"
   },
   {
    "duration": 28,
    "start_time": "2022-12-27T18:20:43.481Z"
   },
   {
    "duration": 3,
    "start_time": "2022-12-27T18:20:43.511Z"
   },
   {
    "duration": 6,
    "start_time": "2022-12-27T18:20:43.516Z"
   },
   {
    "duration": 12,
    "start_time": "2022-12-27T18:20:43.523Z"
   },
   {
    "duration": 5,
    "start_time": "2022-12-27T18:20:43.537Z"
   },
   {
    "duration": 54,
    "start_time": "2022-12-27T18:20:43.543Z"
   },
   {
    "duration": 20,
    "start_time": "2022-12-27T18:20:43.600Z"
   },
   {
    "duration": 21,
    "start_time": "2022-12-27T18:20:43.622Z"
   },
   {
    "duration": 83,
    "start_time": "2022-12-27T18:20:43.645Z"
   },
   {
    "duration": 78,
    "start_time": "2022-12-27T18:20:43.729Z"
   },
   {
    "duration": 59,
    "start_time": "2022-12-27T18:20:43.809Z"
   },
   {
    "duration": 7,
    "start_time": "2022-12-27T18:20:43.870Z"
   },
   {
    "duration": 27,
    "start_time": "2022-12-27T18:20:43.879Z"
   },
   {
    "duration": 46,
    "start_time": "2022-12-27T18:20:43.908Z"
   },
   {
    "duration": 12,
    "start_time": "2022-12-27T18:20:43.956Z"
   },
   {
    "duration": 30,
    "start_time": "2022-12-27T18:20:43.969Z"
   },
   {
    "duration": 5,
    "start_time": "2022-12-27T18:20:44.001Z"
   },
   {
    "duration": 27,
    "start_time": "2022-12-27T18:20:44.008Z"
   },
   {
    "duration": 14,
    "start_time": "2022-12-27T18:20:44.037Z"
   },
   {
    "duration": 47,
    "start_time": "2022-12-27T18:20:44.053Z"
   },
   {
    "duration": 15,
    "start_time": "2022-12-27T18:20:44.102Z"
   },
   {
    "duration": 16,
    "start_time": "2022-12-27T18:20:44.118Z"
   },
   {
    "duration": 14,
    "start_time": "2022-12-27T18:20:44.135Z"
   },
   {
    "duration": 7,
    "start_time": "2022-12-27T18:20:44.151Z"
   },
   {
    "duration": 11,
    "start_time": "2022-12-27T18:20:44.196Z"
   },
   {
    "duration": 13,
    "start_time": "2022-12-27T18:20:44.209Z"
   },
   {
    "duration": 9,
    "start_time": "2022-12-27T18:20:44.225Z"
   },
   {
    "duration": 20,
    "start_time": "2022-12-27T18:20:44.235Z"
   },
   {
    "duration": 11,
    "start_time": "2022-12-27T18:20:44.256Z"
   },
   {
    "duration": 36,
    "start_time": "2022-12-27T18:20:44.269Z"
   },
   {
    "duration": 11,
    "start_time": "2022-12-27T18:20:44.307Z"
   },
   {
    "duration": 9,
    "start_time": "2022-12-27T18:20:44.320Z"
   },
   {
    "duration": 8,
    "start_time": "2022-12-27T18:20:44.331Z"
   },
   {
    "duration": 7,
    "start_time": "2022-12-27T18:20:44.340Z"
   },
   {
    "duration": 7,
    "start_time": "2022-12-27T18:20:44.348Z"
   },
   {
    "duration": 62,
    "start_time": "2022-12-27T18:21:25.450Z"
   },
   {
    "duration": 37,
    "start_time": "2022-12-27T18:21:39.144Z"
   },
   {
    "duration": 3,
    "start_time": "2022-12-27T18:35:09.677Z"
   },
   {
    "duration": 4,
    "start_time": "2022-12-27T18:35:14.071Z"
   },
   {
    "duration": 3,
    "start_time": "2022-12-27T18:35:58.682Z"
   },
   {
    "duration": 2,
    "start_time": "2022-12-27T18:36:11.470Z"
   },
   {
    "duration": 191,
    "start_time": "2022-12-27T18:36:11.476Z"
   },
   {
    "duration": 11,
    "start_time": "2022-12-27T18:36:11.669Z"
   },
   {
    "duration": 29,
    "start_time": "2022-12-27T18:36:11.696Z"
   },
   {
    "duration": 3,
    "start_time": "2022-12-27T18:36:11.727Z"
   },
   {
    "duration": 13,
    "start_time": "2022-12-27T18:36:11.731Z"
   },
   {
    "duration": 15,
    "start_time": "2022-12-27T18:36:11.746Z"
   },
   {
    "duration": 3,
    "start_time": "2022-12-27T18:36:11.763Z"
   },
   {
    "duration": 41,
    "start_time": "2022-12-27T18:36:11.768Z"
   },
   {
    "duration": 24,
    "start_time": "2022-12-27T18:36:11.811Z"
   },
   {
    "duration": 25,
    "start_time": "2022-12-27T18:36:11.838Z"
   },
   {
    "duration": 104,
    "start_time": "2022-12-27T18:36:11.865Z"
   },
   {
    "duration": 79,
    "start_time": "2022-12-27T18:36:11.971Z"
   },
   {
    "duration": 66,
    "start_time": "2022-12-27T18:36:12.054Z"
   },
   {
    "duration": 39,
    "start_time": "2022-12-27T18:36:12.122Z"
   },
   {
    "duration": 13,
    "start_time": "2022-12-27T18:36:12.163Z"
   },
   {
    "duration": 54,
    "start_time": "2022-12-27T18:36:12.197Z"
   },
   {
    "duration": 11,
    "start_time": "2022-12-27T18:36:12.252Z"
   },
   {
    "duration": 11,
    "start_time": "2022-12-27T18:36:12.264Z"
   },
   {
    "duration": 13,
    "start_time": "2022-12-27T18:36:12.276Z"
   },
   {
    "duration": 43,
    "start_time": "2022-12-27T18:36:12.291Z"
   },
   {
    "duration": 0,
    "start_time": "2022-12-27T18:36:12.337Z"
   },
   {
    "duration": 0,
    "start_time": "2022-12-27T18:36:12.339Z"
   },
   {
    "duration": 0,
    "start_time": "2022-12-27T18:36:12.340Z"
   },
   {
    "duration": 0,
    "start_time": "2022-12-27T18:36:12.342Z"
   },
   {
    "duration": 0,
    "start_time": "2022-12-27T18:36:12.344Z"
   },
   {
    "duration": 0,
    "start_time": "2022-12-27T18:36:12.345Z"
   },
   {
    "duration": 0,
    "start_time": "2022-12-27T18:36:12.348Z"
   },
   {
    "duration": 0,
    "start_time": "2022-12-27T18:36:12.349Z"
   },
   {
    "duration": 0,
    "start_time": "2022-12-27T18:36:12.351Z"
   },
   {
    "duration": 0,
    "start_time": "2022-12-27T18:36:12.353Z"
   },
   {
    "duration": 0,
    "start_time": "2022-12-27T18:36:12.354Z"
   },
   {
    "duration": 0,
    "start_time": "2022-12-27T18:36:12.356Z"
   },
   {
    "duration": 0,
    "start_time": "2022-12-27T18:36:12.358Z"
   },
   {
    "duration": 0,
    "start_time": "2022-12-27T18:36:12.359Z"
   },
   {
    "duration": 0,
    "start_time": "2022-12-27T18:36:12.361Z"
   },
   {
    "duration": 0,
    "start_time": "2022-12-27T18:36:12.362Z"
   },
   {
    "duration": 0,
    "start_time": "2022-12-27T18:36:12.364Z"
   },
   {
    "duration": 3,
    "start_time": "2022-12-27T18:36:24.170Z"
   },
   {
    "duration": 367,
    "start_time": "2022-12-27T18:38:08.337Z"
   },
   {
    "duration": 168,
    "start_time": "2022-12-27T18:38:08.706Z"
   },
   {
    "duration": 22,
    "start_time": "2022-12-27T18:38:08.875Z"
   },
   {
    "duration": 28,
    "start_time": "2022-12-27T18:38:08.899Z"
   },
   {
    "duration": 3,
    "start_time": "2022-12-27T18:38:08.929Z"
   },
   {
    "duration": 6,
    "start_time": "2022-12-27T18:38:08.933Z"
   },
   {
    "duration": 13,
    "start_time": "2022-12-27T18:38:08.940Z"
   },
   {
    "duration": 8,
    "start_time": "2022-12-27T18:38:08.955Z"
   },
   {
    "duration": 51,
    "start_time": "2022-12-27T18:38:08.964Z"
   },
   {
    "duration": 21,
    "start_time": "2022-12-27T18:38:09.017Z"
   },
   {
    "duration": 22,
    "start_time": "2022-12-27T18:38:09.040Z"
   },
   {
    "duration": 92,
    "start_time": "2022-12-27T18:38:09.064Z"
   },
   {
    "duration": 78,
    "start_time": "2022-12-27T18:38:09.157Z"
   },
   {
    "duration": 71,
    "start_time": "2022-12-27T18:38:09.237Z"
   },
   {
    "duration": 37,
    "start_time": "2022-12-27T18:38:09.310Z"
   },
   {
    "duration": 11,
    "start_time": "2022-12-27T18:38:09.348Z"
   },
   {
    "duration": 54,
    "start_time": "2022-12-27T18:38:09.361Z"
   },
   {
    "duration": 10,
    "start_time": "2022-12-27T18:38:09.417Z"
   },
   {
    "duration": 10,
    "start_time": "2022-12-27T18:38:09.429Z"
   },
   {
    "duration": 4,
    "start_time": "2022-12-27T18:38:09.440Z"
   },
   {
    "duration": 89,
    "start_time": "2022-12-27T18:38:09.445Z"
   },
   {
    "duration": 0,
    "start_time": "2022-12-27T18:38:09.536Z"
   },
   {
    "duration": 0,
    "start_time": "2022-12-27T18:38:09.537Z"
   },
   {
    "duration": 0,
    "start_time": "2022-12-27T18:38:09.538Z"
   },
   {
    "duration": 0,
    "start_time": "2022-12-27T18:38:09.540Z"
   },
   {
    "duration": 0,
    "start_time": "2022-12-27T18:38:09.541Z"
   },
   {
    "duration": 0,
    "start_time": "2022-12-27T18:38:09.542Z"
   },
   {
    "duration": 0,
    "start_time": "2022-12-27T18:38:09.543Z"
   },
   {
    "duration": 0,
    "start_time": "2022-12-27T18:38:09.544Z"
   },
   {
    "duration": 0,
    "start_time": "2022-12-27T18:38:09.545Z"
   },
   {
    "duration": 0,
    "start_time": "2022-12-27T18:38:09.546Z"
   },
   {
    "duration": 0,
    "start_time": "2022-12-27T18:38:09.547Z"
   },
   {
    "duration": 0,
    "start_time": "2022-12-27T18:38:09.548Z"
   },
   {
    "duration": 0,
    "start_time": "2022-12-27T18:38:09.549Z"
   },
   {
    "duration": 0,
    "start_time": "2022-12-27T18:38:09.551Z"
   },
   {
    "duration": 0,
    "start_time": "2022-12-27T18:38:09.552Z"
   },
   {
    "duration": 0,
    "start_time": "2022-12-27T18:38:09.553Z"
   },
   {
    "duration": 0,
    "start_time": "2022-12-27T18:38:09.554Z"
   },
   {
    "duration": 414,
    "start_time": "2022-12-27T18:44:28.238Z"
   },
   {
    "duration": 162,
    "start_time": "2022-12-27T18:44:28.654Z"
   },
   {
    "duration": 17,
    "start_time": "2022-12-27T18:44:28.817Z"
   },
   {
    "duration": 29,
    "start_time": "2022-12-27T18:44:28.836Z"
   },
   {
    "duration": 3,
    "start_time": "2022-12-27T18:44:28.867Z"
   },
   {
    "duration": 26,
    "start_time": "2022-12-27T18:44:28.871Z"
   },
   {
    "duration": 25,
    "start_time": "2022-12-27T18:44:28.899Z"
   },
   {
    "duration": 7,
    "start_time": "2022-12-27T18:44:28.926Z"
   },
   {
    "duration": 28,
    "start_time": "2022-12-27T18:44:28.934Z"
   },
   {
    "duration": 41,
    "start_time": "2022-12-27T18:44:28.965Z"
   },
   {
    "duration": 30,
    "start_time": "2022-12-27T18:44:29.008Z"
   },
   {
    "duration": 78,
    "start_time": "2022-12-27T18:44:29.040Z"
   },
   {
    "duration": 85,
    "start_time": "2022-12-27T18:44:29.119Z"
   },
   {
    "duration": 60,
    "start_time": "2022-12-27T18:44:29.206Z"
   },
   {
    "duration": 48,
    "start_time": "2022-12-27T18:44:29.268Z"
   },
   {
    "duration": 13,
    "start_time": "2022-12-27T18:44:29.318Z"
   },
   {
    "duration": 63,
    "start_time": "2022-12-27T18:44:29.334Z"
   },
   {
    "duration": 12,
    "start_time": "2022-12-27T18:44:29.399Z"
   },
   {
    "duration": 11,
    "start_time": "2022-12-27T18:44:29.413Z"
   },
   {
    "duration": 4,
    "start_time": "2022-12-27T18:44:29.426Z"
   },
   {
    "duration": 32,
    "start_time": "2022-12-27T18:44:29.431Z"
   },
   {
    "duration": 40,
    "start_time": "2022-12-27T18:44:29.465Z"
   },
   {
    "duration": 20,
    "start_time": "2022-12-27T18:44:29.507Z"
   },
   {
    "duration": 16,
    "start_time": "2022-12-27T18:44:29.529Z"
   },
   {
    "duration": 17,
    "start_time": "2022-12-27T18:44:29.546Z"
   },
   {
    "duration": 23,
    "start_time": "2022-12-27T18:44:29.597Z"
   },
   {
    "duration": 8,
    "start_time": "2022-12-27T18:44:29.622Z"
   },
   {
    "duration": 23,
    "start_time": "2022-12-27T18:44:29.634Z"
   },
   {
    "duration": 12,
    "start_time": "2022-12-27T18:44:29.660Z"
   },
   {
    "duration": 23,
    "start_time": "2022-12-27T18:44:29.674Z"
   },
   {
    "duration": 35,
    "start_time": "2022-12-27T18:44:29.699Z"
   },
   {
    "duration": 17,
    "start_time": "2022-12-27T18:44:29.736Z"
   },
   {
    "duration": 41,
    "start_time": "2022-12-27T18:44:29.757Z"
   },
   {
    "duration": 18,
    "start_time": "2022-12-27T18:44:29.800Z"
   },
   {
    "duration": 11,
    "start_time": "2022-12-27T18:44:29.820Z"
   },
   {
    "duration": 6,
    "start_time": "2022-12-27T18:44:29.833Z"
   },
   {
    "duration": 12,
    "start_time": "2022-12-27T18:44:29.842Z"
   },
   {
    "duration": 13,
    "start_time": "2022-12-27T18:44:29.857Z"
   },
   {
    "duration": 48,
    "start_time": "2022-12-27T18:51:59.406Z"
   },
   {
    "duration": 46,
    "start_time": "2022-12-27T18:52:25.091Z"
   },
   {
    "duration": 46,
    "start_time": "2022-12-27T18:53:32.385Z"
   },
   {
    "duration": 52,
    "start_time": "2022-12-27T18:53:56.346Z"
   },
   {
    "duration": 45,
    "start_time": "2022-12-27T18:57:20.701Z"
   },
   {
    "duration": 9,
    "start_time": "2022-12-27T18:58:39.457Z"
   },
   {
    "duration": 6,
    "start_time": "2022-12-27T19:20:31.145Z"
   },
   {
    "duration": 6,
    "start_time": "2022-12-27T19:20:36.541Z"
   },
   {
    "duration": 403,
    "start_time": "2022-12-27T19:20:47.293Z"
   },
   {
    "duration": 165,
    "start_time": "2022-12-27T19:20:47.698Z"
   },
   {
    "duration": 17,
    "start_time": "2022-12-27T19:20:47.866Z"
   },
   {
    "duration": 42,
    "start_time": "2022-12-27T19:20:47.896Z"
   },
   {
    "duration": 6,
    "start_time": "2022-12-27T19:20:47.940Z"
   },
   {
    "duration": 15,
    "start_time": "2022-12-27T19:20:47.948Z"
   },
   {
    "duration": 16,
    "start_time": "2022-12-27T19:20:47.965Z"
   },
   {
    "duration": 13,
    "start_time": "2022-12-27T19:20:47.983Z"
   },
   {
    "duration": 36,
    "start_time": "2022-12-27T19:20:47.998Z"
   },
   {
    "duration": 22,
    "start_time": "2022-12-27T19:20:48.036Z"
   },
   {
    "duration": 38,
    "start_time": "2022-12-27T19:20:48.059Z"
   },
   {
    "duration": 82,
    "start_time": "2022-12-27T19:20:48.100Z"
   },
   {
    "duration": 81,
    "start_time": "2022-12-27T19:20:48.200Z"
   },
   {
    "duration": 78,
    "start_time": "2022-12-27T19:20:48.283Z"
   },
   {
    "duration": 48,
    "start_time": "2022-12-27T19:20:48.363Z"
   },
   {
    "duration": 14,
    "start_time": "2022-12-27T19:20:48.414Z"
   },
   {
    "duration": 37,
    "start_time": "2022-12-27T19:20:48.430Z"
   },
   {
    "duration": 43,
    "start_time": "2022-12-27T19:20:48.469Z"
   },
   {
    "duration": 11,
    "start_time": "2022-12-27T19:20:48.514Z"
   },
   {
    "duration": 4,
    "start_time": "2022-12-27T19:20:48.526Z"
   },
   {
    "duration": 26,
    "start_time": "2022-12-27T19:20:48.532Z"
   },
   {
    "duration": 40,
    "start_time": "2022-12-27T19:20:48.559Z"
   },
   {
    "duration": 22,
    "start_time": "2022-12-27T19:20:48.601Z"
   },
   {
    "duration": 15,
    "start_time": "2022-12-27T19:20:48.625Z"
   },
   {
    "duration": 17,
    "start_time": "2022-12-27T19:20:48.642Z"
   },
   {
    "duration": 54,
    "start_time": "2022-12-27T19:20:48.660Z"
   },
   {
    "duration": 10,
    "start_time": "2022-12-27T19:20:48.717Z"
   },
   {
    "duration": 15,
    "start_time": "2022-12-27T19:20:48.728Z"
   },
   {
    "duration": 10,
    "start_time": "2022-12-27T19:20:48.745Z"
   },
   {
    "duration": 5,
    "start_time": "2022-12-27T19:20:48.756Z"
   },
   {
    "duration": 46,
    "start_time": "2022-12-27T19:20:48.763Z"
   },
   {
    "duration": 13,
    "start_time": "2022-12-27T19:20:48.811Z"
   },
   {
    "duration": 19,
    "start_time": "2022-12-27T19:20:48.827Z"
   },
   {
    "duration": 12,
    "start_time": "2022-12-27T19:20:48.848Z"
   },
   {
    "duration": 36,
    "start_time": "2022-12-27T19:20:48.862Z"
   },
   {
    "duration": 10,
    "start_time": "2022-12-27T19:20:48.903Z"
   },
   {
    "duration": 12,
    "start_time": "2022-12-27T19:20:48.916Z"
   },
   {
    "duration": 8,
    "start_time": "2022-12-27T19:20:48.929Z"
   },
   {
    "duration": 5,
    "start_time": "2022-12-27T19:21:02.683Z"
   },
   {
    "duration": 452,
    "start_time": "2022-12-27T19:21:09.978Z"
   },
   {
    "duration": 187,
    "start_time": "2022-12-27T19:21:10.432Z"
   },
   {
    "duration": 20,
    "start_time": "2022-12-27T19:21:10.622Z"
   },
   {
    "duration": 28,
    "start_time": "2022-12-27T19:21:10.644Z"
   },
   {
    "duration": 22,
    "start_time": "2022-12-27T19:21:10.674Z"
   },
   {
    "duration": 6,
    "start_time": "2022-12-27T19:21:10.700Z"
   },
   {
    "duration": 24,
    "start_time": "2022-12-27T19:21:10.709Z"
   },
   {
    "duration": 5,
    "start_time": "2022-12-27T19:21:10.735Z"
   },
   {
    "duration": 34,
    "start_time": "2022-12-27T19:21:10.742Z"
   },
   {
    "duration": 36,
    "start_time": "2022-12-27T19:21:10.805Z"
   },
   {
    "duration": 35,
    "start_time": "2022-12-27T19:21:10.843Z"
   },
   {
    "duration": 91,
    "start_time": "2022-12-27T19:21:10.880Z"
   },
   {
    "duration": 90,
    "start_time": "2022-12-27T19:21:10.973Z"
   },
   {
    "duration": 83,
    "start_time": "2022-12-27T19:21:11.066Z"
   },
   {
    "duration": 35,
    "start_time": "2022-12-27T19:21:11.150Z"
   },
   {
    "duration": 21,
    "start_time": "2022-12-27T19:21:11.200Z"
   },
   {
    "duration": 36,
    "start_time": "2022-12-27T19:21:11.223Z"
   },
   {
    "duration": 37,
    "start_time": "2022-12-27T19:21:11.261Z"
   },
   {
    "duration": 14,
    "start_time": "2022-12-27T19:21:11.300Z"
   },
   {
    "duration": 5,
    "start_time": "2022-12-27T19:21:11.316Z"
   },
   {
    "duration": 24,
    "start_time": "2022-12-27T19:21:11.322Z"
   },
   {
    "duration": 14,
    "start_time": "2022-12-27T19:21:11.348Z"
   },
   {
    "duration": 43,
    "start_time": "2022-12-27T19:21:11.363Z"
   },
   {
    "duration": 16,
    "start_time": "2022-12-27T19:21:11.412Z"
   },
   {
    "duration": 15,
    "start_time": "2022-12-27T19:21:11.429Z"
   },
   {
    "duration": 14,
    "start_time": "2022-12-27T19:21:11.445Z"
   },
   {
    "duration": 37,
    "start_time": "2022-12-27T19:21:11.461Z"
   },
   {
    "duration": 14,
    "start_time": "2022-12-27T19:21:11.499Z"
   },
   {
    "duration": 13,
    "start_time": "2022-12-27T19:21:11.515Z"
   },
   {
    "duration": 5,
    "start_time": "2022-12-27T19:21:11.530Z"
   },
   {
    "duration": 25,
    "start_time": "2022-12-27T19:21:11.537Z"
   },
   {
    "duration": 38,
    "start_time": "2022-12-27T19:21:11.564Z"
   },
   {
    "duration": 27,
    "start_time": "2022-12-27T19:21:11.604Z"
   },
   {
    "duration": 13,
    "start_time": "2022-12-27T19:21:11.633Z"
   },
   {
    "duration": 8,
    "start_time": "2022-12-27T19:21:11.648Z"
   },
   {
    "duration": 5,
    "start_time": "2022-12-27T19:21:11.657Z"
   },
   {
    "duration": 42,
    "start_time": "2022-12-27T19:21:11.664Z"
   },
   {
    "duration": 11,
    "start_time": "2022-12-27T19:21:11.708Z"
   },
   {
    "duration": 8,
    "start_time": "2022-12-27T19:22:16.557Z"
   },
   {
    "duration": 7,
    "start_time": "2022-12-27T19:22:20.316Z"
   },
   {
    "duration": 6,
    "start_time": "2022-12-27T19:22:49.789Z"
   },
   {
    "duration": 5,
    "start_time": "2022-12-27T19:22:53.140Z"
   },
   {
    "duration": 8,
    "start_time": "2022-12-27T19:22:57.513Z"
   },
   {
    "duration": 5,
    "start_time": "2022-12-27T19:23:29.991Z"
   },
   {
    "duration": 12,
    "start_time": "2022-12-27T19:23:33.905Z"
   },
   {
    "duration": 13,
    "start_time": "2022-12-27T19:23:41.810Z"
   },
   {
    "duration": 5,
    "start_time": "2022-12-27T19:23:44.324Z"
   },
   {
    "duration": 10,
    "start_time": "2023-02-08T21:14:53.287Z"
   }
  ],
  "colab": {
   "collapsed_sections": [
    "E0vqbgi9ay0H",
    "VUC88oWjTJw2"
   ],
   "name": "automatization_template_upd4.ipynb",
   "provenance": []
  },
  "kernelspec": {
   "display_name": "Python 3 (ipykernel)",
   "language": "python",
   "name": "python3"
  },
  "language_info": {
   "codemirror_mode": {
    "name": "ipython",
    "version": 3
   },
   "file_extension": ".py",
   "mimetype": "text/x-python",
   "name": "python",
   "nbconvert_exporter": "python",
   "pygments_lexer": "ipython3",
   "version": "3.9.5"
  },
  "toc": {
   "base_numbering": 1,
   "nav_menu": {
    "height": "215px",
    "width": "403px"
   },
   "number_sections": true,
   "sideBar": true,
   "skip_h1_title": true,
   "title_cell": "Table of Contents",
   "title_sidebar": "Contents",
   "toc_cell": false,
   "toc_position": {
    "height": "calc(100% - 180px)",
    "left": "10px",
    "top": "150px",
    "width": "285.825px"
   },
   "toc_section_display": true,
   "toc_window_display": false
  }
 },
 "nbformat": 4,
 "nbformat_minor": 1
}
